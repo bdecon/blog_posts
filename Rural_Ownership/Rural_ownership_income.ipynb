{
 "cells": [
  {
   "cell_type": "markdown",
   "metadata": {},
   "source": [
    "### Rural ownership income\n",
    "\n",
    "January 26, 2019\n",
    "\n",
    "Brian Dew, @bd_econ"
   ]
  },
  {
   "cell_type": "code",
   "execution_count": 1,
   "metadata": {
    "ExecuteTime": {
     "end_time": "2018-12-31T05:07:23.603549Z",
     "start_time": "2018-12-31T05:07:19.973696Z"
    }
   },
   "outputs": [
    {
     "data": {
      "text/plain": [
       "<matplotlib.axes._subplots.AxesSubplot at 0x7fefd2321390>"
      ]
     },
     "execution_count": 1,
     "metadata": {},
     "output_type": "execute_result"
    },
    {
     "data": {
      "image/png": "[encoded data removed]",
      "text/plain": [
       "<Figure size 432x288 with 1 Axes>"
      ]
     },
     "metadata": {
      "needs_background": "light"
     },
     "output_type": "display_data"
    }
   ],
   "source": [
    "# Import packages\n",
    "import pandas as pd\n",
    "import numpy as np\n",
    "import re, os, wquantiles\n",
    "\n",
    "os.chdir('/home/brian/Documents/ASEC')\n",
    "\n",
    "datafile = 'data/asec2018_pubuse.dat'\n",
    "datadict = 'data/08ASEC2018_Data_Dict_Full.txt'\n",
    "\n",
    "dd = open(datadict, 'r', encoding='iso-8859-1').read()\n",
    "\n",
    "# Retrieve column info from dictionary\n",
    "p = re.compile('D (\\w+\\-?\\w+?)\\s+(\\d{1,2})\\s+(\\d+)\\s+')\n",
    "var_key = pd.DataFrame(p.findall(dd), columns=['Var', 'Len', 'Loc'])\n",
    "var_key = var_key.apply(pd.to_numeric, errors='ignore')\n",
    "\n",
    "# List of variables of interest to be extracted from full file\n",
    "s = ['HRECORD', 'HDIVVAL', 'HINTVAL', 'HRNTVAL', 'HTOTVAL',\n",
    "     'HSUP_WGT', 'H_NUMPER', 'HUNDER15', 'GTMETSTA']\n",
    "s_key = var_key[var_key['Var'].isin(s)]\n",
    "\n",
    "# Read raw fwf file\n",
    "data = (pd.read_fwf(datafile, header=None, names=list(s_key.Var),\n",
    "                 colspecs=list(zip(s_key.Loc-1, s_key.Loc + s_key.Len-1)))\n",
    "          .query('HRECORD == 1 and HSUP_WGT > 0 and HUNDER15 > 0'))\n",
    "\n",
    "data['AssetIncPP'] = ((data['HINTVAL'].astype('int') +\n",
    "                       data['HDIVVAL'] +\n",
    "                       data['HRNTVAL'].astype(int)) /\n",
    "                      data['HUNDER15'])\n",
    "\n",
    "pts = np.arange(0.6, 0.85, 0.01)\n",
    "data_rural = data[data['GTMETSTA']==2]['AssetIncPP'].quantile(pts)\n",
    "data_metro = data[data['GTMETSTA']==1]['AssetIncPP'].quantile(pts)\n",
    "\n",
    "%matplotlib inline\n",
    "pd.concat([data_rural, data_metro], axis=1).plot()\n"
   ]
  },
  {
   "cell_type": "code",
   "execution_count": null,
   "metadata": {},
   "outputs": [],
   "source": []
  },
  {
   "cell_type": "code",
   "execution_count": null,
   "metadata": {},
   "outputs": [],
   "source": []
  }
 ],
 "metadata": {
  "kernelspec": {
   "display_name": "Python 3",
   "language": "python",
   "name": "python3"
  },
  "language_info": {
   "codemirror_mode": {
    "name": "ipython",
    "version": 3
   },
   "file_extension": ".py",
   "mimetype": "text/x-python",
   "name": "python",
   "nbconvert_exporter": "python",
   "pygments_lexer": "ipython3",
   "version": "3.7.2"
  }
 },
 "nbformat": 4,
 "nbformat_minor": 2
}
