{
 "cells": [
  {
   "cell_type": "markdown",
   "metadata": {},
   "source": [
    "### Teacher protests and wages \n",
    "-----\n",
    "\n",
    "*Update: May 20, 2018*<br>\n",
    "*Brian Dew*<br>\n",
    "*@bd_econ*\n",
    "\n",
    "Originally published on bd econ blog, [here](https://briandew.wordpress.com/2018/05/22/sawing-off-the-top-of-a-step-ladder/)."
   ]
  },
  {
   "cell_type": "markdown",
   "metadata": {},
   "source": [
    "### Import preliminaries"
   ]
  },
  {
   "cell_type": "code",
   "execution_count": 66,
   "metadata": {
    "ExecuteTime": {
     "end_time": "2018-05-22T12:41:07.408171Z",
     "start_time": "2018-05-22T12:41:07.392545Z"
    },
    "code_folding": []
   },
   "outputs": [
    {
     "name": "stdout",
     "output_type": "stream",
     "text": [
      "pandas 0.23.0\n"
     ]
    }
   ],
   "source": [
    "# Import packages\n",
    "import pandas as pd\n",
    "print(f'pandas {pd.__version__}')\n",
    "import numpy as np\n",
    "import re, wquantiles\n",
    "\n",
    "import matplotlib as mpl\n",
    "import matplotlib.pyplot as plt\n",
    "plt.style.use('seaborn-white')\n",
    "mpl.rc('axes', edgecolor='white') # Hide the axes\n",
    "mpl.rc('figure', figsize=[9, 7])\n",
    "plt.rc('axes', axisbelow=True)"
   ]
  },
  {
   "cell_type": "markdown",
   "metadata": {},
   "source": [
    "### Parameters"
   ]
  },
  {
   "cell_type": "code",
   "execution_count": 2,
   "metadata": {
    "ExecuteTime": {
     "end_time": "2018-05-22T00:17:11.475804Z",
     "start_time": "2018-05-22T00:17:11.471806Z"
    }
   },
   "outputs": [],
   "source": [
    "files = [('data/asec2007_pubuse_tax2.dat', 'data/cpsmar07.ddf', 2006),\n",
    "         ('data/asec2017_pubuse.dat', 'data/08ASEC2017_Data_Dict_Full.txt', 2016)]\n",
    "\n",
    "cpi =  1.19075"
   ]
  },
  {
   "cell_type": "markdown",
   "metadata": {},
   "source": [
    "### Loop over files and create summary statistics"
   ]
  },
  {
   "cell_type": "code",
   "execution_count": 3,
   "metadata": {
    "ExecuteTime": {
     "end_time": "2018-05-22T00:17:48.106975Z",
     "start_time": "2018-05-22T00:17:11.478803Z"
    },
    "code_folding": []
   },
   "outputs": [
    {
     "name": "stderr",
     "output_type": "stream",
     "text": [
      "C:\\Users\\BDew\\Anaconda3\\lib\\site-packages\\ipykernel_launcher.py:45: SettingWithCopyWarning: \n",
      "A value is trying to be set on a copy of a slice from a DataFrame.\n",
      "Try using .loc[row_indexer,col_indexer] = value instead\n",
      "\n",
      "See the caveats in the documentation: http://pandas.pydata.org/pandas-docs/stable/indexing.html#indexing-view-versus-copy\n"
     ]
    }
   ],
   "source": [
    "# Blank dataframe to return with summary statistics\n",
    "stats = pd.DataFrame()\n",
    "\n",
    "for file in files:\n",
    "    # Raw data from Census FTP site\n",
    "    datafile = file[0]\n",
    "\n",
    "    # Data dictionary\n",
    "    dd_txt = file[1]\n",
    "    dd = open(dd_txt, 'r', encoding='iso-8859-1').read()\n",
    "\n",
    "    # Retrieve column info from dictionary\n",
    "    p = re.compile('D (\\w+\\-?\\w+?)\\s+(\\d{1,2})\\s+(\\d+)\\s+')\n",
    "    var_key = pd.DataFrame(p.findall(dd), columns=['Var', 'Len', 'Loc'])\n",
    "    var_key = var_key.apply(pd.to_numeric, errors='ignore')\n",
    "\n",
    "    # List of variables of interest to be extracted from full file\n",
    "    s = ['A_AGE', 'A_SEX', 'MARSUPWT', 'PRECORD', 'WEWKRS', 'WSAL_VAL', \n",
    "         'HRSWK', 'GESTFIPS', 'PEIOOCC', 'WKSWORK', 'A_CLSWKR',\n",
    "         'PEMOMTYP', 'PEDADTYP', 'ERN_VAL', 'A-AGE', 'A-SEX', 'WSAL-VAL',\n",
    "         'A-CLSWKR', 'ERN-VAL']\n",
    "    s_key = var_key[var_key['Var'].isin(s)]\n",
    "\n",
    "    # Read raw fwf file\n",
    "    data = pd.read_fwf(datafile, header=None, names=list(s_key.Var),\n",
    "                     colspecs=list(zip(s_key.Loc-1, s_key.Loc + s_key.Len-1)))\n",
    "\n",
    "    # Calculate annual hours (weeks * (hours/week))\n",
    "    data['ANN_HRS'] = data['WKSWORK'] * data['HRSWK']\n",
    "    \n",
    "    # States filled in (blank in early year person records)\n",
    "    if file[2] == 2006:\n",
    "        data['GESTFIPS'] = data['GESTFIPS'].replace(to_replace=0, method='ffill')\n",
    "        # Rename columns to later year variable format\n",
    "        data.columns = data.columns.str.replace('-', '_')\n",
    "        \n",
    "    if file[2] == 2016:\n",
    "        data['State'] = [d[1]['GESTFIPS'] if d[1]['PRECORD'] == 1 else 0 for d in data.iterrows()]\n",
    "        data['GESTFIPS'] = data['State'].replace(to_replace=0, method='ffill')\n",
    "\n",
    "    # Keep person records with wage data & 80+ hours worked \n",
    "    df = data.loc[(data['PRECORD'] == 3)]\n",
    "\n",
    "    # Convert weight variable to float\n",
    "    df['MARSUPWT'] = df['MARSUPWT'].astype(float)\n",
    "\n",
    "    # Keep only observations with a weight > 0\n",
    "    df = df[df['MARSUPWT'] > 0]\n",
    "    \n",
    "    # Hourly wage\n",
    "    df['HRLY_WAGE'] = df['ERN_VAL'] / df['ANN_HRS']\n",
    "\n",
    "    # Identify public school teachers working 3/4 year or more\n",
    "    pt = df[(df['PEIOOCC'].between(2200,2340)) & \n",
    "            (df['A_CLSWKR'].between(3,5)) & \n",
    "            (df['ANN_HRS'] >= 1365) & \n",
    "            (df['A_AGE'].between(25, 54))]\n",
    "\n",
    "    # Identify subset in WV, OK, AZ, KY, NC, and CO\n",
    "    pt2 = pt[pt['GESTFIPS'].isin([54, 40, 4, 21, 37, 8])]\n",
    "\n",
    "    for g in [(pt, 'All States'), (pt2, 'Active States')]:\n",
    "        for p in [0.1, 0.25, 0.5, 0.75, 0.9]:\n",
    "            if file[2] == 2006:\n",
    "                stats.at[f'p{int(p * 100)}, wage', f'{g[1]}, {file[2]}'] = round(wquantiles.quantile(\n",
    "                    g[0]['ERN_VAL'], g[0]['MARSUPWT'], p) * cpi, 2)\n",
    "            else:\n",
    "                stats.at[f'p{int(p * 100)}, wage', f'{g[1]}, {file[2]}'] = round(wquantiles.quantile(\n",
    "                    g[0]['ERN_VAL'], g[0]['MARSUPWT'], p), 2)\n",
    "        tmp = g[0][g[0]['ERN_VAL'] > 0]\n",
    "        if file[2] == 2006:\n",
    "            stats.at[f'Mean', f'{g[1]}, {file[2]}'] = round(np.average(\n",
    "                     tmp['ERN_VAL'], weights=tmp['MARSUPWT']) * 1.19075, 2)\n",
    "        else:\n",
    "            stats.at[f'Mean', f'{g[1]}, {file[2]}'] = round(np.average(\n",
    "                     tmp['ERN_VAL'], weights=tmp['MARSUPWT']), 2)\n",
    "            \n",
    "        stats.at['n', f'{g[1]}, {file[2]}'] = len(g[0])\n",
    "        \n",
    "        stats.at['Weighed n', f'{g[1]}, {file[2]}'] = round(g[0]['MARSUPWT'].sum() / 100.0, -2)"
   ]
  },
  {
   "cell_type": "code",
   "execution_count": 18,
   "metadata": {
    "ExecuteTime": {
     "end_time": "2018-05-22T11:31:04.582941Z",
     "start_time": "2018-05-22T11:31:04.567324Z"
    }
   },
   "outputs": [
    {
     "data": {
      "text/html": [
       "<div>\n",
       "<style scoped>\n",
       "    .dataframe tbody tr th:only-of-type {\n",
       "        vertical-align: middle;\n",
       "    }\n",
       "\n",
       "    .dataframe tbody tr th {\n",
       "        vertical-align: top;\n",
       "    }\n",
       "\n",
       "    .dataframe thead th {\n",
       "        text-align: right;\n",
       "    }\n",
       "</style>\n",
       "<table border=\"1\" class=\"dataframe\">\n",
       "  <thead>\n",
       "    <tr style=\"text-align: right;\">\n",
       "      <th></th>\n",
       "      <th>All States, 2006</th>\n",
       "      <th>Active States, 2006</th>\n",
       "      <th>All States, 2016</th>\n",
       "      <th>Active States, 2016</th>\n",
       "    </tr>\n",
       "  </thead>\n",
       "  <tbody>\n",
       "    <tr>\n",
       "      <th>p10, wage</th>\n",
       "      <td>10.52</td>\n",
       "      <td>9.23</td>\n",
       "      <td>12.02</td>\n",
       "      <td>11.97</td>\n",
       "    </tr>\n",
       "    <tr>\n",
       "      <th>p25, wage</th>\n",
       "      <td>17.01</td>\n",
       "      <td>14.47</td>\n",
       "      <td>17.50</td>\n",
       "      <td>15.64</td>\n",
       "    </tr>\n",
       "    <tr>\n",
       "      <th>p50, wage</th>\n",
       "      <td>22.90</td>\n",
       "      <td>20.04</td>\n",
       "      <td>23.60</td>\n",
       "      <td>20.51</td>\n",
       "    </tr>\n",
       "    <tr>\n",
       "      <th>p75, wage</th>\n",
       "      <td>31.49</td>\n",
       "      <td>26.20</td>\n",
       "      <td>31.25</td>\n",
       "      <td>25.67</td>\n",
       "    </tr>\n",
       "    <tr>\n",
       "      <th>p90, wage</th>\n",
       "      <td>40.93</td>\n",
       "      <td>37.95</td>\n",
       "      <td>43.27</td>\n",
       "      <td>34.98</td>\n",
       "    </tr>\n",
       "    <tr>\n",
       "      <th>Mean</th>\n",
       "      <td>24.47</td>\n",
       "      <td>21.38</td>\n",
       "      <td>27.11</td>\n",
       "      <td>24.07</td>\n",
       "    </tr>\n",
       "    <tr>\n",
       "      <th>n</th>\n",
       "      <td>2594.00</td>\n",
       "      <td>222.00</td>\n",
       "      <td>2191.00</td>\n",
       "      <td>215.00</td>\n",
       "    </tr>\n",
       "    <tr>\n",
       "      <th>Weighed n</th>\n",
       "      <td>3570300.00</td>\n",
       "      <td>330700.00</td>\n",
       "      <td>3577900.00</td>\n",
       "      <td>344500.00</td>\n",
       "    </tr>\n",
       "  </tbody>\n",
       "</table>\n",
       "</div>"
      ],
      "text/plain": [
       "           All States, 2006  Active States, 2006  All States, 2016  \\\n",
       "p10, wage             10.52                 9.23             12.02   \n",
       "p25, wage             17.01                14.47             17.50   \n",
       "p50, wage             22.90                20.04             23.60   \n",
       "p75, wage             31.49                26.20             31.25   \n",
       "p90, wage             40.93                37.95             43.27   \n",
       "Mean                  24.47                21.38             27.11   \n",
       "n                   2594.00               222.00           2191.00   \n",
       "Weighed n        3570300.00            330700.00        3577900.00   \n",
       "\n",
       "           Active States, 2016  \n",
       "p10, wage                11.97  \n",
       "p25, wage                15.64  \n",
       "p50, wage                20.51  \n",
       "p75, wage                25.67  \n",
       "p90, wage                34.98  \n",
       "Mean                     24.07  \n",
       "n                       215.00  \n",
       "Weighed n            344500.00  "
      ]
     },
     "execution_count": 18,
     "metadata": {},
     "output_type": "execute_result"
    }
   ],
   "source": [
    "to_plot = stats.iloc[:-2].T.sort_index(ascending=True)\n",
    "stats"
   ]
  },
  {
   "cell_type": "code",
   "execution_count": 20,
   "metadata": {
    "ExecuteTime": {
     "end_time": "2018-05-22T11:32:05.106261Z",
     "start_time": "2018-05-22T11:32:05.075013Z"
    }
   },
   "outputs": [
    {
     "data": {
      "text/html": [
       "<div>\n",
       "<style scoped>\n",
       "    .dataframe tbody tr th:only-of-type {\n",
       "        vertical-align: middle;\n",
       "    }\n",
       "\n",
       "    .dataframe tbody tr th {\n",
       "        vertical-align: top;\n",
       "    }\n",
       "\n",
       "    .dataframe thead th {\n",
       "        text-align: right;\n",
       "    }\n",
       "</style>\n",
       "<table border=\"1\" class=\"dataframe\">\n",
       "  <thead>\n",
       "    <tr style=\"text-align: right;\">\n",
       "      <th></th>\n",
       "      <th>p10, wage</th>\n",
       "      <th>p25, wage</th>\n",
       "      <th>p50, wage</th>\n",
       "      <th>p75, wage</th>\n",
       "      <th>p90, wage</th>\n",
       "      <th>Mean</th>\n",
       "    </tr>\n",
       "  </thead>\n",
       "  <tbody>\n",
       "    <tr>\n",
       "      <th>Active States, 2006</th>\n",
       "      <td>9.23</td>\n",
       "      <td>14.47</td>\n",
       "      <td>20.04</td>\n",
       "      <td>26.20</td>\n",
       "      <td>37.95</td>\n",
       "      <td>21.38</td>\n",
       "    </tr>\n",
       "    <tr>\n",
       "      <th>Active States, 2016</th>\n",
       "      <td>11.97</td>\n",
       "      <td>15.64</td>\n",
       "      <td>20.51</td>\n",
       "      <td>25.67</td>\n",
       "      <td>34.98</td>\n",
       "      <td>24.07</td>\n",
       "    </tr>\n",
       "    <tr>\n",
       "      <th>All States, 2006</th>\n",
       "      <td>10.52</td>\n",
       "      <td>17.01</td>\n",
       "      <td>22.90</td>\n",
       "      <td>31.49</td>\n",
       "      <td>40.93</td>\n",
       "      <td>24.47</td>\n",
       "    </tr>\n",
       "    <tr>\n",
       "      <th>All States, 2016</th>\n",
       "      <td>12.02</td>\n",
       "      <td>17.50</td>\n",
       "      <td>23.60</td>\n",
       "      <td>31.25</td>\n",
       "      <td>43.27</td>\n",
       "      <td>27.11</td>\n",
       "    </tr>\n",
       "  </tbody>\n",
       "</table>\n",
       "</div>"
      ],
      "text/plain": [
       "                     p10, wage  p25, wage  p50, wage  p75, wage  p90, wage  \\\n",
       "Active States, 2006       9.23      14.47      20.04      26.20      37.95   \n",
       "Active States, 2016      11.97      15.64      20.51      25.67      34.98   \n",
       "All States, 2006         10.52      17.01      22.90      31.49      40.93   \n",
       "All States, 2016         12.02      17.50      23.60      31.25      43.27   \n",
       "\n",
       "                      Mean  \n",
       "Active States, 2006  21.38  \n",
       "Active States, 2016  24.07  \n",
       "All States, 2006     24.47  \n",
       "All States, 2016     27.11  "
      ]
     },
     "execution_count": 20,
     "metadata": {},
     "output_type": "execute_result"
    }
   ],
   "source": [
    "to_plot"
   ]
  },
  {
   "cell_type": "code",
   "execution_count": 39,
   "metadata": {
    "ExecuteTime": {
     "end_time": "2018-05-22T12:10:43.147588Z",
     "start_time": "2018-05-22T12:10:43.131963Z"
    }
   },
   "outputs": [
    {
     "data": {
      "text/plain": [
       "[None, None, None, None, None, None, None, None]"
      ]
     },
     "execution_count": 39,
     "metadata": {},
     "output_type": "execute_result"
    }
   ],
   "source": [
    "plt.setp(bp['boxes'], color='blue')\n",
    "plt.setp(bp['whiskers'], color='blue')"
   ]
  },
  {
   "cell_type": "code",
   "execution_count": 92,
   "metadata": {
    "ExecuteTime": {
     "end_time": "2018-05-22T12:52:18.785059Z",
     "start_time": "2018-05-22T12:52:18.331945Z"
    }
   },
   "outputs": [
    {
     "name": "stderr",
     "output_type": "stream",
     "text": [
      "C:\\Users\\BDew\\Anaconda3\\lib\\site-packages\\matplotlib\\patches.py:83: UserWarning: Setting the 'color' property will overridethe edgecolor or facecolor properties. \n",
      "  warnings.warn(\"Setting the 'color' property will override\"\n",
      "C:\\Users\\BDew\\Anaconda3\\lib\\site-packages\\matplotlib\\patches.py:83: UserWarning: Setting the 'color' property will overridethe edgecolor or facecolor properties. \n",
      "  warnings.warn(\"Setting the 'color' property will override\"\n",
      "C:\\Users\\BDew\\Anaconda3\\lib\\site-packages\\matplotlib\\patches.py:83: UserWarning: Setting the 'color' property will overridethe edgecolor or facecolor properties. \n",
      "  warnings.warn(\"Setting the 'color' property will override\"\n",
      "C:\\Users\\BDew\\Anaconda3\\lib\\site-packages\\matplotlib\\patches.py:83: UserWarning: Setting the 'color' property will overridethe edgecolor or facecolor properties. \n",
      "  warnings.warn(\"Setting the 'color' property will override\"\n"
     ]
    },
    {
     "data": {
      "image/png": "[encoded data removed]",
      "text/plain": [
       "<Figure size 648x504 with 1 Axes>"
      ]
     },
     "metadata": {},
     "output_type": "display_data"
    }
   ],
   "source": [
    "plt.setp(bp['boxes'], color='blue')\n",
    "plt.setp(bp['whiskers'], color='blue')\n",
    "\n",
    "item = {}\n",
    "\n",
    "item[\"label\"] = '2006' # not required\n",
    "item[\"mean\"] = 24.47 # not required\n",
    "item[\"med\"] = 22.90\n",
    "item[\"q1\"] = 17.01\n",
    "item[\"q3\"] = 31.49\n",
    "item[\"whislo\"] = 10.52 # required\n",
    "item[\"whishi\"] = 40.93 # required\n",
    "item[\"fliers\"] = [] # required if showfliers=True\n",
    "item['facecolor'] = 'red'\n",
    "\n",
    "item2 = {}\n",
    "\n",
    "item2[\"label\"] = '2016' # not required\n",
    "item2[\"mean\"] = 27.11 # not required\n",
    "item2[\"med\"] = 23.60\n",
    "item2[\"q1\"] = 17.50\n",
    "item2[\"q3\"] = 31.25\n",
    "item2[\"whislo\"] = 12.2 # required\n",
    "item2[\"whishi\"] = 43.27 # required\n",
    "item2[\"fliers\"] = [] # required if showfliers=True\n",
    "\n",
    "item3 = {}\n",
    "\n",
    "item3[\"label\"] = '2006' # not required\n",
    "item3[\"mean\"] = 21.38 # not required\n",
    "item3[\"med\"] = 20.04\n",
    "item3[\"q1\"] = 14.47\n",
    "item3[\"q3\"] = 26.20\n",
    "item3[\"whislo\"] = 9.23 # required\n",
    "item3[\"whishi\"] = 37.95 # required\n",
    "item3[\"fliers\"] = [] # required if showfliers=True\n",
    "\n",
    "item4 = {}\n",
    "\n",
    "item4[\"label\"] = '2016' # not required\n",
    "item4[\"mean\"] = 24.07 # not required\n",
    "item4[\"med\"] = 20.51\n",
    "item4[\"q1\"] = 15.64\n",
    "item4[\"q3\"] = 25.67\n",
    "item4[\"whislo\"] = 11.97 # required\n",
    "item4[\"whishi\"] = 34.98 # required\n",
    "item4[\"fliers\"] = [] # required if showfliers=True\n",
    "\n",
    "stats = [item, item2, item3, item4]\n",
    "\n",
    "boxprops = dict(color='purple')\n",
    "medianprops = dict(linewidth=2, color='white')\n",
    "whiskerprops = dict(color='purple')\n",
    "capprops = dict(color='purple')\n",
    "meanpointprops = dict(marker='D', markersize=10)\n",
    "\n",
    "fig, axes = plt.subplots(1, 1)\n",
    "axes.bxp(stats, patch_artist=True, showmeans=True, \n",
    "         medianprops=medianprops, boxprops=boxprops,\n",
    "         whiskerprops=whiskerprops, capprops=capprops,\n",
    "         meanprops=meanpointprops)\n",
    "axes.set_title('Public School Teacher Real Hourly Wages, 2016 USD', fontsize=18)\n",
    "axes.yaxis.grid(True, linestyle='-', which='major', color='lightgrey',\n",
    "               alpha=0.5)\n",
    "axes.set_ylim(1, 49)\n",
    "plt.axvline(x=2.5, color='gray')\n",
    "plt.annotate('All states', (1.25, 5), size=15)\n",
    "\n",
    "plt.annotate('Protest states', (3.15, 5), size=15)\n",
    "\n",
    "plt.annotate('$40.93', (1, 42), size=12, ha='center')\n",
    "plt.annotate('$43.27', (2, 44.5), size=12, ha='center')\n",
    "plt.annotate('$37.95', (3, 39), size=12, ha='center')\n",
    "plt.annotate('$34.98', (4, 36), size=12, ha='center')\n",
    "\n",
    "plt.xlabel('Source: Current Population Survey ASEC microdata, adjusted for inflation by CPI-U')\n",
    "\n",
    "plt.savefig('teacherpay.png', bbox_inches='tight', dpi=200)"
   ]
  }
 ],
 "metadata": {
  "kernelspec": {
   "display_name": "Python 3",
   "language": "python",
   "name": "python3"
  },
  "language_info": {
   "codemirror_mode": {
    "name": "ipython",
    "version": 3
   },
   "file_extension": ".py",
   "mimetype": "text/x-python",
   "name": "python",
   "nbconvert_exporter": "python",
   "pygments_lexer": "ipython3",
   "version": "3.8.6"
  }
 },
 "nbformat": 4,
 "nbformat_minor": 2
}
