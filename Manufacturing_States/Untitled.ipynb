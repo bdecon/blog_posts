{
 "cells": [
  {
   "cell_type": "code",
   "execution_count": 2,
   "metadata": {
    "ExecuteTime": {
     "end_time": "2019-06-26T01:10:24.095081Z",
     "start_time": "2019-06-26T01:10:24.092244Z"
    }
   },
   "outputs": [],
   "source": [
    "import pandas as pd\n",
    "import os\n",
    "\n",
    "os.chdir('/home/brian/Documents/CPS/data/clean/')"
   ]
  },
  {
   "cell_type": "code",
   "execution_count": 85,
   "metadata": {
    "ExecuteTime": {
     "end_time": "2019-06-26T01:27:42.960695Z",
     "start_time": "2019-06-26T01:27:42.821800Z"
    }
   },
   "outputs": [],
   "source": [
    "cols = ['INDGRP', 'STATE', 'PWSSWGT', 'AGE', 'MONTH', 'FEMALE']\n",
    "df = (pd.read_feather('cps2018.ft', columns=cols)\n",
    "        .query('18 <= AGE <= 64 and MONTH > 5')\n",
    "        .append(pd.read_feather('cps2019.ft', columns=cols)\n",
    "                  .query('18 <= AGE <= 64')))"
   ]
  },
  {
   "cell_type": "code",
   "execution_count": 86,
   "metadata": {
    "ExecuteTime": {
     "end_time": "2019-06-26T01:27:51.322858Z",
     "start_time": "2019-06-26T01:27:51.292550Z"
    }
   },
   "outputs": [],
   "source": [
    "states = ['AR', 'MS', 'LA', 'TN', 'KY', 'GA', 'SC', 'TX', 'AL', 'FL']\n",
    "states2 = ['MN', 'WI', 'IL', 'IN', 'OH', 'MI']\n",
    "data = df.query('STATE in @states and FEMALE==1')\n",
    "mfg = data.query('INDGRP==\"Manufacturing\"')"
   ]
  },
  {
   "cell_type": "code",
   "execution_count": 87,
   "metadata": {
    "ExecuteTime": {
     "end_time": "2019-06-26T01:27:53.766849Z",
     "start_time": "2019-06-26T01:27:53.762340Z"
    }
   },
   "outputs": [
    {
     "data": {
      "text/plain": [
       "0.03927076"
      ]
     },
     "execution_count": 87,
     "metadata": {},
     "output_type": "execute_result"
    }
   ],
   "source": [
    "mfg.PWSSWGT.sum() / data.PWSSWGT.sum()"
   ]
  },
  {
   "cell_type": "code",
   "execution_count": 88,
   "metadata": {
    "ExecuteTime": {
     "end_time": "2019-06-26T01:27:54.733069Z",
     "start_time": "2019-06-26T01:27:54.728984Z"
    }
   },
   "outputs": [
    {
     "data": {
      "text/plain": [
       "1110040.8333333333"
      ]
     },
     "execution_count": 88,
     "metadata": {},
     "output_type": "execute_result"
    }
   ],
   "source": [
    "mfg.PWSSWGT.sum() / 12"
   ]
  },
  {
   "cell_type": "code",
   "execution_count": null,
   "metadata": {},
   "outputs": [],
   "source": []
  },
  {
   "cell_type": "code",
   "execution_count": null,
   "metadata": {},
   "outputs": [],
   "source": []
  }
 ],
 "metadata": {
  "kernelspec": {
   "display_name": "Python 3",
   "language": "python",
   "name": "python3"
  },
  "language_info": {
   "codemirror_mode": {
    "name": "ipython",
    "version": 3
   },
   "file_extension": ".py",
   "mimetype": "text/x-python",
   "name": "python",
   "nbconvert_exporter": "python",
   "pygments_lexer": "ipython3",
   "version": "3.8.6"
  }
 },
 "nbformat": 4,
 "nbformat_minor": 2
}
