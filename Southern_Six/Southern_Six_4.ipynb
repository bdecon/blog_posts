{
 "cells": [
  {
   "cell_type": "markdown",
   "metadata": {},
   "source": [
    "# Six Southern Labor Markets #4\n",
    "### Labor force status\n",
    "\n",
    "February 8, 2019\n",
    "\n",
    "Brian Dew, @bd_econ\n",
    "\n",
    "-----\n",
    "\n",
    "Look at what share of 16-64 year old men and women are unemployed, employed, or not in the labor force, and how this compares to national average. Then compare the total change from 2015 to 2018 for each area and the US as a whole.\n",
    "\n",
    "Areas:\n",
    "\n",
    "- Chattanooga\n",
    "- Knoxville\n",
    "- Greenville\n",
    "- Asheville\n",
    "- Kingsport\n",
    "- Huntsville\n",
    "- US total"
   ]
  },
  {
   "cell_type": "code",
   "execution_count": 1,
   "metadata": {
    "ExecuteTime": {
     "end_time": "2019-02-08T15:45:48.773575Z",
     "start_time": "2019-02-08T15:45:48.456851Z"
    }
   },
   "outputs": [],
   "source": [
    "import pandas as pd\n",
    "import numpy as np\n",
    "import pickle\n",
    "import os\n",
    "\n",
    "import matplotlib.pyplot as plt\n",
    "from matplotlib.patches import Rectangle\n",
    "from matplotlib.collections import PatchCollection"
   ]
  },
  {
   "cell_type": "code",
   "execution_count": 2,
   "metadata": {
    "ExecuteTime": {
     "end_time": "2019-02-08T15:45:48.779857Z",
     "start_time": "2019-02-08T15:45:48.774976Z"
    }
   },
   "outputs": [],
   "source": [
    "areas = [('Chattanooga-Cleveland-Dalton, TN-GA', 'CSA', [174]),\n",
    "         ('Greenville-Anderson-Spartanburg, SC', 'CSA', [273]),\n",
    "         ('Asheville, NC', 'CBSA', [11700]),\n",
    "         ('Johnson City-Kingsport-Bristol, TN-VA', 'CSA', [304]),\n",
    "         ('Huntsville, AL', 'CBSA', [26620]),\n",
    "         ('Knoxville, TN', 'CBSA', [28940])]\n",
    "\n",
    "area_names = [area[0] for area in areas]"
   ]
  },
  {
   "cell_type": "code",
   "execution_count": 3,
   "metadata": {
    "ExecuteTime": {
     "end_time": "2019-02-08T15:45:48.790075Z",
     "start_time": "2019-02-08T15:45:48.784343Z"
    }
   },
   "outputs": [],
   "source": [
    "csa = [area[2][0] for area in areas if area[1] == 'CSA']\n",
    "cbsa = [area[2][0] for area in areas if area[1] == 'CBSA']\n",
    "grps = [('US Total', 'AGE > -1')]\n",
    "grps2 = [(area[0], f'{area[1]} == {area[2][0]}') for area in areas]\n",
    "groups = grps2 + grps"
   ]
  },
  {
   "cell_type": "markdown",
   "metadata": {},
   "source": [
    "### Labor force status"
   ]
  },
  {
   "cell_type": "code",
   "execution_count": 4,
   "metadata": {
    "ExecuteTime": {
     "end_time": "2019-02-08T15:45:48.869174Z",
     "start_time": "2019-02-08T15:45:48.792101Z"
    }
   },
   "outputs": [],
   "source": [
    "# CPS data\n",
    "os.chdir('/home/brian/Documents/CPS/data/clean')\n",
    "\n",
    "# Subset of columns of interest\n",
    "columns = ['MONTH', 'YEAR', 'CBSA', 'CSA', 'AGE', 'STATE', 'REGION',\n",
    "           'PWSSWGT', 'LFS', 'FEMALE']\n",
    "\n",
    "df = pd.concat([pd.read_feather(f'cps{year}.ft', columns=columns)\n",
    "                for year in [2018]])"
   ]
  },
  {
   "cell_type": "code",
   "execution_count": 5,
   "metadata": {
    "ExecuteTime": {
     "end_time": "2019-02-08T15:45:49.403917Z",
     "start_time": "2019-02-08T15:45:48.875591Z"
    },
    "code_folding": [],
    "run_control": {
     "marked": false
    }
   },
   "outputs": [],
   "source": [
    "# Collect results for total, men, women in each area\n",
    "results = pd.DataFrame()\n",
    "for group in groups:\n",
    "    data = df.query(group[1])\n",
    "    data = data.query('16 <= AGE <= 64')\n",
    "    i = data.groupby('LFS').PWSSWGT.sum()\n",
    "    s = ((i / data.PWSSWGT.sum()) * 100)\n",
    "    for idx, val in s.iteritems():\n",
    "        row_name = f'{group[0]}, Total'\n",
    "        results.at[row_name, idx] = val    \n",
    "    men = data.query('FEMALE == 0')\n",
    "    i = men.groupby('LFS').PWSSWGT.sum()\n",
    "    s = ((i / men.PWSSWGT.sum()) * 100)\n",
    "    for idx, val in s.iteritems():\n",
    "        row_name = f'{group[0]}, Men'\n",
    "        results.at[row_name, idx] = val\n",
    "    women = data.query('FEMALE == 1')\n",
    "    i = women.groupby('LFS').PWSSWGT.sum()\n",
    "    s = ((i / women.PWSSWGT.sum()) * 100)\n",
    "    for idx, val in s.iteritems():\n",
    "        row_name = f'{group[0]}, Women'\n",
    "        results.at[row_name, idx] = val\n",
    "        \n",
    "results1 = results[['Unemployed', 'Employed', 'NILF']]"
   ]
  },
  {
   "cell_type": "markdown",
   "metadata": {},
   "source": [
    "### Clean up data and sort by employment share (total)"
   ]
  },
  {
   "cell_type": "code",
   "execution_count": 6,
   "metadata": {
    "ExecuteTime": {
     "end_time": "2019-02-08T15:45:49.411345Z",
     "start_time": "2019-02-08T15:45:49.405099Z"
    },
    "code_folding": [
     0
    ]
   },
   "outputs": [],
   "source": [
    "# Custom sort - most advanced degrees first, US total last\n",
    "filter_list = [area for area in list(results1.index) \n",
    "               if 'US' not in area and 'Total' in area]\n",
    "sorted_list = list(results1.loc[filter_list]\n",
    "                           .sort_values(by='Employed')\n",
    "                           .index)\n",
    "sorted_names = [i.replace(', Total', '') for i in sorted_list]\n",
    "\n",
    "m_w_list = [(i.replace('Total', 'Men'), i.replace('Total', 'Women'))\n",
    "            for i in sorted_list]\n",
    "temp_list = [('US Total, Men', 'US Total, Women')] + m_w_list\n",
    "col_list = list(sum(temp_list, ()))\n",
    "\n",
    "results = results1.loc[col_list]\n",
    "\n",
    "areas = ['US Total'] + sorted_names"
   ]
  },
  {
   "cell_type": "code",
   "execution_count": 7,
   "metadata": {
    "ExecuteTime": {
     "end_time": "2019-02-08T15:45:49.455381Z",
     "start_time": "2019-02-08T15:45:49.413533Z"
    },
    "code_folding": []
   },
   "outputs": [],
   "source": [
    "# Get start location for each bar segment\n",
    "temp = results.cumsum(axis=1).iloc[:,:-1]\n",
    "temp['start'] = 0\n",
    "temp = temp[['start', 'Unemployed', 'Employed']]\n",
    "start_locs = temp.rename({'start': 'Unemployed', 'Unemployed': 'Employed', \n",
    "                          'Employed': 'NILF'}, axis=1)\n",
    "\n",
    "# Get length of each bar segment\n",
    "len_locs = results\n",
    "\n",
    "# Get y values for each bar (with blank space for label)\n",
    "y_values = []\n",
    "i = 0.0\n",
    "for _ in range(7):\n",
    "    y_values.extend([i, i+1])\n",
    "    i = i + 2.8\n",
    "\n",
    "# Color for each LFS group (orange, blue, green)\n",
    "colors = ['#ff7f00', '#377eb8', '#4daf4a']\n",
    "\n",
    "# Combine lfs group names with colors\n",
    "lfs_groups = list(zip(colors, ['Unemployed', 'Employed', 'NILF']))"
   ]
  },
  {
   "cell_type": "code",
   "execution_count": 8,
   "metadata": {
    "ExecuteTime": {
     "end_time": "2019-02-08T15:45:49.461676Z",
     "start_time": "2019-02-08T15:45:49.456536Z"
    },
    "code_folding": [],
    "run_control": {
     "marked": false
    }
   },
   "outputs": [],
   "source": [
    "# Main city name labels\n",
    "label_y_locs = [y + 2 for y in y_values[::2]]\n",
    "area_labels = list(zip(areas, label_y_locs))\n",
    "\n",
    "# Men/ Women labels\n",
    "label_y_locs = y_values\n",
    "label_text = ['M', 'F'] * 7\n",
    "mw_labels = list(zip(label_y_locs, label_text))"
   ]
  },
  {
   "cell_type": "markdown",
   "metadata": {},
   "source": [
    "### LFS chart"
   ]
  },
  {
   "cell_type": "code",
   "execution_count": 9,
   "metadata": {
    "ExecuteTime": {
     "end_time": "2019-02-08T15:45:49.467059Z",
     "start_time": "2019-02-08T15:45:49.463811Z"
    }
   },
   "outputs": [],
   "source": [
    "os.chdir('/home/brian/Documents/blog_posts/Southern_Six/')"
   ]
  },
  {
   "cell_type": "code",
   "execution_count": 10,
   "metadata": {
    "ExecuteTime": {
     "end_time": "2019-02-08T15:45:49.959202Z",
     "start_time": "2019-02-08T15:45:49.469149Z"
    },
    "code_folding": [
     0
    ]
   },
   "outputs": [
    {
     "data": {
      "image/png": "[encoded data removed]",
      "text/plain": [
       "<Figure size 648x792 with 1 Axes>"
      ]
     },
     "metadata": {
      "needs_background": "light"
     },
     "output_type": "display_data"
    }
   ],
   "source": [
    "# Very custom stacked horizontal bar chart\n",
    "fig = plt.figure(figsize=(9,11))\n",
    "\n",
    "plt.ylim(-0.5, 21)\n",
    "plt.xlim(0, 100)\n",
    "\n",
    "ax = plt.gca()\n",
    "    \n",
    "for color, lfs_level in lfs_groups:\n",
    "    bar_segments = []\n",
    "    start_loc = start_locs[lfs_level].values\n",
    "    len_loc = len_locs[lfs_level].values\n",
    "    data = list(zip(start_loc, len_loc, y_values))\n",
    "    for seg in data:\n",
    "        rect = Rectangle((seg[0], seg[2]), seg[1], 0.8)\n",
    "        bar_segments.append(rect)\n",
    "        \n",
    "        # Put data value text at bar midpoint\n",
    "        text_x_val = (seg[1] / 2 + seg[0])\n",
    "        text_color = 'white'\n",
    "        if lfs_level == 'Unemployed':\n",
    "            text_x_val = seg[1] + 3\n",
    "            text_color = 'black'\n",
    "        text_y_val = seg[2] + 0.275\n",
    "        text_val = f'{round(seg[1], 1)}%'\n",
    "        plt.text(text_x_val, text_y_val, text_val,\n",
    "                 fontsize=10, color=text_color, ha='center')\n",
    "\n",
    "    bars = PatchCollection(bar_segments, facecolor=color, edgecolor='none')\n",
    "                        \n",
    "    ax.add_collection(bars)\n",
    "\n",
    "for name, y_loc in area_labels:\n",
    "    plt.text(0, y_loc, name, fontsize=12, color='gray', weight='bold')\n",
    "\n",
    "for y_loc, name in mw_labels:\n",
    "    plt.text(-0.8, y_loc + 0.275, name, fontsize=10, color='gray', ha='right')\n",
    "    \n",
    "# Custom legend at top of plot\n",
    "plt.text(3, 20.2, 'Unemployed', ha='center')\n",
    "rect = Rectangle((0, 19.5), 5, 0.5, facecolor='#ff7f00', edgecolor='none')\n",
    "ax.add_patch(rect)\n",
    "\n",
    "plt.text(53, 20.2, 'Employed', ha='center')\n",
    "rect = Rectangle((50, 19.5), 5, 0.5, facecolor='#377eb8', edgecolor='none')\n",
    "ax.add_patch(rect)\n",
    "\n",
    "plt.text(98, 20.2, 'Not in\\nLabor Force', ha='center')\n",
    "rect = Rectangle((95, 19.5), 5, 0.5, facecolor='#4daf4a', edgecolor='none')\n",
    "ax.add_patch(rect)\n",
    "    \n",
    "# add title and footer\n",
    "plt.text(-5, 21.2, 'Labor force status of age 16-64 population, 2018', \n",
    "          fontsize=15, weight='bold')\n",
    "\n",
    "plt.text(-5, -0.8, \"Source: Author's calculations from basic CPS microdata files covering January to December 2018.\")\n",
    "\n",
    "plt.axis('off')\n",
    "\n",
    "plt.savefig('lfs.png', bbox_inches='tight');"
   ]
  },
  {
   "cell_type": "markdown",
   "metadata": {},
   "source": [
    "### Change from 2015 to 2018"
   ]
  },
  {
   "cell_type": "code",
   "execution_count": 11,
   "metadata": {
    "ExecuteTime": {
     "end_time": "2019-02-08T15:45:50.013361Z",
     "start_time": "2019-02-08T15:45:49.960387Z"
    }
   },
   "outputs": [],
   "source": [
    "# CPS data\n",
    "os.chdir('/home/brian/Documents/CPS/data/clean')\n",
    "\n",
    "# Subset of columns of interest\n",
    "columns = ['MONTH', 'YEAR', 'CBSA', 'CSA', 'AGE', 'STATE', 'REGION',\n",
    "           'PWSSWGT', 'LFS', 'FEMALE']\n",
    "\n",
    "df = pd.concat([pd.read_feather(f'cps{year}.ft', columns=columns)\n",
    "                for year in [2015]])"
   ]
  },
  {
   "cell_type": "code",
   "execution_count": 12,
   "metadata": {
    "ExecuteTime": {
     "end_time": "2019-02-08T15:45:50.494452Z",
     "start_time": "2019-02-08T15:45:50.015197Z"
    },
    "code_folding": [
     0
    ],
    "run_control": {
     "marked": false
    }
   },
   "outputs": [],
   "source": [
    "# Collect results for total, men, women in each area\n",
    "results2 = pd.DataFrame()\n",
    "for group in groups:\n",
    "    data = df.query(group[1])\n",
    "    data = data.query('16 <= AGE <= 64')\n",
    "    i = data.groupby('LFS').PWSSWGT.sum()\n",
    "    s = ((i / data.PWSSWGT.sum()) * 100)\n",
    "    for idx, val in s.iteritems():\n",
    "        row_name = f'{group[0]}, Total'\n",
    "        results2.at[row_name, idx] = val\n",
    "    men = data.query('FEMALE == 0')\n",
    "    i = men.groupby('LFS').PWSSWGT.sum()\n",
    "    s = ((i / men.PWSSWGT.sum()) * 100)\n",
    "    for idx, val in s.iteritems():\n",
    "        row_name = f'{group[0]}, Men'\n",
    "        results2.at[row_name, idx] = val\n",
    "    women = data.query('FEMALE == 1')\n",
    "    i = women.groupby('LFS').PWSSWGT.sum()\n",
    "    s = ((i / women.PWSSWGT.sum()) * 100)\n",
    "    for idx, val in s.iteritems():\n",
    "        row_name = f'{group[0]}, Women'\n",
    "        results2.at[row_name, idx] = val\n",
    "        \n",
    "results2 = results2[['Unemployed', 'Employed', 'NILF']]"
   ]
  },
  {
   "cell_type": "code",
   "execution_count": 13,
   "metadata": {
    "ExecuteTime": {
     "end_time": "2019-02-08T15:45:50.499693Z",
     "start_time": "2019-02-08T15:45:50.496543Z"
    }
   },
   "outputs": [],
   "source": [
    "results = results1 - results2"
   ]
  },
  {
   "cell_type": "code",
   "execution_count": 14,
   "metadata": {
    "ExecuteTime": {
     "end_time": "2019-02-08T15:45:50.510228Z",
     "start_time": "2019-02-08T15:45:50.501126Z"
    },
    "code_folding": [
     0
    ]
   },
   "outputs": [],
   "source": [
    "# Custom sort - most advanced degrees first, US total last\n",
    "filter_list = [area for area in list(results.index) \n",
    "               if 'US' not in area and 'Total' in area]\n",
    "sorted_list = list(results.loc[filter_list]\n",
    "                           .sort_values(by='Employed')\n",
    "                           .index)\n",
    "sorted_names = [i.replace(', Total', '') for i in sorted_list]\n",
    "\n",
    "m_w_list = [(i.replace('Total', 'Men'), i.replace('Total', 'Women'))\n",
    "            for i in sorted_list]\n",
    "temp_list = [('US Total, Men', 'US Total, Women')] + m_w_list\n",
    "col_list = list(sum(temp_list, ()))\n",
    "\n",
    "results = results.loc[col_list]\n",
    "\n",
    "areas = ['US Total'] + sorted_names"
   ]
  },
  {
   "cell_type": "code",
   "execution_count": 24,
   "metadata": {
    "ExecuteTime": {
     "end_time": "2019-02-08T15:51:23.968543Z",
     "start_time": "2019-02-08T15:51:23.960292Z"
    },
    "collapsed": true
   },
   "outputs": [
    {
     "data": {
      "text/html": [
       "<div>\n",
       "<style scoped>\n",
       "    .dataframe tbody tr th:only-of-type {\n",
       "        vertical-align: middle;\n",
       "    }\n",
       "\n",
       "    .dataframe tbody tr th {\n",
       "        vertical-align: top;\n",
       "    }\n",
       "\n",
       "    .dataframe thead th {\n",
       "        text-align: right;\n",
       "    }\n",
       "</style>\n",
       "<table border=\"1\" class=\"dataframe\">\n",
       "  <thead>\n",
       "    <tr style=\"text-align: right;\">\n",
       "      <th></th>\n",
       "      <th>Unemployed</th>\n",
       "      <th>Employed</th>\n",
       "      <th>NILF</th>\n",
       "    </tr>\n",
       "  </thead>\n",
       "  <tbody>\n",
       "    <tr>\n",
       "      <th>US Total, Men</th>\n",
       "      <td>-1.151543</td>\n",
       "      <td>1.984100</td>\n",
       "      <td>-0.832565</td>\n",
       "    </tr>\n",
       "    <tr>\n",
       "      <th>US Total, Women</th>\n",
       "      <td>-0.865059</td>\n",
       "      <td>2.223175</td>\n",
       "      <td>-1.358126</td>\n",
       "    </tr>\n",
       "    <tr>\n",
       "      <th>Asheville, NC, Men</th>\n",
       "      <td>-1.094674</td>\n",
       "      <td>2.054428</td>\n",
       "      <td>-0.959764</td>\n",
       "    </tr>\n",
       "    <tr>\n",
       "      <th>Asheville, NC, Women</th>\n",
       "      <td>-2.809226</td>\n",
       "      <td>2.537155</td>\n",
       "      <td>0.272066</td>\n",
       "    </tr>\n",
       "    <tr>\n",
       "      <th>Chattanooga-Cleveland-Dalton, TN-GA, Men</th>\n",
       "      <td>-1.774162</td>\n",
       "      <td>3.725708</td>\n",
       "      <td>-1.951538</td>\n",
       "    </tr>\n",
       "    <tr>\n",
       "      <th>Chattanooga-Cleveland-Dalton, TN-GA, Women</th>\n",
       "      <td>0.620258</td>\n",
       "      <td>3.218609</td>\n",
       "      <td>-3.838863</td>\n",
       "    </tr>\n",
       "    <tr>\n",
       "      <th>Greenville-Anderson-Spartanburg, SC, Men</th>\n",
       "      <td>-1.331541</td>\n",
       "      <td>6.824371</td>\n",
       "      <td>-5.492836</td>\n",
       "    </tr>\n",
       "    <tr>\n",
       "      <th>Greenville-Anderson-Spartanburg, SC, Women</th>\n",
       "      <td>-1.483204</td>\n",
       "      <td>1.128883</td>\n",
       "      <td>0.354321</td>\n",
       "    </tr>\n",
       "    <tr>\n",
       "      <th>Huntsville, AL, Men</th>\n",
       "      <td>-1.622921</td>\n",
       "      <td>3.451553</td>\n",
       "      <td>-1.828629</td>\n",
       "    </tr>\n",
       "    <tr>\n",
       "      <th>Huntsville, AL, Women</th>\n",
       "      <td>-2.615555</td>\n",
       "      <td>4.550720</td>\n",
       "      <td>-1.935169</td>\n",
       "    </tr>\n",
       "    <tr>\n",
       "      <th>Johnson City-Kingsport-Bristol, TN-VA, Men</th>\n",
       "      <td>-3.916470</td>\n",
       "      <td>5.996658</td>\n",
       "      <td>-2.080200</td>\n",
       "    </tr>\n",
       "    <tr>\n",
       "      <th>Johnson City-Kingsport-Bristol, TN-VA, Women</th>\n",
       "      <td>-0.732703</td>\n",
       "      <td>4.981754</td>\n",
       "      <td>-4.249065</td>\n",
       "    </tr>\n",
       "    <tr>\n",
       "      <th>Knoxville, TN, Men</th>\n",
       "      <td>-0.590599</td>\n",
       "      <td>5.037224</td>\n",
       "      <td>-4.446609</td>\n",
       "    </tr>\n",
       "    <tr>\n",
       "      <th>Knoxville, TN, Women</th>\n",
       "      <td>-2.291670</td>\n",
       "      <td>8.028111</td>\n",
       "      <td>-5.736441</td>\n",
       "    </tr>\n",
       "  </tbody>\n",
       "</table>\n",
       "</div>"
      ],
      "text/plain": [
       "                                              Unemployed  Employed      NILF\n",
       "US Total, Men                                  -1.151543  1.984100 -0.832565\n",
       "US Total, Women                                -0.865059  2.223175 -1.358126\n",
       "Asheville, NC, Men                             -1.094674  2.054428 -0.959764\n",
       "Asheville, NC, Women                           -2.809226  2.537155  0.272066\n",
       "Chattanooga-Cleveland-Dalton, TN-GA, Men       -1.774162  3.725708 -1.951538\n",
       "Chattanooga-Cleveland-Dalton, TN-GA, Women      0.620258  3.218609 -3.838863\n",
       "Greenville-Anderson-Spartanburg, SC, Men       -1.331541  6.824371 -5.492836\n",
       "Greenville-Anderson-Spartanburg, SC, Women     -1.483204  1.128883  0.354321\n",
       "Huntsville, AL, Men                            -1.622921  3.451553 -1.828629\n",
       "Huntsville, AL, Women                          -2.615555  4.550720 -1.935169\n",
       "Johnson City-Kingsport-Bristol, TN-VA, Men     -3.916470  5.996658 -2.080200\n",
       "Johnson City-Kingsport-Bristol, TN-VA, Women   -0.732703  4.981754 -4.249065\n",
       "Knoxville, TN, Men                             -0.590599  5.037224 -4.446609\n",
       "Knoxville, TN, Women                           -2.291670  8.028111 -5.736441"
      ]
     },
     "execution_count": 24,
     "metadata": {},
     "output_type": "execute_result"
    }
   ],
   "source": [
    "results"
   ]
  },
  {
   "cell_type": "code",
   "execution_count": 15,
   "metadata": {
    "ExecuteTime": {
     "end_time": "2019-02-08T15:45:50.534718Z",
     "start_time": "2019-02-08T15:45:50.513011Z"
    },
    "code_folding": [
     0
    ]
   },
   "outputs": [],
   "source": [
    "# Get start location for each bar segment \n",
    "start_locs = pd.DataFrame()\n",
    "for group_name, values in results.iterrows():\n",
    "    start_locs.at[group_name, 'Employed'] = 0\n",
    "    if values['Unemployed'] >= 0:\n",
    "        start_locs.at[group_name, 'Unemployed'] = values['Employed']\n",
    "        start_locs.at[group_name, 'NILF'] = values['NILF']\n",
    "    if values['Unemployed'] < 0:\n",
    "        start_locs.at[group_name, 'Unemployed'] = values['Unemployed']\n",
    "        if values['NILF'] < 0:\n",
    "            start_locs.at[group_name, 'NILF'] = values['Unemployed'] + values['NILF']\n",
    "        if values['NILF'] >= 0:\n",
    "            start_locs.at[group_name, 'NILF'] = values['Employed']\n",
    "\n",
    "# Get length of each bar segment\n",
    "len_locs = abs(results)\n",
    "\n",
    "# Get y values for each bar (with blank space for label)\n",
    "y_values = []\n",
    "i = 0.0\n",
    "for _ in range(7):\n",
    "    y_values.extend([i, i+1])\n",
    "    i = i + 2.8\n",
    "\n",
    "# Color for each LFS group (orange, blue, green)\n",
    "colors = ['#ff7f00', '#377eb8', '#4daf4a']\n",
    "\n",
    "# Combine lfs group names with colors\n",
    "lfs_groups = list(zip(colors, ['Unemployed', 'Employed', 'NILF']))"
   ]
  },
  {
   "cell_type": "code",
   "execution_count": 16,
   "metadata": {
    "ExecuteTime": {
     "end_time": "2019-02-08T15:45:50.541450Z",
     "start_time": "2019-02-08T15:45:50.538279Z"
    },
    "code_folding": [
     0
    ]
   },
   "outputs": [],
   "source": [
    "# Main city name labels\n",
    "label_y_locs = [y + 2 for y in y_values[::2]]\n",
    "area_labels = list(zip(areas, label_y_locs))\n",
    "\n",
    "# Men/ Women labels\n",
    "label_y_locs = y_values\n",
    "label_text = ['M', 'F'] * 7\n",
    "mw_labels = list(zip(label_y_locs, label_text))"
   ]
  },
  {
   "cell_type": "markdown",
   "metadata": {},
   "source": [
    "### Labor force change chart"
   ]
  },
  {
   "cell_type": "code",
   "execution_count": 17,
   "metadata": {
    "ExecuteTime": {
     "end_time": "2019-02-08T15:45:50.547477Z",
     "start_time": "2019-02-08T15:45:50.543433Z"
    }
   },
   "outputs": [],
   "source": [
    "os.chdir('/home/brian/Documents/blog_posts/Southern_Six/')"
   ]
  },
  {
   "cell_type": "code",
   "execution_count": 58,
   "metadata": {
    "ExecuteTime": {
     "end_time": "2019-02-08T16:26:47.783808Z",
     "start_time": "2019-02-08T16:26:47.282864Z"
    },
    "code_folding": [
     0
    ],
    "run_control": {
     "marked": false
    }
   },
   "outputs": [
    {
     "data": {
      "image/png": "[encoded data removed]",
      "text/plain": [
       "<Figure size 648x792 with 1 Axes>"
      ]
     },
     "metadata": {
      "needs_background": "light"
     },
     "output_type": "display_data"
    }
   ],
   "source": [
    "# Very custom stacked horizontal bar chart\n",
    "fig = plt.figure(figsize=(9,11))\n",
    "\n",
    "plt.ylim(-0.5, 21)\n",
    "plt.xlim(-8.5, 8.5)\n",
    "\n",
    "ax = plt.gca()\n",
    "    \n",
    "for color, lfs_level in lfs_groups:\n",
    "    bar_segments = []\n",
    "    start_loc = start_locs[lfs_level].values\n",
    "    len_loc = len_locs[lfs_level].values\n",
    "    data = list(zip(start_loc, len_loc, y_values))\n",
    "    for seg in data:\n",
    "        rect = Rectangle((seg[0], seg[2]), seg[1], 0.8)\n",
    "        bar_segments.append(rect)\n",
    "\n",
    "        # Put data value text at bar midpoint\n",
    "        text_x_val = (seg[1] / 2 + seg[0])\n",
    "        text_color = 'white'\n",
    "        if (seg[1] < 0.85) & (seg[0] < 0):\n",
    "            text_x_val = seg[0] - 0.4\n",
    "            text_color = 'black'\n",
    "        if (seg[1] < 0.85) & (seg[0] > 0):\n",
    "            text_x_val = seg[0] + seg[1] + 0.33\n",
    "            text_color = 'black'\n",
    "        text_y_val = seg[2] + 0.275\n",
    "        text_val = f'{round(seg[1], 1)}'\n",
    "        if seg[0] < 0:\n",
    "            text_val = f'{-round(seg[1], 1)}'\n",
    "        plt.text(text_x_val, text_y_val, text_val,\n",
    "                 fontsize=10, color=text_color, ha='center')\n",
    "        \n",
    "    bars = PatchCollection(bar_segments, facecolor=color, edgecolor='none')\n",
    "                        \n",
    "    ax.add_collection(bars)\n",
    "\n",
    "for name, y_loc in area_labels:\n",
    "    plt.text(-9, y_loc, name, fontsize=12, color='gray', weight='bold')\n",
    "\n",
    "for y_loc, name in mw_labels:\n",
    "    plt.text(-8.5, y_loc + 0.275, name, fontsize=10, color='gray', ha='right')\n",
    "    \n",
    "# Custom legend at top of plot\n",
    "plt.text(-0, 20.2, 'Unemployed', ha='center')\n",
    "rect = Rectangle((-0.5, 19.5), 1, 0.5, facecolor='#ff7f00', edgecolor='none')\n",
    "ax.add_patch(rect)\n",
    "\n",
    "plt.text(7.5, 20.2, 'Employed', ha='center')\n",
    "rect = Rectangle((7, 19.5), 1, 0.5, facecolor='#377eb8', edgecolor='none')\n",
    "ax.add_patch(rect)\n",
    "\n",
    "plt.text(-7.5, 20.2, 'Not in\\nLabor Force', ha='center')\n",
    "rect = Rectangle((-8, 19.5), 1, 0.5, facecolor='#4daf4a', edgecolor='none')\n",
    "ax.add_patch(rect)    \n",
    "    \n",
    "    \n",
    "# add title and footer\n",
    "plt.text(-9, 21.2, 'Change in labor force status, age 16-64, 2015 to 2018', \n",
    "          fontsize=15, weight='bold')\n",
    "plt.text(-9, -0.7, \"Values are percentage points\")\n",
    "plt.text(-9, -1.2, \"Source: Author's calculations from basic CPS microdata files covering January to December 2015 and 2018.\")\n",
    "\n",
    "plt.axis('off')\n",
    "\n",
    "plt.savefig('lfs_change.png', bbox_inches='tight');"
   ]
  },
  {
   "cell_type": "code",
   "execution_count": null,
   "metadata": {},
   "outputs": [],
   "source": []
  }
 ],
 "metadata": {
  "kernelspec": {
   "display_name": "Python 3",
   "language": "python",
   "name": "python3"
  },
  "language_info": {
   "codemirror_mode": {
    "name": "ipython",
    "version": 3
   },
   "file_extension": ".py",
   "mimetype": "text/x-python",
   "name": "python",
   "nbconvert_exporter": "python",
   "pygments_lexer": "ipython3",
   "version": "3.7.1"
  }
 },
 "nbformat": 4,
 "nbformat_minor": 2
}
