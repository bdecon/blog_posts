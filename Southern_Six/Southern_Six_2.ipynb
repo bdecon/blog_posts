{
 "cells": [
  {
   "cell_type": "markdown",
   "metadata": {},
   "source": [
    "# Six Southern Labor Markets #2\n",
    "### Race, Ethnicity, and Country of Birth\n",
    "\n",
    "February 2, 2019\n",
    "\n",
    "Brian Dew, @bd_econ\n",
    "\n",
    "-----\n",
    "\n",
    "Look at share of population that is white only (non-Hispanic), black only (non-Hispanic), Hispanic (any race), Asian only (non-Hispanic), Native American, or more than one race (non-Hispanic). Look at how it compares to national average.\n",
    "\n",
    "Then look at what share of the population (age 0-34, age 35+) is born in the US. Identify above average foreign born populations by country of birth. \n",
    "\n",
    "- Chattanooga\n",
    "- Knoxville\n",
    "- Greenville\n",
    "- Asheville\n",
    "- Kingsport\n",
    "- Huntsville\n",
    "- US total"
   ]
  },
  {
   "cell_type": "code",
   "execution_count": 1,
   "metadata": {
    "ExecuteTime": {
     "end_time": "2019-02-04T14:53:10.406452Z",
     "start_time": "2019-02-04T14:53:10.087970Z"
    }
   },
   "outputs": [],
   "source": [
    "import pandas as pd\n",
    "import numpy as np\n",
    "import pickle\n",
    "import os\n",
    "\n",
    "import matplotlib.pyplot as plt"
   ]
  },
  {
   "cell_type": "code",
   "execution_count": 2,
   "metadata": {
    "ExecuteTime": {
     "end_time": "2019-02-04T14:53:10.411671Z",
     "start_time": "2019-02-04T14:53:10.408082Z"
    }
   },
   "outputs": [],
   "source": [
    "areas = [('Chattanooga-\\nCleveland-\\nDalton, TN-GA', 'CSA', [174]),\n",
    "         ('Greenville-\\nAnderson-\\nSpartanburg, SC', 'CSA', [273]),\n",
    "         ('Asheville, NC', 'CBSA', [11700]),\n",
    "         ('Johnson City-\\nKingsport-\\nBristol, TN-VA', 'CSA', [304]),\n",
    "         ('Huntsville, AL', 'CBSA', [26620]),\n",
    "         ('Knoxville, TN', 'CBSA', [28940])]\n",
    "\n",
    "area_names = [area[0] for area in areas]"
   ]
  },
  {
   "cell_type": "code",
   "execution_count": 3,
   "metadata": {
    "ExecuteTime": {
     "end_time": "2019-02-04T14:53:10.426108Z",
     "start_time": "2019-02-04T14:53:10.412933Z"
    }
   },
   "outputs": [],
   "source": [
    "csa = [area[2][0] for area in areas if area[1] == 'CSA']\n",
    "cbsa = [area[2][0] for area in areas if area[1] == 'CBSA']\n",
    "grps = [('Six areas combined', 'CSA in @csa or CBSA in @cbsa'),\n",
    "        ('Other south', 'REGION == \"South\" and CSA not in @csa and CBSA not in @cbsa'),\n",
    "        ('Other US', 'CSA not in @csa and CBSA not in @cbsa'),\n",
    "        ('US Total', 'AGE > -1')]\n",
    "grps2 = [(area[0], f'{area[1]} == {area[2][0]}') for area in areas]\n",
    "groups = grps2 + grps"
   ]
  },
  {
   "cell_type": "markdown",
   "metadata": {},
   "source": [
    "### Race/Ethnicity/Foreign Born Share of Population"
   ]
  },
  {
   "cell_type": "code",
   "execution_count": 4,
   "metadata": {
    "ExecuteTime": {
     "end_time": "2019-02-04T14:53:10.636643Z",
     "start_time": "2019-02-04T14:53:10.427980Z"
    }
   },
   "outputs": [],
   "source": [
    "# CPS data\n",
    "os.chdir('/home/brian/Documents/CPS/data/clean')\n",
    "\n",
    "# Subset of columns of interest\n",
    "columns = ['MONTH', 'YEAR', 'CBSA', 'CSA', 'AGE', 'STATE', 'REGION',\n",
    "           'WBHAOM', 'FORBORN', 'CTYBIRTH', 'PWSSWGT', 'EDUC']\n",
    "\n",
    "df = pd.concat([pd.read_feather(f'cps{year}.ft', columns=columns)\n",
    "                for year in [2017, 2018]])"
   ]
  },
  {
   "cell_type": "code",
   "execution_count": 5,
   "metadata": {
    "ExecuteTime": {
     "end_time": "2019-02-04T14:53:12.830657Z",
     "start_time": "2019-02-04T14:53:10.652643Z"
    },
    "code_folding": [
     1
    ]
   },
   "outputs": [],
   "source": [
    "results = pd.DataFrame()\n",
    "for group in groups:\n",
    "    data = df.query(group[1])\n",
    "    i = data.groupby('FORBORN').PWSSWGT.sum()\n",
    "    results.at[group[0], 'Foreign born'] = (i / data.PWSSWGT.sum())[1] * 100\n",
    "    u35 = data.query('AGE < 35')\n",
    "    i = u35.groupby('FORBORN').PWSSWGT.sum()\n",
    "    u35tot = u35.PWSSWGT.sum()\n",
    "    results.at[group[0], 'Foreign born, under age 35'] = (i / u35tot)[1] * 100\n",
    "    o34 = data.query('AGE >= 35')\n",
    "    i = o34.groupby('FORBORN').PWSSWGT.sum()\n",
    "    o34tot = o34.PWSSWGT.sum()\n",
    "    results.at[group[0], 'Foreign born, over age 34'] = (i / o34tot)[1] * 100\n",
    "    lths = data.query('EDUC == \"LTHS\"')\n",
    "    i = lths.groupby('FORBORN').PWSSWGT.sum()\n",
    "    lthstot = lths.PWSSWGT.sum()\n",
    "    results.at[group[0], 'Foreign born, LTHS'] = (i / lthstot)[1] * 100\n",
    "    adv = data.query('EDUC == \"ADV\"')\n",
    "    i = adv.groupby('FORBORN').PWSSWGT.sum()\n",
    "    advtot = adv.PWSSWGT.sum()\n",
    "    results.at[group[0], 'Foreign born, ADV'] = (i / advtot)[1] * 100\n",
    "    # Race/ethnicity\n",
    "    i = data.groupby('WBHAOM').PWSSWGT.sum()\n",
    "    s = ((i / data.PWSSWGT.sum()) * 100)\n",
    "    for idx, val in s.iteritems():\n",
    "        results.at[group[0], idx] = val\n",
    "    # Children of more than one race\n",
    "    data = data.query('AGE < 16')\n",
    "    i = data.groupby('WBHAOM').PWSSWGT.sum()\n",
    "    s = ((i / data.PWSSWGT.sum())['Mixed'] * 100)\n",
    "    results.at[group[0], 'More than one race, under age 16'] = s"
   ]
  },
  {
   "cell_type": "code",
   "execution_count": 6,
   "metadata": {
    "ExecuteTime": {
     "end_time": "2019-02-04T14:53:12.846119Z",
     "start_time": "2019-02-04T14:53:12.831976Z"
    }
   },
   "outputs": [
    {
     "data": {
      "text/html": [
       "<div>\n",
       "<style scoped>\n",
       "    .dataframe tbody tr th:only-of-type {\n",
       "        vertical-align: middle;\n",
       "    }\n",
       "\n",
       "    .dataframe tbody tr th {\n",
       "        vertical-align: top;\n",
       "    }\n",
       "\n",
       "    .dataframe thead th {\n",
       "        text-align: right;\n",
       "    }\n",
       "</style>\n",
       "<table border=\"1\" class=\"dataframe\">\n",
       "  <thead>\n",
       "    <tr style=\"text-align: right;\">\n",
       "      <th></th>\n",
       "      <th>Foreign born</th>\n",
       "      <th>Foreign born, under age 35</th>\n",
       "      <th>Foreign born, over age 34</th>\n",
       "      <th>Foreign born, LTHS</th>\n",
       "      <th>Foreign born, ADV</th>\n",
       "      <th>Asian</th>\n",
       "      <th>Black</th>\n",
       "      <th>Hispanic</th>\n",
       "      <th>Mixed</th>\n",
       "      <th>Native American</th>\n",
       "      <th>White</th>\n",
       "      <th>More than one race, under age 16</th>\n",
       "    </tr>\n",
       "  </thead>\n",
       "  <tbody>\n",
       "    <tr>\n",
       "      <th>Chattanooga-\\nCleveland-\\nDalton, TN-GA</th>\n",
       "      <td>3.956363</td>\n",
       "      <td>3.690821</td>\n",
       "      <td>4.178084</td>\n",
       "      <td>8.027546</td>\n",
       "      <td>14.386751</td>\n",
       "      <td>1.287174</td>\n",
       "      <td>11.775587</td>\n",
       "      <td>4.450256</td>\n",
       "      <td>2.412618</td>\n",
       "      <td>0.144300</td>\n",
       "      <td>79.930069</td>\n",
       "      <td>5.208514</td>\n",
       "    </tr>\n",
       "    <tr>\n",
       "      <th>Greenville-\\nAnderson-\\nSpartanburg, SC</th>\n",
       "      <td>6.449598</td>\n",
       "      <td>5.740967</td>\n",
       "      <td>7.033713</td>\n",
       "      <td>16.818953</td>\n",
       "      <td>13.507406</td>\n",
       "      <td>2.254295</td>\n",
       "      <td>18.940552</td>\n",
       "      <td>6.547762</td>\n",
       "      <td>2.659896</td>\n",
       "      <td>0.215920</td>\n",
       "      <td>69.381569</td>\n",
       "      <td>5.938308</td>\n",
       "    </tr>\n",
       "    <tr>\n",
       "      <th>Asheville, NC</th>\n",
       "      <td>6.116752</td>\n",
       "      <td>6.390652</td>\n",
       "      <td>5.959113</td>\n",
       "      <td>11.188997</td>\n",
       "      <td>6.102176</td>\n",
       "      <td>1.021360</td>\n",
       "      <td>9.031936</td>\n",
       "      <td>4.727745</td>\n",
       "      <td>0.612907</td>\n",
       "      <td>0.175493</td>\n",
       "      <td>84.430557</td>\n",
       "      <td>0.817542</td>\n",
       "    </tr>\n",
       "    <tr>\n",
       "      <th>Johnson City-\\nKingsport-\\nBristol, TN-VA</th>\n",
       "      <td>4.434132</td>\n",
       "      <td>3.633254</td>\n",
       "      <td>5.027794</td>\n",
       "      <td>5.125551</td>\n",
       "      <td>3.700202</td>\n",
       "      <td>2.874233</td>\n",
       "      <td>2.497091</td>\n",
       "      <td>3.099631</td>\n",
       "      <td>0.919521</td>\n",
       "      <td>0.299766</td>\n",
       "      <td>90.309753</td>\n",
       "      <td>2.828911</td>\n",
       "    </tr>\n",
       "    <tr>\n",
       "      <th>Huntsville, AL</th>\n",
       "      <td>5.943191</td>\n",
       "      <td>3.793816</td>\n",
       "      <td>7.789201</td>\n",
       "      <td>9.461585</td>\n",
       "      <td>10.965991</td>\n",
       "      <td>3.493052</td>\n",
       "      <td>19.688280</td>\n",
       "      <td>6.228296</td>\n",
       "      <td>1.210378</td>\n",
       "      <td>0.219911</td>\n",
       "      <td>69.160088</td>\n",
       "      <td>2.186539</td>\n",
       "    </tr>\n",
       "    <tr>\n",
       "      <th>Knoxville, TN</th>\n",
       "      <td>5.688831</td>\n",
       "      <td>5.069152</td>\n",
       "      <td>6.172569</td>\n",
       "      <td>12.342358</td>\n",
       "      <td>9.569640</td>\n",
       "      <td>1.694245</td>\n",
       "      <td>5.960498</td>\n",
       "      <td>3.825293</td>\n",
       "      <td>1.141668</td>\n",
       "      <td>0.452399</td>\n",
       "      <td>86.925903</td>\n",
       "      <td>2.481213</td>\n",
       "    </tr>\n",
       "    <tr>\n",
       "      <th>Six areas combined</th>\n",
       "      <td>5.519925</td>\n",
       "      <td>4.816489</td>\n",
       "      <td>6.069789</td>\n",
       "      <td>11.752769</td>\n",
       "      <td>10.293519</td>\n",
       "      <td>2.043856</td>\n",
       "      <td>12.224170</td>\n",
       "      <td>5.005259</td>\n",
       "      <td>1.741920</td>\n",
       "      <td>0.254771</td>\n",
       "      <td>78.730026</td>\n",
       "      <td>3.936860</td>\n",
       "    </tr>\n",
       "    <tr>\n",
       "      <th>Other south</th>\n",
       "      <td>12.661676</td>\n",
       "      <td>8.812412</td>\n",
       "      <td>15.974896</td>\n",
       "      <td>24.393229</td>\n",
       "      <td>17.952229</td>\n",
       "      <td>3.861681</td>\n",
       "      <td>19.137390</td>\n",
       "      <td>18.801723</td>\n",
       "      <td>1.849179</td>\n",
       "      <td>0.775904</td>\n",
       "      <td>55.574142</td>\n",
       "      <td>3.810400</td>\n",
       "    </tr>\n",
       "    <tr>\n",
       "      <th>Other US</th>\n",
       "      <td>13.844942</td>\n",
       "      <td>9.095591</td>\n",
       "      <td>17.872123</td>\n",
       "      <td>27.839407</td>\n",
       "      <td>19.166583</td>\n",
       "      <td>6.149519</td>\n",
       "      <td>12.311587</td>\n",
       "      <td>18.433498</td>\n",
       "      <td>1.983756</td>\n",
       "      <td>0.793685</td>\n",
       "      <td>60.327942</td>\n",
       "      <td>4.198962</td>\n",
       "    </tr>\n",
       "    <tr>\n",
       "      <th>US Total</th>\n",
       "      <td>13.731788</td>\n",
       "      <td>9.039947</td>\n",
       "      <td>17.705825</td>\n",
       "      <td>27.626881</td>\n",
       "      <td>19.055945</td>\n",
       "      <td>6.093715</td>\n",
       "      <td>12.310404</td>\n",
       "      <td>18.250980</td>\n",
       "      <td>1.980470</td>\n",
       "      <td>0.786360</td>\n",
       "      <td>60.578091</td>\n",
       "      <td>4.195616</td>\n",
       "    </tr>\n",
       "  </tbody>\n",
       "</table>\n",
       "</div>"
      ],
      "text/plain": [
       "                                           Foreign born  \\\n",
       "Chattanooga-\\nCleveland-\\nDalton, TN-GA        3.956363   \n",
       "Greenville-\\nAnderson-\\nSpartanburg, SC        6.449598   \n",
       "Asheville, NC                                  6.116752   \n",
       "Johnson City-\\nKingsport-\\nBristol, TN-VA      4.434132   \n",
       "Huntsville, AL                                 5.943191   \n",
       "Knoxville, TN                                  5.688831   \n",
       "Six areas combined                             5.519925   \n",
       "Other south                                   12.661676   \n",
       "Other US                                      13.844942   \n",
       "US Total                                      13.731788   \n",
       "\n",
       "                                           Foreign born, under age 35  \\\n",
       "Chattanooga-\\nCleveland-\\nDalton, TN-GA                      3.690821   \n",
       "Greenville-\\nAnderson-\\nSpartanburg, SC                      5.740967   \n",
       "Asheville, NC                                                6.390652   \n",
       "Johnson City-\\nKingsport-\\nBristol, TN-VA                    3.633254   \n",
       "Huntsville, AL                                               3.793816   \n",
       "Knoxville, TN                                                5.069152   \n",
       "Six areas combined                                           4.816489   \n",
       "Other south                                                  8.812412   \n",
       "Other US                                                     9.095591   \n",
       "US Total                                                     9.039947   \n",
       "\n",
       "                                           Foreign born, over age 34  \\\n",
       "Chattanooga-\\nCleveland-\\nDalton, TN-GA                     4.178084   \n",
       "Greenville-\\nAnderson-\\nSpartanburg, SC                     7.033713   \n",
       "Asheville, NC                                               5.959113   \n",
       "Johnson City-\\nKingsport-\\nBristol, TN-VA                   5.027794   \n",
       "Huntsville, AL                                              7.789201   \n",
       "Knoxville, TN                                               6.172569   \n",
       "Six areas combined                                          6.069789   \n",
       "Other south                                                15.974896   \n",
       "Other US                                                   17.872123   \n",
       "US Total                                                   17.705825   \n",
       "\n",
       "                                           Foreign born, LTHS  \\\n",
       "Chattanooga-\\nCleveland-\\nDalton, TN-GA              8.027546   \n",
       "Greenville-\\nAnderson-\\nSpartanburg, SC             16.818953   \n",
       "Asheville, NC                                       11.188997   \n",
       "Johnson City-\\nKingsport-\\nBristol, TN-VA            5.125551   \n",
       "Huntsville, AL                                       9.461585   \n",
       "Knoxville, TN                                       12.342358   \n",
       "Six areas combined                                  11.752769   \n",
       "Other south                                         24.393229   \n",
       "Other US                                            27.839407   \n",
       "US Total                                            27.626881   \n",
       "\n",
       "                                           Foreign born, ADV     Asian  \\\n",
       "Chattanooga-\\nCleveland-\\nDalton, TN-GA            14.386751  1.287174   \n",
       "Greenville-\\nAnderson-\\nSpartanburg, SC            13.507406  2.254295   \n",
       "Asheville, NC                                       6.102176  1.021360   \n",
       "Johnson City-\\nKingsport-\\nBristol, TN-VA           3.700202  2.874233   \n",
       "Huntsville, AL                                     10.965991  3.493052   \n",
       "Knoxville, TN                                       9.569640  1.694245   \n",
       "Six areas combined                                 10.293519  2.043856   \n",
       "Other south                                        17.952229  3.861681   \n",
       "Other US                                           19.166583  6.149519   \n",
       "US Total                                           19.055945  6.093715   \n",
       "\n",
       "                                               Black   Hispanic     Mixed  \\\n",
       "Chattanooga-\\nCleveland-\\nDalton, TN-GA    11.775587   4.450256  2.412618   \n",
       "Greenville-\\nAnderson-\\nSpartanburg, SC    18.940552   6.547762  2.659896   \n",
       "Asheville, NC                               9.031936   4.727745  0.612907   \n",
       "Johnson City-\\nKingsport-\\nBristol, TN-VA   2.497091   3.099631  0.919521   \n",
       "Huntsville, AL                             19.688280   6.228296  1.210378   \n",
       "Knoxville, TN                               5.960498   3.825293  1.141668   \n",
       "Six areas combined                         12.224170   5.005259  1.741920   \n",
       "Other south                                19.137390  18.801723  1.849179   \n",
       "Other US                                   12.311587  18.433498  1.983756   \n",
       "US Total                                   12.310404  18.250980  1.980470   \n",
       "\n",
       "                                           Native American      White  \\\n",
       "Chattanooga-\\nCleveland-\\nDalton, TN-GA           0.144300  79.930069   \n",
       "Greenville-\\nAnderson-\\nSpartanburg, SC           0.215920  69.381569   \n",
       "Asheville, NC                                     0.175493  84.430557   \n",
       "Johnson City-\\nKingsport-\\nBristol, TN-VA         0.299766  90.309753   \n",
       "Huntsville, AL                                    0.219911  69.160088   \n",
       "Knoxville, TN                                     0.452399  86.925903   \n",
       "Six areas combined                                0.254771  78.730026   \n",
       "Other south                                       0.775904  55.574142   \n",
       "Other US                                          0.793685  60.327942   \n",
       "US Total                                          0.786360  60.578091   \n",
       "\n",
       "                                           More than one race, under age 16  \n",
       "Chattanooga-\\nCleveland-\\nDalton, TN-GA                            5.208514  \n",
       "Greenville-\\nAnderson-\\nSpartanburg, SC                            5.938308  \n",
       "Asheville, NC                                                      0.817542  \n",
       "Johnson City-\\nKingsport-\\nBristol, TN-VA                          2.828911  \n",
       "Huntsville, AL                                                     2.186539  \n",
       "Knoxville, TN                                                      2.481213  \n",
       "Six areas combined                                                 3.936860  \n",
       "Other south                                                        3.810400  \n",
       "Other US                                                           4.198962  \n",
       "US Total                                                           4.195616  "
      ]
     },
     "execution_count": 6,
     "metadata": {},
     "output_type": "execute_result"
    }
   ],
   "source": [
    "results"
   ]
  },
  {
   "cell_type": "markdown",
   "metadata": {},
   "source": [
    "### Countries of Origin\n",
    "\n",
    "Four year sample"
   ]
  },
  {
   "cell_type": "code",
   "execution_count": 7,
   "metadata": {
    "ExecuteTime": {
     "end_time": "2019-02-04T14:53:13.142394Z",
     "start_time": "2019-02-04T14:53:12.847715Z"
    }
   },
   "outputs": [],
   "source": [
    "# Subset of columns of interest\n",
    "columns = ['MONTH', 'YEAR', 'CBSA', 'CSA', 'STATE', 'REGION', 'AGE',\n",
    "           'CTYBIRTH', 'PWSSWGT']\n",
    "\n",
    "df = pd.concat([pd.read_feather(f'cps{year}.ft', columns=columns)\n",
    "                for year in [2015, 2016, 2017, 2018]])"
   ]
  },
  {
   "cell_type": "code",
   "execution_count": 8,
   "metadata": {
    "ExecuteTime": {
     "end_time": "2019-02-04T14:53:14.645483Z",
     "start_time": "2019-02-04T14:53:13.143763Z"
    },
    "code_folding": [],
    "collapsed": true,
    "run_control": {
     "marked": false
    }
   },
   "outputs": [
    {
     "name": "stdout",
     "output_type": "stream",
     "text": [
      "Chattanooga-\n",
      "Cleveland-\n",
      "Dalton, TN-GA\n",
      "CTYBIRTH\n",
      "Mexico       1.134609\n",
      "Guatemala    0.562051\n",
      "Germany      0.374133\n",
      "Venezuela    0.321977\n",
      "Canada       0.268913\n",
      "Name: PWSSWGT, dtype: float32\n",
      "Greenville-\n",
      "Anderson-\n",
      "Spartanburg, SC\n",
      "CTYBIRTH\n",
      "Mexico     1.784016\n",
      "Russia     0.572533\n",
      "India      0.465673\n",
      "Germany    0.276223\n",
      "China      0.243900\n",
      "Name: PWSSWGT, dtype: float32\n",
      "Asheville, NC\n",
      "CTYBIRTH\n",
      "Mexico         2.377840\n",
      "Philippines    0.557064\n",
      "Canada         0.455758\n",
      "Jamaica        0.436239\n",
      "England        0.303723\n",
      "Name: PWSSWGT, dtype: float32\n",
      "Johnson City-\n",
      "Kingsport-\n",
      "Bristol, TN-VA\n",
      "CTYBIRTH\n",
      "Vietnam        0.528996\n",
      "Mexico         0.500919\n",
      "Philippines    0.484111\n",
      "Germany        0.323473\n",
      "China          0.260924\n",
      "Name: PWSSWGT, dtype: float32\n",
      "Huntsville, AL\n",
      "CTYBIRTH\n",
      "Mexico         1.631175\n",
      "Germany        0.729689\n",
      "Philippines    0.492417\n",
      "India          0.408426\n",
      "Nigeria        0.321376\n",
      "Name: PWSSWGT, dtype: float32\n",
      "Knoxville, TN\n",
      "CTYBIRTH\n",
      "Mexico      0.942670\n",
      "India       0.714927\n",
      "Honduras    0.362304\n",
      "Germany     0.332594\n",
      "Sudan       0.320137\n",
      "Name: PWSSWGT, dtype: float32\n",
      "Six areas combined\n",
      "CTYBIRTH\n",
      "Mexico         1.383596\n",
      "India          0.375485\n",
      "Germany        0.355128\n",
      "Philippines    0.266773\n",
      "Russia         0.237764\n",
      "Name: PWSSWGT, dtype: float32\n",
      "Other south\n",
      "CTYBIRTH\n",
      "Mexico         3.484834\n",
      "Cuba           0.991089\n",
      "India          0.698582\n",
      "Puerto Rico    0.639381\n",
      "El Salvador    0.556017\n",
      "Name: PWSSWGT, dtype: float32\n",
      "Other US\n",
      "CTYBIRTH\n",
      "Mexico         3.844280\n",
      "India          0.858937\n",
      "China          0.666757\n",
      "Philippines    0.607483\n",
      "Puerto Rico    0.552720\n",
      "Name: PWSSWGT, dtype: float32\n",
      "US Total\n",
      "CTYBIRTH\n",
      "Mexico         3.811838\n",
      "India          0.852563\n",
      "China          0.660465\n",
      "Philippines    0.602991\n",
      "Puerto Rico    0.546629\n",
      "Name: PWSSWGT, dtype: float32\n"
     ]
    }
   ],
   "source": [
    "results2 = pd.DataFrame()\n",
    "for group in groups:\n",
    "    data = df.query(group[1])\n",
    "    i = data.groupby('CTYBIRTH').PWSSWGT.sum()\n",
    "    s = (i / data.PWSSWGT.sum()) * 100 \n",
    "    for idx, val in s.iteritems():\n",
    "        results2.at[idx, group[0]] = val\n",
    "    print(group[0])\n",
    "    print(s.drop('United States', axis=0).sort_values(ascending=False).head(5))"
   ]
  },
  {
   "cell_type": "code",
   "execution_count": 9,
   "metadata": {
    "ExecuteTime": {
     "end_time": "2019-02-04T14:53:14.664911Z",
     "start_time": "2019-02-04T14:53:14.649472Z"
    }
   },
   "outputs": [],
   "source": [
    "ustot = results2.iloc[:,-3]\n",
    "s6 = results2.iloc[:,0:-4]\n",
    "diff = s6.sub(ustot, axis=0)"
   ]
  },
  {
   "cell_type": "code",
   "execution_count": 10,
   "metadata": {
    "ExecuteTime": {
     "end_time": "2019-02-04T14:53:14.692247Z",
     "start_time": "2019-02-04T14:53:14.666195Z"
    }
   },
   "outputs": [
    {
     "data": {
      "text/html": [
       "<div>\n",
       "<style scoped>\n",
       "    .dataframe tbody tr th:only-of-type {\n",
       "        vertical-align: middle;\n",
       "    }\n",
       "\n",
       "    .dataframe tbody tr th {\n",
       "        vertical-align: top;\n",
       "    }\n",
       "\n",
       "    .dataframe thead th {\n",
       "        text-align: right;\n",
       "    }\n",
       "</style>\n",
       "<table border=\"1\" class=\"dataframe\">\n",
       "  <thead>\n",
       "    <tr style=\"text-align: right;\">\n",
       "      <th></th>\n",
       "      <th>Chattanooga-\n",
       "Cleveland-\n",
       "Dalton, TN-GA</th>\n",
       "      <th>Greenville-\n",
       "Anderson-\n",
       "Spartanburg, SC</th>\n",
       "      <th>Asheville, NC</th>\n",
       "      <th>Johnson City-\n",
       "Kingsport-\n",
       "Bristol, TN-VA</th>\n",
       "      <th>Huntsville, AL</th>\n",
       "      <th>Knoxville, TN</th>\n",
       "    </tr>\n",
       "  </thead>\n",
       "  <tbody>\n",
       "    <tr>\n",
       "      <th>Canada</th>\n",
       "      <td>NaN</td>\n",
       "      <td>NaN</td>\n",
       "      <td>0.278628</td>\n",
       "      <td>NaN</td>\n",
       "      <td>NaN</td>\n",
       "      <td>NaN</td>\n",
       "    </tr>\n",
       "    <tr>\n",
       "      <th>Germany</th>\n",
       "      <td>NaN</td>\n",
       "      <td>NaN</td>\n",
       "      <td>NaN</td>\n",
       "      <td>NaN</td>\n",
       "      <td>0.398069</td>\n",
       "      <td>NaN</td>\n",
       "    </tr>\n",
       "    <tr>\n",
       "      <th>Guatemala</th>\n",
       "      <td>0.259360</td>\n",
       "      <td>NaN</td>\n",
       "      <td>NaN</td>\n",
       "      <td>NaN</td>\n",
       "      <td>NaN</td>\n",
       "      <td>NaN</td>\n",
       "    </tr>\n",
       "    <tr>\n",
       "      <th>Philippines</th>\n",
       "      <td>NaN</td>\n",
       "      <td>NaN</td>\n",
       "      <td>0.266393</td>\n",
       "      <td>NaN</td>\n",
       "      <td>0.201746</td>\n",
       "      <td>NaN</td>\n",
       "    </tr>\n",
       "    <tr>\n",
       "      <th>Russia</th>\n",
       "      <td>NaN</td>\n",
       "      <td>0.489637</td>\n",
       "      <td>NaN</td>\n",
       "      <td>NaN</td>\n",
       "      <td>NaN</td>\n",
       "      <td>NaN</td>\n",
       "    </tr>\n",
       "    <tr>\n",
       "      <th>Sudan</th>\n",
       "      <td>NaN</td>\n",
       "      <td>NaN</td>\n",
       "      <td>NaN</td>\n",
       "      <td>NaN</td>\n",
       "      <td>NaN</td>\n",
       "      <td>0.305638</td>\n",
       "    </tr>\n",
       "    <tr>\n",
       "      <th>Turkey</th>\n",
       "      <td>NaN</td>\n",
       "      <td>NaN</td>\n",
       "      <td>NaN</td>\n",
       "      <td>NaN</td>\n",
       "      <td>NaN</td>\n",
       "      <td>0.200524</td>\n",
       "    </tr>\n",
       "    <tr>\n",
       "      <th>United States</th>\n",
       "      <td>8.493362</td>\n",
       "      <td>7.194580</td>\n",
       "      <td>7.893875</td>\n",
       "      <td>9.905449</td>\n",
       "      <td>6.890633</td>\n",
       "      <td>8.093834</td>\n",
       "    </tr>\n",
       "  </tbody>\n",
       "</table>\n",
       "</div>"
      ],
      "text/plain": [
       "               Chattanooga-\\nCleveland-\\nDalton, TN-GA  \\\n",
       "Canada                                             NaN   \n",
       "Germany                                            NaN   \n",
       "Guatemala                                     0.259360   \n",
       "Philippines                                        NaN   \n",
       "Russia                                             NaN   \n",
       "Sudan                                              NaN   \n",
       "Turkey                                             NaN   \n",
       "United States                                 8.493362   \n",
       "\n",
       "               Greenville-\\nAnderson-\\nSpartanburg, SC  Asheville, NC  \\\n",
       "Canada                                             NaN       0.278628   \n",
       "Germany                                            NaN            NaN   \n",
       "Guatemala                                          NaN            NaN   \n",
       "Philippines                                        NaN       0.266393   \n",
       "Russia                                        0.489637            NaN   \n",
       "Sudan                                              NaN            NaN   \n",
       "Turkey                                             NaN            NaN   \n",
       "United States                                 7.194580       7.893875   \n",
       "\n",
       "               Johnson City-\\nKingsport-\\nBristol, TN-VA  Huntsville, AL  \\\n",
       "Canada                                               NaN             NaN   \n",
       "Germany                                              NaN        0.398069   \n",
       "Guatemala                                            NaN             NaN   \n",
       "Philippines                                          NaN        0.201746   \n",
       "Russia                                               NaN             NaN   \n",
       "Sudan                                                NaN             NaN   \n",
       "Turkey                                               NaN             NaN   \n",
       "United States                                   9.905449        6.890633   \n",
       "\n",
       "               Knoxville, TN  \n",
       "Canada                   NaN  \n",
       "Germany                  NaN  \n",
       "Guatemala                NaN  \n",
       "Philippines              NaN  \n",
       "Russia                   NaN  \n",
       "Sudan               0.305638  \n",
       "Turkey              0.200524  \n",
       "United States       8.093834  "
      ]
     },
     "execution_count": 10,
     "metadata": {},
     "output_type": "execute_result"
    }
   ],
   "source": [
    "diff[diff > 0.2].dropna(how='all')"
   ]
  },
  {
   "cell_type": "code",
   "execution_count": 11,
   "metadata": {
    "ExecuteTime": {
     "end_time": "2019-02-04T14:53:14.712648Z",
     "start_time": "2019-02-04T14:53:14.700225Z"
    }
   },
   "outputs": [],
   "source": [
    "os.chdir('/home/brian/Documents/blog_posts/Southern_Six/')"
   ]
  },
  {
   "cell_type": "code",
   "execution_count": 12,
   "metadata": {
    "ExecuteTime": {
     "end_time": "2019-02-04T14:53:14.930387Z",
     "start_time": "2019-02-04T14:53:14.714029Z"
    },
    "code_folding": [],
    "run_control": {
     "marked": false
    }
   },
   "outputs": [
    {
     "data": {
      "image/png": "[encoded data removed]",
      "text/plain": [
       "<Figure size 288x432 with 1 Axes>"
      ]
     },
     "metadata": {
      "needs_background": "light"
     },
     "output_type": "display_data"
    }
   ],
   "source": [
    "# Bar chart showing under 16 share of population\n",
    "d = (results.loc[[g[0] for g in grps2], 'Black']\n",
    "              .sort_values())\n",
    "\n",
    "d_us = results.loc['US Total', 'Black']\n",
    "\n",
    "d.plot(kind='barh', color='darkorange', figsize=[4, 6], width=0.5, zorder=2)\n",
    "for i, val in enumerate(d):\n",
    "    if val > 10:\n",
    "        x_val = val - 4.2\n",
    "        color = 'white'\n",
    "    elif val > 5:\n",
    "        x_val = val - 3.5\n",
    "        color = 'white'\n",
    "    else:\n",
    "        color = 'gray'\n",
    "        x_val = val + 0.5\n",
    "    text_val = f'{round(val, 1)}%'\n",
    "    y_val = i - 0.06\n",
    "    plt.text(x_val, y_val, text_val, color=color, fontsize=12, weight='bold')\n",
    "    plt.text(-0.5, i, d.index[i], ha='right', va='center', fontsize=11)\n",
    "\n",
    "plt.axvline(x=d_us, color='gray', linestyle='--', zorder=1)\n",
    "plt.text(d_us * 1.04, -0.45, f\"US\\nTotal:\\n{round(d_us, 1)}%\", \n",
    "         fontsize=11, color='gray', weight='bold')\n",
    "    \n",
    "plt.axvline(x=0, color='lightgray')    \n",
    "\n",
    "# add title and footer\n",
    "plt.text(-9, 5.7, 'Black, non-Hispanic, share of population', \n",
    "          fontsize=15, weight='bold')\n",
    "\n",
    "plt.text(-9, -0.8, \"Source: Author's calculations from basic monthly CPS microdata files\")\n",
    "plt.text(-8.5, -1.03, 'covering January 2017 to December 2018.')\n",
    "\n",
    "plt.axis('off')\n",
    "\n",
    "plt.savefig('black.png', bbox_inches='tight');"
   ]
  },
  {
   "cell_type": "code",
   "execution_count": 13,
   "metadata": {
    "ExecuteTime": {
     "end_time": "2019-02-04T14:53:15.118461Z",
     "start_time": "2019-02-04T14:53:14.931603Z"
    },
    "code_folding": [
     0
    ]
   },
   "outputs": [
    {
     "data": {
      "image/png": "[encoded data removed]",
      "text/plain": [
       "<Figure size 288x432 with 1 Axes>"
      ]
     },
     "metadata": {
      "needs_background": "light"
     },
     "output_type": "display_data"
    }
   ],
   "source": [
    "# Bar chart showing under 16 share of population\n",
    "d = (results.loc[[g[0] for g in grps2], 'Hispanic']\n",
    "              .sort_values())\n",
    "\n",
    "d_us = results.loc['US Total', 'Hispanic']\n",
    "\n",
    "d.plot(kind='barh', color='green', figsize=[4, 6], width=0.5, zorder=2)\n",
    "for i, val in enumerate(d):\n",
    "    x_val = val - 2.9\n",
    "    text_val = f'{round(val, 1)}%'\n",
    "    y_val = i - 0.06\n",
    "    plt.text(x_val, y_val, text_val, color='white', fontsize=11, weight='bold')\n",
    "    plt.text(-0.5, i, d.index[i], ha='right', va='center', fontsize=11)\n",
    "\n",
    "plt.axvline(x=d_us, color='gray', linestyle='--', zorder=1)\n",
    "plt.text(d_us * 1.04, -0.45, f\"US\\nTotal:\\n{round(d_us, 1)}%\", \n",
    "         fontsize=11, color='gray', weight='bold')\n",
    "    \n",
    "plt.axvline(x=0, color='lightgray')    \n",
    "\n",
    "# add title and footer\n",
    "plt.text(-9, 5.7, 'Hispanic, any race, share of population', \n",
    "          fontsize=15, weight='bold')\n",
    "\n",
    "plt.text(-9, -0.8, \"Source: Author's calculations from basic monthly CPS microdata files\")\n",
    "plt.text(-8.5, -1.03, 'covering January 2017 to December 2018.')\n",
    "\n",
    "plt.axis('off')\n",
    "\n",
    "plt.savefig('Hispanic.png', bbox_inches='tight');"
   ]
  },
  {
   "cell_type": "code",
   "execution_count": 14,
   "metadata": {
    "ExecuteTime": {
     "end_time": "2019-02-04T14:53:15.305410Z",
     "start_time": "2019-02-04T14:53:15.119856Z"
    },
    "code_folding": [
     0
    ]
   },
   "outputs": [
    {
     "data": {
      "image/png": "[encoded data removed]",
      "text/plain": [
       "<Figure size 288x432 with 1 Axes>"
      ]
     },
     "metadata": {
      "needs_background": "light"
     },
     "output_type": "display_data"
    }
   ],
   "source": [
    "# Bar chart showing under 16 share of population\n",
    "d = (results.loc[[g[0] for g in grps2], 'Asian']\n",
    "              .sort_values())\n",
    "\n",
    "d_us = results.loc['US Total', 'Asian']\n",
    "\n",
    "d.plot(kind='barh', color='red', figsize=[4, 6], width=0.5, zorder=2)\n",
    "for i, val in enumerate(d):\n",
    "    x_val = val - 0.95\n",
    "    text_val = f'{round(val, 1)}%'\n",
    "    y_val = i - 0.06\n",
    "    plt.text(x_val, y_val, text_val, color='white', fontsize=11, weight='bold')\n",
    "    plt.text(-0.2, i, d.index[i], ha='right', va='center', fontsize=11)\n",
    "\n",
    "plt.axvline(x=d_us, color='gray', linestyle='--', zorder=1)\n",
    "plt.text(d_us * 1.04, -0.45, f\"US\\nTotal:\\n{round(d_us, 1)}%\", \n",
    "         fontsize=11, color='gray', weight='bold')\n",
    "    \n",
    "plt.axvline(x=0, color='lightgray')    \n",
    "\n",
    "# add title and footer\n",
    "plt.text(-3, 5.7, 'Asian, non-Hispanic, share of population', \n",
    "          fontsize=15, weight='bold')\n",
    "\n",
    "plt.text(-3, -0.8, \"Source: Author's calculations from basic monthly CPS microdata files\")\n",
    "plt.text(-2.65, -1.03, 'covering January 2017 to December 2018.')\n",
    "\n",
    "plt.axis('off')\n",
    "\n",
    "plt.savefig('Asian.png', bbox_inches='tight');"
   ]
  },
  {
   "cell_type": "code",
   "execution_count": 15,
   "metadata": {
    "ExecuteTime": {
     "end_time": "2019-02-04T14:53:15.505773Z",
     "start_time": "2019-02-04T14:53:15.306781Z"
    },
    "code_folding": [
     0
    ]
   },
   "outputs": [
    {
     "data": {
      "image/png": "[encoded data removed]",
      "text/plain": [
       "<Figure size 288x432 with 1 Axes>"
      ]
     },
     "metadata": {
      "needs_background": "light"
     },
     "output_type": "display_data"
    }
   ],
   "source": [
    "# Bar chart showing under 16 share of population\n",
    "d = (results.loc[[g[0] for g in grps2], 'More than one race, under age 16']\n",
    "              .sort_values())\n",
    "\n",
    "d_us = results.loc['US Total', 'More than one race, under age 16']\n",
    "\n",
    "d.plot(kind='barh', color='blue', figsize=[4, 6], width=0.5, zorder=2)\n",
    "for i, val in enumerate(d):\n",
    "    if val > 1:\n",
    "        x_val = val - 1.0\n",
    "        color = 'white'\n",
    "    else:\n",
    "        color = 'gray'\n",
    "        x_val = val + 0.1\n",
    "    text_val = f'{round(val, 1)}%'\n",
    "    y_val = i - 0.06\n",
    "    plt.text(x_val, y_val, text_val, color=color, fontsize=11, weight='bold')\n",
    "    plt.text(-0.2, i, d.index[i], ha='right', va='center', fontsize=11)\n",
    "\n",
    "plt.axvline(x=d_us, color='gray', linestyle='--', zorder=1)\n",
    "plt.text(d_us * 1.04, -0.45, f\"US\\nTotal:\\n{round(d_us, 1)}%\", \n",
    "         fontsize=11, color='gray', weight='bold')\n",
    "    \n",
    "plt.axvline(x=0, color='lightgray')    \n",
    "\n",
    "# add title and footer\n",
    "plt.text(-3, 5.7, 'More than one race, non-Hispanic, share of children', \n",
    "          fontsize=15, weight='bold')\n",
    "\n",
    "plt.text(-3, -0.8, \"Source: Author's calculations from basic monthly CPS microdata files\")\n",
    "plt.text(-2.65, -1.03, 'covering January 2017 to December 2018.')\n",
    "\n",
    "plt.axis('off')\n",
    "\n",
    "plt.savefig('More_than_one_race.png', bbox_inches='tight');"
   ]
  },
  {
   "cell_type": "code",
   "execution_count": 16,
   "metadata": {
    "ExecuteTime": {
     "end_time": "2019-02-04T14:53:15.735213Z",
     "start_time": "2019-02-04T14:53:15.507179Z"
    },
    "code_folding": [
     0
    ]
   },
   "outputs": [
    {
     "data": {
      "image/png": "[encoded data removed]",
      "text/plain": [
       "<Figure size 288x432 with 1 Axes>"
      ]
     },
     "metadata": {
      "needs_background": "light"
     },
     "output_type": "display_data"
    }
   ],
   "source": [
    "# Bar chart showing under 16 share of population\n",
    "d = (results.loc[[g[0] for g in grps2], 'Foreign born']\n",
    "              .sort_values())\n",
    "\n",
    "d_us = results.loc['US Total', 'Foreign born']\n",
    "\n",
    "d.plot(kind='barh', color='purple', figsize=[4, 6], width=0.5, zorder=2)\n",
    "for i, val in enumerate(d):\n",
    "    x_val = val - 2.1\n",
    "    text_val = f'{round(val, 1)}%'\n",
    "    y_val = i - 0.06\n",
    "    plt.text(x_val, y_val, text_val, color='white', fontsize=11, weight='bold')\n",
    "    plt.text(-0.4, i, d.index[i], ha='right', va='center', fontsize=11)\n",
    "\n",
    "plt.axvline(x=d_us, color='gray', linestyle='--', zorder=1)\n",
    "plt.text(d_us * 1.04, -0.45, f\"US\\nTotal:\\n{round(d_us, 1)}%\", \n",
    "         fontsize=11, color='gray', weight='bold')\n",
    "    \n",
    "plt.axvline(x=0, color='lightgray')    \n",
    "\n",
    "# add title and footer\n",
    "plt.text(-6, 5.7, 'Foreign born share of population', \n",
    "          fontsize=15, weight='bold')\n",
    "\n",
    "plt.text(-6, -0.8, \"Source: Author's calculations from basic monthly CPS microdata files\")\n",
    "plt.text(-5.5, -1.03, 'covering January 2017 to December 2018.')\n",
    "\n",
    "plt.axis('off')\n",
    "\n",
    "plt.savefig('Foreign_born.png', bbox_inches='tight');"
   ]
  },
  {
   "cell_type": "code",
   "execution_count": null,
   "metadata": {},
   "outputs": [],
   "source": []
  },
  {
   "cell_type": "code",
   "execution_count": null,
   "metadata": {},
   "outputs": [],
   "source": []
  }
 ],
 "metadata": {
  "kernelspec": {
   "display_name": "Python 3",
   "language": "python",
   "name": "python3"
  },
  "language_info": {
   "codemirror_mode": {
    "name": "ipython",
    "version": 3
   },
   "file_extension": ".py",
   "mimetype": "text/x-python",
   "name": "python",
   "nbconvert_exporter": "python",
   "pygments_lexer": "ipython3",
   "version": "3.8.5"
  }
 },
 "nbformat": 4,
 "nbformat_minor": 2
}
