{
 "cells": [
  {
   "cell_type": "markdown",
   "metadata": {},
   "source": [
    "# Six Southern Labor Markets #7\n",
    "### Class of worker, industry, and occupation\n",
    "\n",
    "March 27, 2019\n",
    "\n",
    "Brian Dew, @bd_econ\n",
    "\n",
    "-----\n",
    "\n",
    "For the combined years 2016, 2017, and 2018, look at what industries and occupations employ people who reside in each area.\n",
    "\n",
    "Areas:\n",
    "\n",
    "- Chattanooga\n",
    "- Knoxville\n",
    "- Greenville\n",
    "- Asheville\n",
    "- Kingsport\n",
    "- Huntsville\n",
    "- US total"
   ]
  },
  {
   "cell_type": "code",
   "execution_count": 1,
   "metadata": {
    "ExecuteTime": {
     "end_time": "2019-05-10T15:47:33.546170Z",
     "start_time": "2019-05-10T15:47:33.218314Z"
    }
   },
   "outputs": [],
   "source": [
    "import pandas as pd\n",
    "import numpy as np\n",
    "import os\n",
    "\n",
    "os.chdir('/home/brian/Documents/econ_data/bd_CPS/')\n",
    "\n",
    "from bd_CPS_details import ValueLabels\n",
    "\n",
    "os.chdir('/home/brian/Documents/CPS/data/clean')"
   ]
  },
  {
   "cell_type": "code",
   "execution_count": 2,
   "metadata": {
    "ExecuteTime": {
     "end_time": "2019-05-10T15:47:34.169981Z",
     "start_time": "2019-05-10T15:47:34.165961Z"
    }
   },
   "outputs": [],
   "source": [
    "areas = [('Chattanooga-Cleveland-Dalton, TN-GA', 'CSA', [174]),\n",
    "         ('Greenville-Anderson-Spartanburg, SC', 'CSA', [273]),\n",
    "         ('Asheville, NC', 'CBSA', [11700]),\n",
    "         ('Johnson City-Kingsport-Bristol, TN-VA', 'CSA', [304]),\n",
    "         ('Huntsville, AL', 'CBSA', [26620]),\n",
    "         ('Knoxville, TN', 'CBSA', [28940])]"
   ]
  },
  {
   "cell_type": "code",
   "execution_count": 3,
   "metadata": {
    "ExecuteTime": {
     "end_time": "2019-05-10T15:47:36.077375Z",
     "start_time": "2019-05-10T15:47:35.753855Z"
    }
   },
   "outputs": [],
   "source": [
    "# CPS data\n",
    "columns = ['MONTH', 'YEAR', 'CBSA', 'CSA', 'AGE', 'INDD', 'INDGRP',\n",
    "           'BASICWGT', 'LFS', 'WORKFT']\n",
    "df = (pd.read_feather('cps2018.ft', columns=columns)\n",
    "        .query('MONTH > 4')\n",
    "        .append(pd.read_feather('cps2019.ft', columns=columns))\n",
    "        .query('(CSA in [174, 273, 304]) or (CBSA in [11700, 26620, 29490])')\n",
    "        .query('LFS == \"Employed\"'))\n",
    "\n",
    "df['INDD'] = df['INDD'].map(ValueLabels['INDD'])\n",
    "\n",
    "data = df.groupby('INDD').BASICWGT.sum() / 12"
   ]
  },
  {
   "cell_type": "code",
   "execution_count": 74,
   "metadata": {
    "ExecuteTime": {
     "end_time": "2019-05-09T15:15:21.254575Z",
     "start_time": "2019-05-09T15:15:21.243076Z"
    }
   },
   "outputs": [
    {
     "data": {
      "text/plain": [
       "INDD                                               WORKFT\n",
       "Accommodation                                      0.0          469.273102\n",
       "                                                   1.0         2759.687500\n",
       "Administrative and support services                0.0        27328.531250\n",
       "                                                   1.0        48572.437500\n",
       "Agriculture                                        0.0         3361.076904\n",
       "                                                   1.0         5403.865723\n",
       "Arts, entertainment, and recreation                0.0        11501.708008\n",
       "                                                   1.0        15652.117188\n",
       "Beverage and tobacco products                      0.0          245.484009\n",
       "                                                   1.0         2087.121338\n",
       "Broadcasting (except internet)                     0.0          950.479797\n",
       "                                                   1.0         2465.554932\n",
       "Chemical manufacturing                             0.0         2914.832764\n",
       "                                                   1.0        25394.607422\n",
       "Computer and electronic product manufacturing      0.0         1442.875122\n",
       "                                                   1.0         8399.697266\n",
       "Construction                                       0.0        20235.677734\n",
       "                                                   1.0        77932.953125\n",
       "Educational services                               0.0        43965.988281\n",
       "                                                   1.0        86808.218750\n",
       "Electrical equipment, appliance manufacturing      0.0         1066.965820\n",
       "                                                   1.0         5089.284668\n",
       "Finance                                            0.0         5723.988281\n",
       "                                                   1.0        25043.304688\n",
       "Food manufacturing                                 0.0         1784.797485\n",
       "                                                   1.0        15395.858398\n",
       "Food services and drinking places                  0.0        46902.207031\n",
       "                                                   1.0        68021.554688\n",
       "Forestry, logging, fishing, hunting, and trapping  0.0          161.506531\n",
       "                                                   1.0         1696.373169\n",
       "                                                                 ...      \n",
       "Public administration                              0.0        10005.448242\n",
       "                                                   1.0        49129.847656\n",
       "Publishing industries (except internet)            0.0         1526.806152\n",
       "                                                   1.0         4213.373535\n",
       "Real estate                                        0.0         9121.160156\n",
       "                                                   1.0        12970.781250\n",
       "Rental and leasing services                        0.0          124.203735\n",
       "                                                   1.0         2928.787354\n",
       "Repair and maintenance                             0.0         4679.828125\n",
       "                                                   1.0        14827.636719\n",
       "Retail trade                                       0.0        68598.320312\n",
       "                                                   1.0       109680.039062\n",
       "Social assistance                                  0.0        10498.827148\n",
       "                                                   1.0        18549.496094\n",
       "Telecommunications                                 0.0          732.722839\n",
       "                                                   1.0         4153.419922\n",
       "Textile, apparel, and leather manufacturing        0.0          967.034851\n",
       "                                                   1.0        16404.291016\n",
       "Transportation and warehousing                     0.0         7424.878418\n",
       "                                                   1.0        44069.046875\n",
       "Transportation equipment manufacturing             0.0         3812.779053\n",
       "                                                   1.0        37660.984375\n",
       "Utilities                                          0.0         2559.037109\n",
       "                                                   1.0        11919.241211\n",
       "Waste management and remediation services          0.0          883.011475\n",
       "                                                   1.0         3169.596680\n",
       "Wholesale trade                                    0.0         5402.164551\n",
       "                                                   1.0        34676.957031\n",
       "Wood products                                      0.0          576.615417\n",
       "                                                   1.0         3051.892822\n",
       "Name: BASICWGT, Length: 98, dtype: float32"
      ]
     },
     "execution_count": 74,
     "metadata": {},
     "output_type": "execute_result"
    }
   ],
   "source": [
    "df.groupby(['INDD', 'WORKFT']).BASICWGT.sum() / 12"
   ]
  },
  {
   "cell_type": "code",
   "execution_count": 4,
   "metadata": {
    "ExecuteTime": {
     "end_time": "2019-05-10T15:47:48.703985Z",
     "start_time": "2019-05-10T15:47:48.364279Z"
    }
   },
   "outputs": [],
   "source": [
    "# CPS data\n",
    "df = (pd.read_feather('cps2015.ft', columns=columns)\n",
    "        .query('MONTH > 4')\n",
    "        .append(pd.read_feather('cps2016.ft', columns=columns).query('MONTH <= 4'))\n",
    "        .query('(CSA in [174, 273, 304]) or (CBSA in [11700, 26620, 29490])')\n",
    "        .query('LFS == \"Employed\"'))\n",
    "\n",
    "df['INDD'] = df['INDD'].map(ValueLabels['INDD'])\n",
    "\n",
    "data2 = df.groupby('INDD').BASICWGT.sum() / 12"
   ]
  },
  {
   "cell_type": "code",
   "execution_count": 5,
   "metadata": {
    "ExecuteTime": {
     "end_time": "2019-05-10T15:47:49.411706Z",
     "start_time": "2019-05-10T15:47:49.386271Z"
    }
   },
   "outputs": [
    {
     "data": {
      "text/plain": [
       "INDD\n",
       "Accommodation                                              10.320043\n",
       "Administrative and support services                       -20.703199\n",
       "Agriculture                                                 4.464051\n",
       "Arts, entertainment, and recreation                        -0.837166\n",
       "Beverage and tobacco products                               0.854035\n",
       "Broadcasting (except internet)                              3.020559\n",
       "Chemical manufacturing                                      8.785143\n",
       "Computer and electronic product manufacturing              -0.327161\n",
       "Construction                                               25.415009\n",
       "Educational services                                        9.218953\n",
       "Electrical equipment, appliance manufacturing               6.347715\n",
       "Finance                                                     9.722693\n",
       "Food manufacturing                                          8.150519\n",
       "Food services and drinking places                         -21.176710\n",
       "Forestry, logging, fishing, hunting, and trapping           0.240203\n",
       "Furniture and fixtures manufacturing                       -6.289717\n",
       "Health care services, except hospitals                     20.287632\n",
       "Hospitals                                                  26.238785\n",
       "Insurance                                                   6.571133\n",
       "Internet publishing and broadcasting                             NaN\n",
       "Internet service providers and data processing services          NaN\n",
       "Machinery  manufacturing                                    8.480533\n",
       "Management of companies and enterprises                     0.636484\n",
       "Membership associations and organizations                  -3.426785\n",
       "Mining                                                      1.625522\n",
       "Miscellaneous and not specified manufacturing               2.420435\n",
       "Motion picture and sound recording industries               0.406699\n",
       "Nonmetallic mineral product manufacturing                   1.056568\n",
       "Other information services                                  0.995131\n",
       "Paper and printing                                          6.068131\n",
       "Personal and laundry services                              14.337283\n",
       "Petroleum and coal products manufacturing                        NaN\n",
       "Plastics and rubber products                                2.890415\n",
       "Primary metals and fabricated metal products               10.537305\n",
       "Private households                                          4.131907\n",
       "Professional and  technical services                       11.874219\n",
       "Public administration                                      19.635921\n",
       "Publishing industries (except internet)                    -1.431798\n",
       "Real estate                                                 6.852090\n",
       "Rental and leasing services                                 0.551114\n",
       "Repair and maintenance                                      1.546605\n",
       "Retail trade                                               -1.984516\n",
       "Social assistance                                           4.358965\n",
       "Telecommunications                                          0.983221\n",
       "Textile, apparel, and leather manufacturing                 0.715672\n",
       "Transportation and warehousing                              9.055629\n",
       "Transportation equipment manufacturing                     18.843548\n",
       "Utilities                                                   2.714028\n",
       "Waste management and remediation services                   1.125526\n",
       "Wholesale trade                                            -7.043820\n",
       "Wood products                                              -0.305271\n",
       "Name: BASICWGT, dtype: float32"
      ]
     },
     "execution_count": 5,
     "metadata": {},
     "output_type": "execute_result"
    }
   ],
   "source": [
    "(data - data2) / 1000"
   ]
  },
  {
   "cell_type": "code",
   "execution_count": 36,
   "metadata": {
    "ExecuteTime": {
     "end_time": "2019-05-09T14:07:38.375144Z",
     "start_time": "2019-05-09T14:07:38.367066Z"
    }
   },
   "outputs": [],
   "source": [
    "data = df.groupby('INDGRP').BASICWGT.sum().divide(12).sort_values(ascending=True)\n",
    "\n",
    "data = data[data > 500]\n",
    "\n",
    "data = data / data.sum() * 100.0"
   ]
  },
  {
   "cell_type": "code",
   "execution_count": 37,
   "metadata": {
    "ExecuteTime": {
     "end_time": "2019-05-09T14:07:39.296765Z",
     "start_time": "2019-05-09T14:07:39.157138Z"
    }
   },
   "outputs": [
    {
     "data": {
      "text/plain": [
       "<matplotlib.axes._subplots.AxesSubplot at 0x7f4381fc5f28>"
      ]
     },
     "execution_count": 37,
     "metadata": {},
     "output_type": "execute_result"
    },
    {
     "data": {
      "image/png": "[encoded data removed]",
      "text/plain": [
       "<Figure size 576x576 with 1 Axes>"
      ]
     },
     "metadata": {
      "needs_background": "light"
     },
     "output_type": "display_data"
    }
   ],
   "source": [
    "%matplotlib inline\n",
    "\n",
    "data.plot(kind='barh', figsize=(8, 8))"
   ]
  },
  {
   "cell_type": "code",
   "execution_count": 15,
   "metadata": {
    "ExecuteTime": {
     "end_time": "2019-05-09T13:52:59.714992Z",
     "start_time": "2019-05-09T13:52:59.707693Z"
    }
   },
   "outputs": [
    {
     "data": {
      "text/plain": [
       "INDGRP\n",
       "Public administration                    83561.523438\n",
       "Construction and mining                 152699.296875\n",
       "Leisure and hospitality                 155131.671875\n",
       "Manufacturing                           297312.531250\n",
       "Trade, transportation, and utilities    308456.531250\n",
       "Education and health                    395925.625000\n",
       "Finance and business services           407614.093750\n",
       "Name: BASICWGT, dtype: float32"
      ]
     },
     "execution_count": 15,
     "metadata": {},
     "output_type": "execute_result"
    }
   ],
   "source": [
    "data[data > 500]"
   ]
  },
  {
   "cell_type": "code",
   "execution_count": null,
   "metadata": {},
   "outputs": [],
   "source": []
  },
  {
   "cell_type": "code",
   "execution_count": null,
   "metadata": {},
   "outputs": [],
   "source": []
  },
  {
   "cell_type": "code",
   "execution_count": null,
   "metadata": {},
   "outputs": [],
   "source": []
  },
  {
   "cell_type": "code",
   "execution_count": null,
   "metadata": {
    "ExecuteTime": {
     "end_time": "2019-04-21T00:36:18.914402Z",
     "start_time": "2019-04-21T00:36:18.905737Z"
    }
   },
   "outputs": [],
   "source": []
  },
  {
   "cell_type": "code",
   "execution_count": null,
   "metadata": {
    "ExecuteTime": {
     "end_time": "2019-04-21T00:34:06.939293Z",
     "start_time": "2019-04-21T00:34:06.935761Z"
    }
   },
   "outputs": [],
   "source": [
    "areas = [('Chattanooga-Cleveland-Dalton, TN-GA', 'CSA', [174]),\n",
    "         ('Greenville-Anderson-Spartanburg, SC', 'CSA', [273]),\n",
    "         ('Asheville, NC', 'CBSA', [11700]),\n",
    "         ('Johnson City-Kingsport-Bristol, TN-VA', 'CSA', [304]),\n",
    "         ('Huntsville, AL', 'CBSA', [26620]),\n",
    "         ('Knoxville, TN', 'CBSA', [28940])]\n",
    "\n",
    "area_names = [area[0] for area in areas]"
   ]
  },
  {
   "cell_type": "code",
   "execution_count": null,
   "metadata": {
    "ExecuteTime": {
     "end_time": "2019-04-21T00:36:02.861116Z",
     "start_time": "2019-04-21T00:36:02.692342Z"
    }
   },
   "outputs": [],
   "source": [
    "# CPS data\n",
    "os.chdir('/home/brian/Documents/CPS/data/clean')\n",
    "columns = ['MONTH', 'YEAR', 'CBSA', 'CSA', 'AGE', 'INDGRP', 'BASICWGT']\n",
    "pd.read_feather('cps2018.ft', columns=columns)"
   ]
  },
  {
   "cell_type": "code",
   "execution_count": null,
   "metadata": {
    "ExecuteTime": {
     "end_time": "2019-04-21T00:34:07.690805Z",
     "start_time": "2019-04-21T00:34:07.686791Z"
    }
   },
   "outputs": [],
   "source": [
    "csa = [area[2][0] for area in areas if area[1] == 'CSA']\n",
    "cbsa = [area[2][0] for area in areas if area[1] == 'CBSA']\n",
    "grps = [('US Total', 'AGE > -1')]\n",
    "grps2 = [(area[0], f'{area[1]} == {area[2][0]}') for area in areas]\n",
    "groups = grps2 + grps"
   ]
  },
  {
   "cell_type": "code",
   "execution_count": null,
   "metadata": {},
   "outputs": [],
   "source": []
  },
  {
   "cell_type": "code",
   "execution_count": null,
   "metadata": {},
   "outputs": [],
   "source": []
  },
  {
   "cell_type": "code",
   "execution_count": null,
   "metadata": {},
   "outputs": [],
   "source": []
  },
  {
   "cell_type": "code",
   "execution_count": null,
   "metadata": {},
   "outputs": [],
   "source": []
  },
  {
   "cell_type": "code",
   "execution_count": null,
   "metadata": {},
   "outputs": [],
   "source": []
  },
  {
   "cell_type": "code",
   "execution_count": null,
   "metadata": {},
   "outputs": [],
   "source": []
  },
  {
   "cell_type": "code",
   "execution_count": null,
   "metadata": {},
   "outputs": [],
   "source": []
  },
  {
   "cell_type": "markdown",
   "metadata": {},
   "source": [
    "# Class of worker, main job"
   ]
  },
  {
   "cell_type": "code",
   "execution_count": null,
   "metadata": {
    "ExecuteTime": {
     "end_time": "2019-04-21T00:32:44.651416Z",
     "start_time": "2019-04-21T00:32:44.073690Z"
    }
   },
   "outputs": [],
   "source": [
    "# CPS data\n",
    "os.chdir('/home/brian/Documents/CPS/data/clean')\n",
    "\n",
    "# Subset of columns of interest\n",
    "columns = ['MONTH', 'YEAR', 'CBSA', 'CSA', 'AGE', 'STATE', 'REGION',\n",
    "           'BASICWGT', 'LFS', 'COW1', 'IND', 'INDD', 'OCC', 'OCCD']\n",
    "\n",
    "df = pd.concat([pd.read_feather(f'cps{year}.ft', columns=columns)\n",
    "                  .query('BASICWGT > 0 and LFS == \"Employed\"')\n",
    "                for year in [2016, 2017, 2018, 2019]])"
   ]
  },
  {
   "cell_type": "code",
   "execution_count": null,
   "metadata": {
    "ExecuteTime": {
     "end_time": "2019-03-27T22:00:59.765531Z",
     "start_time": "2019-03-27T22:00:59.232699Z"
    }
   },
   "outputs": [],
   "source": [
    "df['OCCD'] = df['OCCD'].map(OccsDT2010)\n",
    "df['OCC'] = df['OCC'].map(Occs2010)\n",
    "df['INDD'] = df['INDD'].map(IndsDT2012)\n",
    "df['IND'] = df['IND'].map(Inds2012)"
   ]
  },
  {
   "cell_type": "code",
   "execution_count": null,
   "metadata": {
    "ExecuteTime": {
     "end_time": "2019-03-27T22:01:00.997860Z",
     "start_time": "2019-03-27T22:01:00.602100Z"
    }
   },
   "outputs": [],
   "source": [
    "d = df.query('CBSA == 28940')"
   ]
  },
  {
   "cell_type": "code",
   "execution_count": null,
   "metadata": {
    "ExecuteTime": {
     "end_time": "2019-03-27T22:05:09.498687Z",
     "start_time": "2019-03-27T22:05:09.492323Z"
    }
   },
   "outputs": [],
   "source": [
    "d.groupby('COW1').BASICWGT.sum().divide(38).round(-2).sort_values(ascending=False)"
   ]
  },
  {
   "cell_type": "code",
   "execution_count": null,
   "metadata": {},
   "outputs": [],
   "source": []
  },
  {
   "cell_type": "code",
   "execution_count": null,
   "metadata": {},
   "outputs": [],
   "source": []
  },
  {
   "cell_type": "code",
   "execution_count": null,
   "metadata": {},
   "outputs": [],
   "source": []
  },
  {
   "cell_type": "markdown",
   "metadata": {},
   "source": [
    "# Unemployment type"
   ]
  },
  {
   "cell_type": "code",
   "execution_count": null,
   "metadata": {
    "ExecuteTime": {
     "end_time": "2019-02-26T14:02:25.900850Z",
     "start_time": "2019-02-26T14:02:25.671871Z"
    }
   },
   "outputs": [],
   "source": [
    "# CPS data\n",
    "os.chdir('/home/brian/Documents/CPS/data/clean')\n",
    "\n",
    "# Subset of columns of interest\n",
    "columns = ['MONTH', 'YEAR', 'CBSA', 'CSA', 'AGE', 'STATE', 'REGION',\n",
    "           'BASICWGT', 'LFS', 'UNEMPTYPE', 'UNEMPDUR']\n",
    "\n",
    "df = pd.concat([pd.read_feather(f'cps{year}.ft', columns=columns)\n",
    "                for year in [2016, 2017, 2018]])"
   ]
  },
  {
   "cell_type": "code",
   "execution_count": null,
   "metadata": {
    "ExecuteTime": {
     "end_time": "2019-02-26T14:02:27.085425Z",
     "start_time": "2019-02-26T14:02:25.902704Z"
    }
   },
   "outputs": [],
   "source": [
    "# Collect results for total, men, women in each area\n",
    "results = pd.DataFrame()\n",
    "for group in groups:\n",
    "    data = df.query(group[1])\n",
    "    data = data.query('AGE >= 16')\n",
    "    u = data.groupby('UNEMPTYPE').BASICWGT.sum()\n",
    "    lf = data[data['LFS'] != 'NILF'].BASICWGT.sum()\n",
    "    s = ((u / lf) * 100)\n",
    "    for idx, val in s.iteritems():\n",
    "        results.at[group[0], idx] = val \n",
    "        \n",
    "results = results.drop('nan', axis=1)\n",
    "results['Total'] = results.sum(axis=1)"
   ]
  },
  {
   "cell_type": "code",
   "execution_count": null,
   "metadata": {
    "ExecuteTime": {
     "end_time": "2019-02-26T14:02:27.095538Z",
     "start_time": "2019-02-26T14:02:27.086977Z"
    }
   },
   "outputs": [],
   "source": [
    "areas = results[results.index != 'US Total']\n",
    "total = results[results.index == 'US Total']\n",
    "\n",
    "areas = areas.sort_values(by='Total')\n",
    "\n",
    "results = pd.concat([total, areas]).drop('Total', axis=1)\n",
    "label_locs = results.cumsum(axis=1) - results.divide(2)"
   ]
  },
  {
   "cell_type": "code",
   "execution_count": null,
   "metadata": {
    "ExecuteTime": {
     "end_time": "2019-02-26T14:02:27.114672Z",
     "start_time": "2019-02-26T14:02:27.096941Z"
    }
   },
   "outputs": [],
   "source": [
    "results"
   ]
  },
  {
   "cell_type": "markdown",
   "metadata": {},
   "source": [
    "#### Graph results"
   ]
  },
  {
   "cell_type": "code",
   "execution_count": null,
   "metadata": {
    "ExecuteTime": {
     "end_time": "2019-02-26T14:02:27.121612Z",
     "start_time": "2019-02-26T14:02:27.119306Z"
    }
   },
   "outputs": [],
   "source": [
    "os.chdir('/home/brian/Documents/blog_posts/Southern_Six/')"
   ]
  },
  {
   "cell_type": "code",
   "execution_count": null,
   "metadata": {
    "ExecuteTime": {
     "end_time": "2019-02-26T14:02:27.496214Z",
     "start_time": "2019-02-26T14:02:27.124041Z"
    }
   },
   "outputs": [],
   "source": [
    "# Stacked horizontal bar chart\n",
    "fig = plt.figure(figsize=(9,8))\n",
    "\n",
    "ax = plt.gca()\n",
    "\n",
    "# Stacked horizontal bar plot\n",
    "colors = ['#e41a1c', '#377eb8', '#4daf4a', '#984ea3']\n",
    "results.plot(kind='barh', stacked=True, width=0.5, legend=None, \n",
    "             color=colors, ax=ax)\n",
    "\n",
    "plt.yticks([])\n",
    "\n",
    "for y_loc, name in enumerate(results.index):\n",
    "    plt.text(0, y_loc + 0.34, name, fontsize=12, color='gray', weight='bold')\n",
    "    \n",
    "for category in label_locs:\n",
    "    for y_loc, x_loc in enumerate(label_locs[category]):\n",
    "        text_val = round(results[category].iloc[y_loc], 1)\n",
    "        plt.text(x_loc, y_loc - 0.07, text_val, weight='bold',\n",
    "                 fontsize=10, color='white', ha='center')\n",
    "\n",
    "plt.ylim(-0.5, 8)\n",
    "plt.xlim(0, 5.1)\n",
    "        \n",
    "# Custom legend at top of plot\n",
    "plt.text(0.3, 7.2, 'Job leaver', ha='center')\n",
    "rect = Rectangle((0.1, 6.8), 0.4, 0.3, facecolor='#e41a1c', edgecolor='none')\n",
    "ax.add_patch(rect)\n",
    "\n",
    "plt.text(1.3, 7.2, 'Job loser', ha='center')\n",
    "rect = Rectangle((1.1, 6.8), 0.4, 0.3, facecolor='#377eb8', edgecolor='none')\n",
    "ax.add_patch(rect)\n",
    "\n",
    "plt.text(2.2, 7.2, 'New entrant', ha='center')\n",
    "rect = Rectangle((2.0, 6.8), 0.4, 0.3, facecolor='#4daf4a', edgecolor='none')\n",
    "ax.add_patch(rect)\n",
    "\n",
    "plt.text(3.1, 7.2, 'Re-entrant', ha='center')\n",
    "rect = Rectangle((2.9, 6.8), 0.4, 0.3, facecolor='#984ea3', edgecolor='none')\n",
    "ax.add_patch(rect)\n",
    "\n",
    "# add title and footer\n",
    "plt.text(-0.1, 8.1, 'Reason for unemployment', \n",
    "          fontsize=15, weight='bold')\n",
    "\n",
    "plt.text(0, 7.7, \"Percent of age 16+ labor force\", fontsize=12)\n",
    "\n",
    "plt.text(-0.1, -0.6, \"Source: Author's calculations from basic CPS microdata files covering January 2016 to December 2018.\")\n",
    "\n",
    "plt.axis('off')\n",
    "\n",
    "plt.savefig('unempreason.png', bbox_inches='tight');"
   ]
  },
  {
   "cell_type": "markdown",
   "metadata": {},
   "source": [
    "### Unemployment duration"
   ]
  },
  {
   "cell_type": "code",
   "execution_count": null,
   "metadata": {
    "ExecuteTime": {
     "end_time": "2019-02-26T14:02:28.377507Z",
     "start_time": "2019-02-26T14:02:27.497845Z"
    }
   },
   "outputs": [],
   "source": [
    "# Collect results for total, men, women in each area\n",
    "results = pd.DataFrame()\n",
    "for group in groups:\n",
    "    data = df.query(group[1])\n",
    "    data = data.query('AGE >= 16')\n",
    "    lf = data.loc[data['LFS'] != 'NILF', 'BASICWGT'].sum()\n",
    "    st = data.loc[data['UNEMPDUR'].between(0, 4), 'BASICWGT'].sum() \n",
    "    results.at[group[0], 'Short-term'] = st / lf * 100\n",
    "    mt = data.loc[data['UNEMPDUR'].between(5, 26), 'BASICWGT'].sum()\n",
    "    results.at[group[0], 'Medium-term'] = mt / lf * 100\n",
    "    lt = data.loc[data['UNEMPDUR'] > 26, 'BASICWGT'].sum()\n",
    "    results.at[group[0], 'Long-term'] = lt / lf * 100\n",
    "        \n",
    "results['Total'] = results.sum(axis=1)"
   ]
  },
  {
   "cell_type": "code",
   "execution_count": null,
   "metadata": {
    "ExecuteTime": {
     "end_time": "2019-02-26T14:02:28.390403Z",
     "start_time": "2019-02-26T14:02:28.378729Z"
    }
   },
   "outputs": [],
   "source": [
    "areas = results[results.index != 'US Total']\n",
    "total = results[results.index == 'US Total']\n",
    "\n",
    "areas = areas.sort_values(by='Total')\n",
    "\n",
    "results = pd.concat([total, areas]).drop('Total', axis=1)\n",
    "label_locs = results.cumsum(axis=1) - results.divide(2)"
   ]
  },
  {
   "cell_type": "code",
   "execution_count": null,
   "metadata": {
    "ExecuteTime": {
     "end_time": "2019-02-26T14:02:28.424108Z",
     "start_time": "2019-02-26T14:02:28.391723Z"
    }
   },
   "outputs": [],
   "source": [
    "results"
   ]
  },
  {
   "cell_type": "code",
   "execution_count": null,
   "metadata": {
    "ExecuteTime": {
     "end_time": "2019-02-26T14:02:28.750606Z",
     "start_time": "2019-02-26T14:02:28.428764Z"
    }
   },
   "outputs": [],
   "source": [
    "# Stacked horizontal bar chart\n",
    "fig = plt.figure(figsize=(9,8))\n",
    "\n",
    "ax = plt.gca()\n",
    "\n",
    "# Stacked horizontal bar plot\n",
    "colors = ['#e41a1c', '#377eb8', '#4daf4a']\n",
    "results.plot(kind='barh', stacked=True, width=0.5, legend=None, \n",
    "             color=colors, ax=ax)\n",
    "\n",
    "plt.yticks([])\n",
    "\n",
    "for y_loc, name in enumerate(results.index):\n",
    "    plt.text(0, y_loc + 0.34, name, fontsize=12, color='gray', weight='bold')\n",
    "    \n",
    "for category in label_locs:\n",
    "    for y_loc, x_loc in enumerate(label_locs[category]):\n",
    "        text_val = round(results[category].iloc[y_loc], 1)\n",
    "        plt.text(x_loc, y_loc - 0.07, text_val, weight='bold',\n",
    "                 fontsize=10, color='white', ha='center')\n",
    "\n",
    "plt.ylim(-0.5, 8)\n",
    "plt.xlim(0, 5.1)\n",
    "        \n",
    "# Custom legend at top of plot\n",
    "plt.text(0.3, 7.2, '0-4 weeks', ha='center')\n",
    "rect = Rectangle((0.1, 6.8), 0.4, 0.3, facecolor='#e41a1c', edgecolor='none')\n",
    "ax.add_patch(rect)\n",
    "\n",
    "plt.text(1.3, 7.2, '5-26 weeks', ha='center')\n",
    "rect = Rectangle((1.1, 6.8), 0.4, 0.3, facecolor='#377eb8', edgecolor='none')\n",
    "ax.add_patch(rect)\n",
    "\n",
    "plt.text(2.2, 7.2, '27+ weeks', ha='center')\n",
    "rect = Rectangle((2.0, 6.8), 0.4, 0.3, facecolor='#4daf4a', edgecolor='none')\n",
    "ax.add_patch(rect)\n",
    "\n",
    "\n",
    "# add title and footer\n",
    "plt.text(-0.1, 8.1, 'Duration of unemployment', \n",
    "          fontsize=15, weight='bold')\n",
    "\n",
    "plt.text(0, 7.7, \"Percent of age 16+ labor force\", fontsize=12)\n",
    "\n",
    "plt.text(-0.1, -0.6, \"Source: Author's calculations from basic CPS microdata files covering January 2016 to December 2018.\")\n",
    "\n",
    "plt.axis('off')\n",
    "\n",
    "plt.savefig('unempduration.png', bbox_inches='tight');"
   ]
  },
  {
   "cell_type": "code",
   "execution_count": null,
   "metadata": {},
   "outputs": [],
   "source": []
  }
 ],
 "metadata": {
  "kernelspec": {
   "display_name": "Python 3",
   "language": "python",
   "name": "python3"
  },
  "language_info": {
   "codemirror_mode": {
    "name": "ipython",
    "version": 3
   },
   "file_extension": ".py",
   "mimetype": "text/x-python",
   "name": "python",
   "nbconvert_exporter": "python",
   "pygments_lexer": "ipython3",
   "version": "3.7.3"
  }
 },
 "nbformat": 4,
 "nbformat_minor": 2
}
