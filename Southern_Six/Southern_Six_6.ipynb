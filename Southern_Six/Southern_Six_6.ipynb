{
 "cells": [
  {
   "cell_type": "markdown",
   "metadata": {},
   "source": [
    "# Six Southern Labor Markets #6\n",
    "### Unemployment type and duration\n",
    "\n",
    "February 19, 2019\n",
    "\n",
    "Brian Dew, @bd_econ\n",
    "\n",
    "-----\n",
    "\n",
    "For the combined years 2016, 2017, and 2018, look at why people are unemployed and how this compares to national average. Then look at how unemployment duration is divided between short- (<5 weeks), medium- (5-26 weeks), and long-term (27+ weeks) unemployment.\n",
    "\n",
    "Areas:\n",
    "\n",
    "- Chattanooga\n",
    "- Knoxville\n",
    "- Greenville\n",
    "- Asheville\n",
    "- Kingsport\n",
    "- Huntsville\n",
    "- US total"
   ]
  },
  {
   "cell_type": "code",
   "execution_count": 1,
   "metadata": {
    "ExecuteTime": {
     "end_time": "2019-02-20T00:54:53.338070Z",
     "start_time": "2019-02-20T00:54:52.870053Z"
    }
   },
   "outputs": [],
   "source": [
    "import pandas as pd\n",
    "import numpy as np\n",
    "import pickle\n",
    "import os\n",
    "\n",
    "import matplotlib.pyplot as plt\n",
    "from matplotlib.patches import Rectangle\n",
    "from matplotlib.collections import PatchCollection"
   ]
  },
  {
   "cell_type": "code",
   "execution_count": 2,
   "metadata": {
    "ExecuteTime": {
     "end_time": "2019-02-20T00:54:53.345288Z",
     "start_time": "2019-02-20T00:54:53.340843Z"
    }
   },
   "outputs": [],
   "source": [
    "areas = [('Chattanooga-Cleveland-Dalton, TN-GA', 'CSA', [174]),\n",
    "         ('Greenville-Anderson-Spartanburg, SC', 'CSA', [273]),\n",
    "         ('Asheville, NC', 'CBSA', [11700]),\n",
    "         ('Johnson City-Kingsport-Bristol, TN-VA', 'CSA', [304]),\n",
    "         ('Huntsville, AL', 'CBSA', [26620]),\n",
    "         ('Knoxville, TN', 'CBSA', [28940])]\n",
    "\n",
    "area_names = [area[0] for area in areas]"
   ]
  },
  {
   "cell_type": "code",
   "execution_count": 3,
   "metadata": {
    "ExecuteTime": {
     "end_time": "2019-02-20T00:54:53.350964Z",
     "start_time": "2019-02-20T00:54:53.346265Z"
    }
   },
   "outputs": [],
   "source": [
    "csa = [area[2][0] for area in areas if area[1] == 'CSA']\n",
    "cbsa = [area[2][0] for area in areas if area[1] == 'CBSA']\n",
    "grps = [('US Total', 'AGE > -1')]\n",
    "grps2 = [(area[0], f'{area[1]} == {area[2][0]}') for area in areas]\n",
    "groups = grps2 + grps"
   ]
  },
  {
   "cell_type": "markdown",
   "metadata": {},
   "source": [
    "# Unemployment type"
   ]
  },
  {
   "cell_type": "code",
   "execution_count": 4,
   "metadata": {
    "ExecuteTime": {
     "end_time": "2019-02-20T00:54:53.676485Z",
     "start_time": "2019-02-20T00:54:53.352849Z"
    }
   },
   "outputs": [],
   "source": [
    "# CPS data\n",
    "os.chdir('/home/brian/Documents/CPS/data/clean')\n",
    "\n",
    "# Subset of columns of interest\n",
    "columns = ['MONTH', 'YEAR', 'CBSA', 'CSA', 'AGE', 'STATE', 'REGION',\n",
    "           'BASICWGT', 'LFS', 'UNEMPTYPE', 'UNEMPDUR']\n",
    "\n",
    "df = pd.concat([pd.read_feather(f'cps{year}.ft', columns=columns)\n",
    "                for year in [2016, 2017, 2018]])"
   ]
  },
  {
   "cell_type": "code",
   "execution_count": 10,
   "metadata": {
    "ExecuteTime": {
     "end_time": "2019-02-20T01:11:19.056662Z",
     "start_time": "2019-02-20T01:11:17.870011Z"
    }
   },
   "outputs": [],
   "source": [
    "# Collect results for total, men, women in each area\n",
    "results = pd.DataFrame()\n",
    "for group in groups:\n",
    "    data = df.query(group[1])\n",
    "    data = data.query('AGE >= 16')\n",
    "    u = data.groupby('UNEMPTYPE').BASICWGT.sum()\n",
    "    lf = data[data['LFS'] != 'NILF'].BASICWGT.sum()\n",
    "    s = ((u / lf) * 100)\n",
    "    for idx, val in s.iteritems():\n",
    "        results.at[group[0], idx] = val \n",
    "        \n",
    "results = results.drop('nan', axis=1)\n",
    "results['Total'] = results.sum(axis=1)"
   ]
  },
  {
   "cell_type": "markdown",
   "metadata": {},
   "source": [
    "#### Graph results"
   ]
  },
  {
   "cell_type": "code",
   "execution_count": null,
   "metadata": {},
   "outputs": [],
   "source": [
    "os.chdir('/home/brian/Documents/blog_posts/Southern_Six/')"
   ]
  },
  {
   "cell_type": "code",
   "execution_count": 13,
   "metadata": {
    "ExecuteTime": {
     "end_time": "2019-02-20T01:30:21.114959Z",
     "start_time": "2019-02-20T01:30:20.922908Z"
    }
   },
   "outputs": [
    {
     "data": {
      "text/plain": [
       "<matplotlib.axes._subplots.AxesSubplot at 0x7fc31de9bef0>"
      ]
     },
     "execution_count": 13,
     "metadata": {},
     "output_type": "execute_result"
    },
    {
     "data": {
      "image/png": "[encoded data removed]",
      "text/plain": [
       "<Figure size 432x288 with 1 Axes>"
      ]
     },
     "metadata": {
      "needs_background": "light"
     },
     "output_type": "display_data"
    }
   ],
   "source": [
    "results.drop('Total', axis=1).plot(kind='barh', stacked=True)"
   ]
  },
  {
   "cell_type": "code",
   "execution_count": null,
   "metadata": {},
   "outputs": [],
   "source": []
  },
  {
   "cell_type": "code",
   "execution_count": null,
   "metadata": {},
   "outputs": [],
   "source": []
  },
  {
   "cell_type": "code",
   "execution_count": null,
   "metadata": {},
   "outputs": [],
   "source": []
  }
 ],
 "metadata": {
  "kernelspec": {
   "display_name": "Python 3",
   "language": "python",
   "name": "python3"
  },
  "language_info": {
   "codemirror_mode": {
    "name": "ipython",
    "version": 3
   },
   "file_extension": ".py",
   "mimetype": "text/x-python",
   "name": "python",
   "nbconvert_exporter": "python",
   "pygments_lexer": "ipython3",
   "version": "3.7.1"
  }
 },
 "nbformat": 4,
 "nbformat_minor": 2
}
