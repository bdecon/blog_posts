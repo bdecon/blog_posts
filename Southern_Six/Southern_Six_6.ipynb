{
 "cells": [
  {
   "cell_type": "markdown",
   "metadata": {},
   "source": [
    "# Six Southern Labor Markets #6\n",
    "### Unemployment type and duration\n",
    "\n",
    "February 26, 2019\n",
    "\n",
    "Brian Dew, @bd_econ\n",
    "\n",
    "-----\n",
    "\n",
    "For the combined years 2016, 2017, and 2018, look at why people are unemployed and how this compares to national average. Then look at how unemployment duration is divided between short- (<5 weeks), medium- (5-26 weeks), and long-term (27+ weeks) unemployment.\n",
    "\n",
    "Areas:\n",
    "\n",
    "- Chattanooga\n",
    "- Knoxville\n",
    "- Greenville\n",
    "- Asheville\n",
    "- Kingsport\n",
    "- Huntsville\n",
    "- US total"
   ]
  },
  {
   "cell_type": "code",
   "execution_count": 1,
   "metadata": {
    "ExecuteTime": {
     "end_time": "2019-02-26T14:02:25.651387Z",
     "start_time": "2019-02-26T14:02:25.311672Z"
    }
   },
   "outputs": [],
   "source": [
    "import pandas as pd\n",
    "import numpy as np\n",
    "import pickle\n",
    "import os\n",
    "\n",
    "import matplotlib.pyplot as plt\n",
    "from matplotlib.patches import Rectangle\n",
    "from matplotlib.collections import PatchCollection"
   ]
  },
  {
   "cell_type": "code",
   "execution_count": 2,
   "metadata": {
    "ExecuteTime": {
     "end_time": "2019-02-26T14:02:25.658602Z",
     "start_time": "2019-02-26T14:02:25.653156Z"
    }
   },
   "outputs": [],
   "source": [
    "areas = [('Chattanooga-Cleveland-Dalton, TN-GA', 'CSA', [174]),\n",
    "         ('Greenville-Anderson-Spartanburg, SC', 'CSA', [273]),\n",
    "         ('Asheville, NC', 'CBSA', [11700]),\n",
    "         ('Johnson City-Kingsport-Bristol, TN-VA', 'CSA', [304]),\n",
    "         ('Huntsville, AL', 'CBSA', [26620]),\n",
    "         ('Knoxville, TN', 'CBSA', [28940])]\n",
    "\n",
    "area_names = [area[0] for area in areas]"
   ]
  },
  {
   "cell_type": "code",
   "execution_count": 3,
   "metadata": {
    "ExecuteTime": {
     "end_time": "2019-02-26T14:02:25.670081Z",
     "start_time": "2019-02-26T14:02:25.659998Z"
    }
   },
   "outputs": [],
   "source": [
    "csa = [area[2][0] for area in areas if area[1] == 'CSA']\n",
    "cbsa = [area[2][0] for area in areas if area[1] == 'CBSA']\n",
    "grps = [('US Total', 'AGE > -1')]\n",
    "grps2 = [(area[0], f'{area[1]} == {area[2][0]}') for area in areas]\n",
    "groups = grps2 + grps"
   ]
  },
  {
   "cell_type": "markdown",
   "metadata": {},
   "source": [
    "# Unemployment type"
   ]
  },
  {
   "cell_type": "code",
   "execution_count": 4,
   "metadata": {
    "ExecuteTime": {
     "end_time": "2019-02-26T14:02:25.900850Z",
     "start_time": "2019-02-26T14:02:25.671871Z"
    }
   },
   "outputs": [],
   "source": [
    "# CPS data\n",
    "os.chdir('/home/brian/Documents/CPS/data/clean')\n",
    "\n",
    "# Subset of columns of interest\n",
    "columns = ['MONTH', 'YEAR', 'CBSA', 'CSA', 'AGE', 'STATE', 'REGION',\n",
    "           'BASICWGT', 'LFS', 'UNEMPTYPE', 'UNEMPDUR']\n",
    "\n",
    "df = pd.concat([pd.read_feather(f'cps{year}.ft', columns=columns)\n",
    "                for year in [2016, 2017, 2018]])"
   ]
  },
  {
   "cell_type": "code",
   "execution_count": 5,
   "metadata": {
    "ExecuteTime": {
     "end_time": "2019-02-26T14:02:27.085425Z",
     "start_time": "2019-02-26T14:02:25.902704Z"
    }
   },
   "outputs": [],
   "source": [
    "# Collect results for total, men, women in each area\n",
    "results = pd.DataFrame()\n",
    "for group in groups:\n",
    "    data = df.query(group[1])\n",
    "    data = data.query('AGE >= 16')\n",
    "    u = data.groupby('UNEMPTYPE').BASICWGT.sum()\n",
    "    lf = data[data['LFS'] != 'NILF'].BASICWGT.sum()\n",
    "    s = ((u / lf) * 100)\n",
    "    for idx, val in s.iteritems():\n",
    "        results.at[group[0], idx] = val \n",
    "        \n",
    "results = results.drop('nan', axis=1)\n",
    "results['Total'] = results.sum(axis=1)"
   ]
  },
  {
   "cell_type": "code",
   "execution_count": 6,
   "metadata": {
    "ExecuteTime": {
     "end_time": "2019-02-26T14:02:27.095538Z",
     "start_time": "2019-02-26T14:02:27.086977Z"
    }
   },
   "outputs": [],
   "source": [
    "areas = results[results.index != 'US Total']\n",
    "total = results[results.index == 'US Total']\n",
    "\n",
    "areas = areas.sort_values(by='Total')\n",
    "\n",
    "results = pd.concat([total, areas]).drop('Total', axis=1)\n",
    "label_locs = results.cumsum(axis=1) - results.divide(2)"
   ]
  },
  {
   "cell_type": "code",
   "execution_count": 7,
   "metadata": {
    "ExecuteTime": {
     "end_time": "2019-02-26T14:02:27.114672Z",
     "start_time": "2019-02-26T14:02:27.096941Z"
    }
   },
   "outputs": [
    {
     "data": {
      "text/html": [
       "<div>\n",
       "<style scoped>\n",
       "    .dataframe tbody tr th:only-of-type {\n",
       "        vertical-align: middle;\n",
       "    }\n",
       "\n",
       "    .dataframe tbody tr th {\n",
       "        vertical-align: top;\n",
       "    }\n",
       "\n",
       "    .dataframe thead th {\n",
       "        text-align: right;\n",
       "    }\n",
       "</style>\n",
       "<table border=\"1\" class=\"dataframe\">\n",
       "  <thead>\n",
       "    <tr style=\"text-align: right;\">\n",
       "      <th></th>\n",
       "      <th>Job Leaver</th>\n",
       "      <th>Job Loser</th>\n",
       "      <th>New Entrant</th>\n",
       "      <th>Re-entrant</th>\n",
       "    </tr>\n",
       "  </thead>\n",
       "  <tbody>\n",
       "    <tr>\n",
       "      <th>US Total</th>\n",
       "      <td>0.504433</td>\n",
       "      <td>2.107583</td>\n",
       "      <td>0.442542</td>\n",
       "      <td>1.315879</td>\n",
       "    </tr>\n",
       "    <tr>\n",
       "      <th>Asheville, NC</th>\n",
       "      <td>0.372209</td>\n",
       "      <td>1.447538</td>\n",
       "      <td>0.279831</td>\n",
       "      <td>0.790547</td>\n",
       "    </tr>\n",
       "    <tr>\n",
       "      <th>Knoxville, TN</th>\n",
       "      <td>0.629139</td>\n",
       "      <td>1.105258</td>\n",
       "      <td>0.416987</td>\n",
       "      <td>1.313944</td>\n",
       "    </tr>\n",
       "    <tr>\n",
       "      <th>Greenville-Anderson-Spartanburg, SC</th>\n",
       "      <td>0.426098</td>\n",
       "      <td>1.819097</td>\n",
       "      <td>0.312064</td>\n",
       "      <td>1.375730</td>\n",
       "    </tr>\n",
       "    <tr>\n",
       "      <th>Johnson City-Kingsport-Bristol, TN-VA</th>\n",
       "      <td>0.939859</td>\n",
       "      <td>1.671698</td>\n",
       "      <td>0.172478</td>\n",
       "      <td>1.180108</td>\n",
       "    </tr>\n",
       "    <tr>\n",
       "      <th>Chattanooga-Cleveland-Dalton, TN-GA</th>\n",
       "      <td>0.795606</td>\n",
       "      <td>1.855047</td>\n",
       "      <td>0.646967</td>\n",
       "      <td>1.306082</td>\n",
       "    </tr>\n",
       "    <tr>\n",
       "      <th>Huntsville, AL</th>\n",
       "      <td>0.371496</td>\n",
       "      <td>2.147555</td>\n",
       "      <td>0.801583</td>\n",
       "      <td>1.778237</td>\n",
       "    </tr>\n",
       "  </tbody>\n",
       "</table>\n",
       "</div>"
      ],
      "text/plain": [
       "                                       Job Leaver  Job Loser  New Entrant  \\\n",
       "US Total                                 0.504433   2.107583     0.442542   \n",
       "Asheville, NC                            0.372209   1.447538     0.279831   \n",
       "Knoxville, TN                            0.629139   1.105258     0.416987   \n",
       "Greenville-Anderson-Spartanburg, SC      0.426098   1.819097     0.312064   \n",
       "Johnson City-Kingsport-Bristol, TN-VA    0.939859   1.671698     0.172478   \n",
       "Chattanooga-Cleveland-Dalton, TN-GA      0.795606   1.855047     0.646967   \n",
       "Huntsville, AL                           0.371496   2.147555     0.801583   \n",
       "\n",
       "                                       Re-entrant  \n",
       "US Total                                 1.315879  \n",
       "Asheville, NC                            0.790547  \n",
       "Knoxville, TN                            1.313944  \n",
       "Greenville-Anderson-Spartanburg, SC      1.375730  \n",
       "Johnson City-Kingsport-Bristol, TN-VA    1.180108  \n",
       "Chattanooga-Cleveland-Dalton, TN-GA      1.306082  \n",
       "Huntsville, AL                           1.778237  "
      ]
     },
     "execution_count": 7,
     "metadata": {},
     "output_type": "execute_result"
    }
   ],
   "source": [
    "results"
   ]
  },
  {
   "cell_type": "markdown",
   "metadata": {},
   "source": [
    "#### Graph results"
   ]
  },
  {
   "cell_type": "code",
   "execution_count": 8,
   "metadata": {
    "ExecuteTime": {
     "end_time": "2019-02-26T14:02:27.121612Z",
     "start_time": "2019-02-26T14:02:27.119306Z"
    }
   },
   "outputs": [],
   "source": [
    "os.chdir('/home/brian/Documents/blog_posts/Southern_Six/')"
   ]
  },
  {
   "cell_type": "code",
   "execution_count": 9,
   "metadata": {
    "ExecuteTime": {
     "end_time": "2019-02-26T14:02:27.496214Z",
     "start_time": "2019-02-26T14:02:27.124041Z"
    }
   },
   "outputs": [
    {
     "data": {
      "image/png": "[encoded data removed]",
      "text/plain": [
       "<Figure size 648x576 with 1 Axes>"
      ]
     },
     "metadata": {
      "needs_background": "light"
     },
     "output_type": "display_data"
    }
   ],
   "source": [
    "# Stacked horizontal bar chart\n",
    "fig = plt.figure(figsize=(9,8))\n",
    "\n",
    "ax = plt.gca()\n",
    "\n",
    "# Stacked horizontal bar plot\n",
    "colors = ['#e41a1c', '#377eb8', '#4daf4a', '#984ea3']\n",
    "results.plot(kind='barh', stacked=True, width=0.5, legend=None, \n",
    "             color=colors, ax=ax)\n",
    "\n",
    "plt.yticks([])\n",
    "\n",
    "for y_loc, name in enumerate(results.index):\n",
    "    plt.text(0, y_loc + 0.34, name, fontsize=12, color='gray', weight='bold')\n",
    "    \n",
    "for category in label_locs:\n",
    "    for y_loc, x_loc in enumerate(label_locs[category]):\n",
    "        text_val = round(results[category].iloc[y_loc], 1)\n",
    "        plt.text(x_loc, y_loc - 0.07, text_val, weight='bold',\n",
    "                 fontsize=10, color='white', ha='center')\n",
    "\n",
    "plt.ylim(-0.5, 8)\n",
    "plt.xlim(0, 5.1)\n",
    "        \n",
    "# Custom legend at top of plot\n",
    "plt.text(0.3, 7.2, 'Job leaver', ha='center')\n",
    "rect = Rectangle((0.1, 6.8), 0.4, 0.3, facecolor='#e41a1c', edgecolor='none')\n",
    "ax.add_patch(rect)\n",
    "\n",
    "plt.text(1.3, 7.2, 'Job loser', ha='center')\n",
    "rect = Rectangle((1.1, 6.8), 0.4, 0.3, facecolor='#377eb8', edgecolor='none')\n",
    "ax.add_patch(rect)\n",
    "\n",
    "plt.text(2.2, 7.2, 'New entrant', ha='center')\n",
    "rect = Rectangle((2.0, 6.8), 0.4, 0.3, facecolor='#4daf4a', edgecolor='none')\n",
    "ax.add_patch(rect)\n",
    "\n",
    "plt.text(3.1, 7.2, 'Re-entrant', ha='center')\n",
    "rect = Rectangle((2.9, 6.8), 0.4, 0.3, facecolor='#984ea3', edgecolor='none')\n",
    "ax.add_patch(rect)\n",
    "\n",
    "# add title and footer\n",
    "plt.text(-0.1, 8.1, 'Reason for unemployment', \n",
    "          fontsize=15, weight='bold')\n",
    "\n",
    "plt.text(0, 7.7, \"Percent of age 16+ labor force\", fontsize=12)\n",
    "\n",
    "plt.text(-0.1, -0.6, \"Source: Author's calculations from basic CPS microdata files covering January 2016 to December 2018.\")\n",
    "\n",
    "plt.axis('off')\n",
    "\n",
    "plt.savefig('unempreason.png', bbox_inches='tight');"
   ]
  },
  {
   "cell_type": "markdown",
   "metadata": {},
   "source": [
    "### Unemployment duration"
   ]
  },
  {
   "cell_type": "code",
   "execution_count": 10,
   "metadata": {
    "ExecuteTime": {
     "end_time": "2019-02-26T14:02:28.377507Z",
     "start_time": "2019-02-26T14:02:27.497845Z"
    }
   },
   "outputs": [],
   "source": [
    "# Collect results for total, men, women in each area\n",
    "results = pd.DataFrame()\n",
    "for group in groups:\n",
    "    data = df.query(group[1])\n",
    "    data = data.query('AGE >= 16')\n",
    "    lf = data.loc[data['LFS'] != 'NILF', 'BASICWGT'].sum()\n",
    "    st = data.loc[data['UNEMPDUR'].between(0, 4), 'BASICWGT'].sum() \n",
    "    results.at[group[0], 'Short-term'] = st / lf * 100\n",
    "    mt = data.loc[data['UNEMPDUR'].between(5, 26), 'BASICWGT'].sum()\n",
    "    results.at[group[0], 'Medium-term'] = mt / lf * 100\n",
    "    lt = data.loc[data['UNEMPDUR'] > 26, 'BASICWGT'].sum()\n",
    "    results.at[group[0], 'Long-term'] = lt / lf * 100\n",
    "        \n",
    "results['Total'] = results.sum(axis=1)"
   ]
  },
  {
   "cell_type": "code",
   "execution_count": 11,
   "metadata": {
    "ExecuteTime": {
     "end_time": "2019-02-26T14:02:28.390403Z",
     "start_time": "2019-02-26T14:02:28.378729Z"
    }
   },
   "outputs": [],
   "source": [
    "areas = results[results.index != 'US Total']\n",
    "total = results[results.index == 'US Total']\n",
    "\n",
    "areas = areas.sort_values(by='Total')\n",
    "\n",
    "results = pd.concat([total, areas]).drop('Total', axis=1)\n",
    "label_locs = results.cumsum(axis=1) - results.divide(2)"
   ]
  },
  {
   "cell_type": "code",
   "execution_count": 12,
   "metadata": {
    "ExecuteTime": {
     "end_time": "2019-02-26T14:02:28.424108Z",
     "start_time": "2019-02-26T14:02:28.391723Z"
    }
   },
   "outputs": [
    {
     "data": {
      "text/html": [
       "<div>\n",
       "<style scoped>\n",
       "    .dataframe tbody tr th:only-of-type {\n",
       "        vertical-align: middle;\n",
       "    }\n",
       "\n",
       "    .dataframe tbody tr th {\n",
       "        vertical-align: top;\n",
       "    }\n",
       "\n",
       "    .dataframe thead th {\n",
       "        text-align: right;\n",
       "    }\n",
       "</style>\n",
       "<table border=\"1\" class=\"dataframe\">\n",
       "  <thead>\n",
       "    <tr style=\"text-align: right;\">\n",
       "      <th></th>\n",
       "      <th>Short-term</th>\n",
       "      <th>Medium-term</th>\n",
       "      <th>Long-term</th>\n",
       "    </tr>\n",
       "  </thead>\n",
       "  <tbody>\n",
       "    <tr>\n",
       "      <th>US Total</th>\n",
       "      <td>1.413340</td>\n",
       "      <td>1.911060</td>\n",
       "      <td>1.046037</td>\n",
       "    </tr>\n",
       "    <tr>\n",
       "      <th>Asheville, NC</th>\n",
       "      <td>1.319043</td>\n",
       "      <td>1.282179</td>\n",
       "      <td>0.288904</td>\n",
       "    </tr>\n",
       "    <tr>\n",
       "      <th>Knoxville, TN</th>\n",
       "      <td>1.144946</td>\n",
       "      <td>1.275341</td>\n",
       "      <td>1.045042</td>\n",
       "    </tr>\n",
       "    <tr>\n",
       "      <th>Greenville-Anderson-Spartanburg, SC</th>\n",
       "      <td>1.482869</td>\n",
       "      <td>1.740246</td>\n",
       "      <td>0.709874</td>\n",
       "    </tr>\n",
       "    <tr>\n",
       "      <th>Johnson City-Kingsport-Bristol, TN-VA</th>\n",
       "      <td>1.300875</td>\n",
       "      <td>1.684988</td>\n",
       "      <td>0.978279</td>\n",
       "    </tr>\n",
       "    <tr>\n",
       "      <th>Chattanooga-Cleveland-Dalton, TN-GA</th>\n",
       "      <td>1.424462</td>\n",
       "      <td>2.680056</td>\n",
       "      <td>0.499183</td>\n",
       "    </tr>\n",
       "    <tr>\n",
       "      <th>Huntsville, AL</th>\n",
       "      <td>1.254842</td>\n",
       "      <td>2.055756</td>\n",
       "      <td>1.788273</td>\n",
       "    </tr>\n",
       "  </tbody>\n",
       "</table>\n",
       "</div>"
      ],
      "text/plain": [
       "                                       Short-term  Medium-term  Long-term\n",
       "US Total                                 1.413340     1.911060   1.046037\n",
       "Asheville, NC                            1.319043     1.282179   0.288904\n",
       "Knoxville, TN                            1.144946     1.275341   1.045042\n",
       "Greenville-Anderson-Spartanburg, SC      1.482869     1.740246   0.709874\n",
       "Johnson City-Kingsport-Bristol, TN-VA    1.300875     1.684988   0.978279\n",
       "Chattanooga-Cleveland-Dalton, TN-GA      1.424462     2.680056   0.499183\n",
       "Huntsville, AL                           1.254842     2.055756   1.788273"
      ]
     },
     "execution_count": 12,
     "metadata": {},
     "output_type": "execute_result"
    }
   ],
   "source": [
    "results"
   ]
  },
  {
   "cell_type": "code",
   "execution_count": 13,
   "metadata": {
    "ExecuteTime": {
     "end_time": "2019-02-26T14:02:28.750606Z",
     "start_time": "2019-02-26T14:02:28.428764Z"
    }
   },
   "outputs": [
    {
     "data": {
      "image/png": "[encoded data removed]",
      "text/plain": [
       "<Figure size 648x576 with 1 Axes>"
      ]
     },
     "metadata": {
      "needs_background": "light"
     },
     "output_type": "display_data"
    }
   ],
   "source": [
    "# Stacked horizontal bar chart\n",
    "fig = plt.figure(figsize=(9,8))\n",
    "\n",
    "ax = plt.gca()\n",
    "\n",
    "# Stacked horizontal bar plot\n",
    "colors = ['#e41a1c', '#377eb8', '#4daf4a']\n",
    "results.plot(kind='barh', stacked=True, width=0.5, legend=None, \n",
    "             color=colors, ax=ax)\n",
    "\n",
    "plt.yticks([])\n",
    "\n",
    "for y_loc, name in enumerate(results.index):\n",
    "    plt.text(0, y_loc + 0.34, name, fontsize=12, color='gray', weight='bold')\n",
    "    \n",
    "for category in label_locs:\n",
    "    for y_loc, x_loc in enumerate(label_locs[category]):\n",
    "        text_val = round(results[category].iloc[y_loc], 1)\n",
    "        plt.text(x_loc, y_loc - 0.07, text_val, weight='bold',\n",
    "                 fontsize=10, color='white', ha='center')\n",
    "\n",
    "plt.ylim(-0.5, 8)\n",
    "plt.xlim(0, 5.1)\n",
    "        \n",
    "# Custom legend at top of plot\n",
    "plt.text(0.3, 7.2, '0-4 weeks', ha='center')\n",
    "rect = Rectangle((0.1, 6.8), 0.4, 0.3, facecolor='#e41a1c', edgecolor='none')\n",
    "ax.add_patch(rect)\n",
    "\n",
    "plt.text(1.3, 7.2, '5-26 weeks', ha='center')\n",
    "rect = Rectangle((1.1, 6.8), 0.4, 0.3, facecolor='#377eb8', edgecolor='none')\n",
    "ax.add_patch(rect)\n",
    "\n",
    "plt.text(2.2, 7.2, '27+ weeks', ha='center')\n",
    "rect = Rectangle((2.0, 6.8), 0.4, 0.3, facecolor='#4daf4a', edgecolor='none')\n",
    "ax.add_patch(rect)\n",
    "\n",
    "\n",
    "# add title and footer\n",
    "plt.text(-0.1, 8.1, 'Duration of unemployment', \n",
    "          fontsize=15, weight='bold')\n",
    "\n",
    "plt.text(0, 7.7, \"Percent of age 16+ labor force\", fontsize=12)\n",
    "\n",
    "plt.text(-0.1, -0.6, \"Source: Author's calculations from basic CPS microdata files covering January 2016 to December 2018.\")\n",
    "\n",
    "plt.axis('off')\n",
    "\n",
    "plt.savefig('unempduration.png', bbox_inches='tight');"
   ]
  },
  {
   "cell_type": "code",
   "execution_count": null,
   "metadata": {},
   "outputs": [],
   "source": []
  }
 ],
 "metadata": {
  "kernelspec": {
   "display_name": "Python 3",
   "language": "python",
   "name": "python3"
  },
  "language_info": {
   "codemirror_mode": {
    "name": "ipython",
    "version": 3
   },
   "file_extension": ".py",
   "mimetype": "text/x-python",
   "name": "python",
   "nbconvert_exporter": "python",
   "pygments_lexer": "ipython3",
   "version": "3.7.3"
  }
 },
 "nbformat": 4,
 "nbformat_minor": 2
}
