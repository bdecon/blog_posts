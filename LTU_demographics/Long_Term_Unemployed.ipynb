{
 "cells": [
  {
   "cell_type": "markdown",
   "metadata": {},
   "source": [
    "### A closer look at who is long-term unemployed\n",
    "\n",
    "January 3, 2019\n",
    "\n",
    "@bd_econ\n",
    "\n",
    "Originally published on the bd econ blog, [here](https://briandew.wordpress.com/2019/01/03/possible-pieces-of-the-long-term-unemployment-puzzle/)"
   ]
  },
  {
   "cell_type": "code",
   "execution_count": 1,
   "metadata": {
    "ExecuteTime": {
     "end_time": "2019-02-04T14:13:29.979272Z",
     "start_time": "2019-02-04T14:13:29.652301Z"
    }
   },
   "outputs": [],
   "source": [
    "import pandas as pd\n",
    "import numpy as np\n",
    "from matplotlib import pyplot as plt\n",
    "%matplotlib inline\n",
    "\n",
    "import os\n",
    "os.chdir('/home/brian/Documents/CPS/data/clean')"
   ]
  },
  {
   "cell_type": "code",
   "execution_count": 2,
   "metadata": {
    "ExecuteTime": {
     "end_time": "2019-02-04T14:13:30.276895Z",
     "start_time": "2019-02-04T14:13:29.980980Z"
    }
   },
   "outputs": [],
   "source": [
    "filter_cols = ['AGE', 'LFS', 'BASICWGT', 'UNEMPDUR', 'MONTH', 'EDUC']\n",
    "component_vars = {'UNEMP': lambda x: \n",
    "                  np.where(x['LFS']=='Unemployed', x['BASICWGT'], 0),\n",
    "                  'LTU': lambda x:\n",
    "                  np.where((x['LFS']=='Unemployed') & \n",
    "                           (x['UNEMPDUR'] > 26), x['BASICWGT'], 0),\n",
    "                  'LF': lambda x: \n",
    "                  np.where(x['LFS'] != 'NILF', x['BASICWGT'], 0)}\n",
    "unrate = lambda x: (x['UNEMP'] / x['LF']) * 100.0\n",
    "ltu_sh = lambda x: (x['LTU'] / x['UNEMP']) * 100.0\n",
    "\n",
    "df = (pd.read_feather('cps2018.ft')\n",
    "        .filter(filter_cols)\n",
    "        .query('AGE > 15')\n",
    "        .assign(**component_vars))"
   ]
  },
  {
   "cell_type": "code",
   "execution_count": 3,
   "metadata": {
    "ExecuteTime": {
     "end_time": "2019-02-04T14:13:30.331819Z",
     "start_time": "2019-02-04T14:13:30.278345Z"
    }
   },
   "outputs": [
    {
     "data": {
      "text/plain": [
       "21.4"
      ]
     },
     "execution_count": 3,
     "metadata": {},
     "output_type": "execute_result"
    }
   ],
   "source": [
    "overall = df[['LTU', 'UNEMP']].sum()\n",
    "total_val = round(overall['LTU'] / overall['UNEMP'] * 100, 1)\n",
    "total_val"
   ]
  },
  {
   "cell_type": "code",
   "execution_count": 4,
   "metadata": {
    "ExecuteTime": {
     "end_time": "2019-02-04T14:13:30.382696Z",
     "start_time": "2019-02-04T14:13:30.338271Z"
    },
    "code_folding": []
   },
   "outputs": [],
   "source": [
    "educ_order = ['LTHS', 'HS', 'SC', 'COLL', 'ADV']\n",
    "fig1 = (df.groupby('EDUC')[['UNEMP', 'LTU', 'LF']].sum()\n",
    "          .assign(UNRATE = unrate, LTUSH = ltu_sh)['LTUSH']\n",
    "          .reindex(educ_order))"
   ]
  },
  {
   "cell_type": "code",
   "execution_count": 5,
   "metadata": {
    "ExecuteTime": {
     "end_time": "2019-02-04T14:13:30.394341Z",
     "start_time": "2019-02-04T14:13:30.390510Z"
    }
   },
   "outputs": [],
   "source": [
    "names = ['Less than high\\nschool degree',\n",
    "         'High school degree\\nor equivalent',\n",
    "         'Some college or\\nassociate degree',\n",
    "         \"Bachelor's degree\", \n",
    "         'Advanced degree']\n",
    "fig1.index = names"
   ]
  },
  {
   "cell_type": "code",
   "execution_count": 6,
   "metadata": {
    "ExecuteTime": {
     "end_time": "2019-02-04T14:13:30.600778Z",
     "start_time": "2019-02-04T14:13:30.400511Z"
    }
   },
   "outputs": [
    {
     "data": {
      "image/png": "[encoded data removed]",
      "text/plain": [
       "<Figure size 288x360 with 1 Axes>"
      ]
     },
     "metadata": {
      "needs_background": "light"
     },
     "output_type": "display_data"
    }
   ],
   "source": [
    "# Figure 1\n",
    "fig1.plot(kind='barh', color='darkorange', figsize=[4, 5], width=0.5, zorder=2)\n",
    "for i, val in enumerate(fig1):\n",
    "    x_val = val - 5\n",
    "    text_val = f'{round(val, 1)}%'\n",
    "    y_val = i - 0.06\n",
    "    plt.text(x_val, y_val, text_val, color='white', fontsize=12, weight='bold')\n",
    "    plt.text(-0.5, i, fig1.index[i], ha='right', va='center', fontsize=12)\n",
    "    \n",
    "plt.axvline(x=21.56, color='gray', linestyle='--', zorder=1)\n",
    "    \n",
    "plt.axvline(x=0, color='lightgray')    \n",
    "\n",
    "# add title and footer\n",
    "plt.text(-14, 5, 'Long-term unemployment and education', \n",
    "          fontsize=15, weight='bold')\n",
    "\n",
    "plt.text(-13, 4.7, \"Share of unemployment lasting 27 weeks or more\", \n",
    "          fontsize=12)\n",
    "\n",
    "plt.text(22, -0.45, f\"Total:\\n{total_val}%\", fontsize=11, color='gray', weight='bold')\n",
    "\n",
    "plt.text(-13, -0.8, \"Source: Author's calculations from basic monthly CPS microdata files\")\n",
    "plt.text(-12.5, -1.03, 'covering December 2017 to November 2018.')\n",
    "\n",
    "plt.axis('off')\n",
    "\n",
    "plt.savefig('Educ_LTU.png', bbox_inches='tight')\n",
    "plt.show()"
   ]
  },
  {
   "cell_type": "code",
   "execution_count": 7,
   "metadata": {
    "ExecuteTime": {
     "end_time": "2019-02-04T14:13:30.604816Z",
     "start_time": "2019-02-04T14:13:30.602373Z"
    }
   },
   "outputs": [],
   "source": [
    "age_groups = np.array_split(np.arange(16, 66, 1), 10)\n",
    "#age_groups"
   ]
  },
  {
   "cell_type": "code",
   "execution_count": 8,
   "metadata": {
    "ExecuteTime": {
     "end_time": "2019-02-04T14:13:30.791835Z",
     "start_time": "2019-02-04T14:13:30.606175Z"
    }
   },
   "outputs": [],
   "source": [
    "age_data = pd.Series()\n",
    "for grp in age_groups:\n",
    "    result = (df[df['AGE'].isin(grp)][['LTU', 'UNEMP', 'LF']].sum())\n",
    "    grp_data = round((result['LTU'] / result['UNEMP']) * 100, 1)\n",
    "    grp_name = f'{grp[0]}-{grp[-1]}'\n",
    "    age_data.at[grp_name] = grp_data\n",
    "    age_lf = result['UNEMP'] / result['LF']"
   ]
  },
  {
   "cell_type": "code",
   "execution_count": 9,
   "metadata": {
    "ExecuteTime": {
     "end_time": "2019-02-04T14:13:30.998833Z",
     "start_time": "2019-02-04T14:13:30.793116Z"
    }
   },
   "outputs": [
    {
     "data": {
      "image/png": "[encoded data removed]",
      "text/plain": [
       "<Figure size 288x360 with 1 Axes>"
      ]
     },
     "metadata": {
      "needs_background": "light"
     },
     "output_type": "display_data"
    }
   ],
   "source": [
    "age_data.plot(kind='barh', color='green', figsize=[4, 5], width=0.6, zorder=2)\n",
    "for i, val in enumerate(age_data):\n",
    "    x_val = val - 5.5\n",
    "    text_val = f'{round(val, 1)}%'\n",
    "    y_val = i - 0.14\n",
    "    plt.text(x_val, y_val, text_val, color='white', fontsize=10, weight='bold')\n",
    "    plt.text(-0.5, i-0.05, age_data.index[i], ha='right', va='center', fontsize=12)\n",
    "# add title and footer\n",
    "plt.text(-9, 10.4, 'Long-term unemployment and age', \n",
    "          fontsize=15, weight='bold')\n",
    "\n",
    "plt.text(-8, 9.8, \"Share of unemployment lasting 27 weeks or more\", \n",
    "          fontsize=12)\n",
    "\n",
    "plt.text(22, -0.45, f\"Total:\\n{total_val}%\", fontsize=10, color='gray', weight='bold')\n",
    "\n",
    "plt.text(-8, -1.0, \"Source: Author's calculations from basic monthly CPS micro-\")\n",
    "plt.text(-7.5, -1.45, 'data files covering December 2017 to November 2018.')\n",
    "plt.axvline(x=21.56, color='gray', linestyle='--', zorder=1)\n",
    "plt.axvline(x=0, color='lightgray')  \n",
    "plt.axis('off')\n",
    "\n",
    "plt.savefig('Age_LTU.png', bbox_inches='tight')\n",
    "plt.show()"
   ]
  },
  {
   "cell_type": "code",
   "execution_count": 10,
   "metadata": {
    "ExecuteTime": {
     "end_time": "2019-02-04T14:13:31.004312Z",
     "start_time": "2019-02-04T14:13:31.000474Z"
    }
   },
   "outputs": [],
   "source": [
    "# Base period demographics\n",
    "def base_period_demographics(df):\n",
    "    \"\"\"Function calculates the demographic share each category has and \n",
    "       returns age and educ share of the labor force, in a dictionary.\"\"\"\n",
    "    df = df[df['LF'] > 0]\n",
    "    #Calculate each category of age, sex, educ as share of total and store as dict\n",
    "    aged = (df.groupby('AGE')['BASICWGT'].sum() / df['BASICWGT'].sum()).to_dict()\n",
    "    educd = (df.groupby('EDUC')['BASICWGT'].sum() / df['BASICWGT'].sum()).to_dict()\n",
    "    return {'da_age': aged, 'da_educ': educd}"
   ]
  },
  {
   "cell_type": "code",
   "execution_count": 11,
   "metadata": {
    "ExecuteTime": {
     "end_time": "2019-02-04T14:13:31.202806Z",
     "start_time": "2019-02-04T14:13:31.005597Z"
    }
   },
   "outputs": [],
   "source": [
    "df = (pd.read_feather('cps1998.ft')\n",
    "        .filter(filter_cols)\n",
    "        .query('15 < AGE < 80')\n",
    "        .assign(**component_vars))"
   ]
  },
  {
   "cell_type": "code",
   "execution_count": 12,
   "metadata": {
    "ExecuteTime": {
     "end_time": "2019-02-04T14:13:31.263809Z",
     "start_time": "2019-02-04T14:13:31.205538Z"
    }
   },
   "outputs": [],
   "source": [
    "dem_adj = base_period_demographics(df)"
   ]
  },
  {
   "cell_type": "code",
   "execution_count": 13,
   "metadata": {
    "ExecuteTime": {
     "end_time": "2019-02-04T14:13:31.555875Z",
     "start_time": "2019-02-04T14:13:31.265411Z"
    }
   },
   "outputs": [],
   "source": [
    "df = (pd.read_feather('cps2018.ft')\n",
    "        .filter(filter_cols)\n",
    "        .query('15 < AGE < 79')\n",
    "        .assign(**component_vars)\n",
    "        .query('LF > 0'))"
   ]
  },
  {
   "cell_type": "code",
   "execution_count": null,
   "metadata": {},
   "outputs": [],
   "source": []
  },
  {
   "cell_type": "code",
   "execution_count": 14,
   "metadata": {
    "ExecuteTime": {
     "end_time": "2019-02-04T14:13:31.562795Z",
     "start_time": "2019-02-04T14:13:31.557245Z"
    }
   },
   "outputs": [],
   "source": [
    "def dem_adjuster(df, dem_adj):\n",
    "    \"\"\"Take add month values to df2 for various NILF calculations\"\"\"\n",
    "    # Calculate adjustment value for each demographic adjustment group category\n",
    "    # Map the adjustment values to the actual people in the CPS\n",
    "    # AGE\n",
    "    wgt = df['BASICWGT']\n",
    "    d1 = (df.groupby('AGE')['BASICWGT'].sum() / df['BASICWGT'].sum()).to_dict()\n",
    "    agec = {k: dem_adj['da_age'][k]/d1[k] for k in d1.keys() & dem_adj['da_age']}\n",
    "    age_adj = df['AGE'].map(agec)\n",
    "    wgt = age_adj * wgt\n",
    "    # EDUC\n",
    "    d1 = (df.groupby('EDUC')['BASICWGT'].sum() / df['BASICWGT'].sum()).to_dict()\n",
    "    educc = {k: dem_adj['da_educ'][k]/d1[k] for k in d1.keys() & dem_adj['da_educ']}    \n",
    "    educ_adj = df['EDUC'].map(educc)\n",
    "    wgt = educ_adj * wgt\n",
    "    df['ADJ_WGT'] = wgt\n",
    "    df['UNEMP_ADJ'] = np.where(df['UNEMP'] > 0, wgt, 0)\n",
    "    df['LTU_ADJ'] = np.where(df['LTU'] > 0, wgt, 0)\n",
    "    \n",
    "    return df"
   ]
  },
  {
   "cell_type": "code",
   "execution_count": 15,
   "metadata": {
    "ExecuteTime": {
     "end_time": "2019-02-04T14:13:31.702628Z",
     "start_time": "2019-02-04T14:13:31.564085Z"
    }
   },
   "outputs": [],
   "source": [
    "adj_df = dem_adjuster(df, dem_adj)"
   ]
  },
  {
   "cell_type": "code",
   "execution_count": 16,
   "metadata": {
    "ExecuteTime": {
     "end_time": "2019-02-04T14:13:31.750025Z",
     "start_time": "2019-02-04T14:13:31.703988Z"
    }
   },
   "outputs": [
    {
     "data": {
      "text/plain": [
       "19.2"
      ]
     },
     "execution_count": 16,
     "metadata": {},
     "output_type": "execute_result"
    }
   ],
   "source": [
    "overall = adj_df[['LTU_ADJ', 'UNEMP_ADJ']].sum()\n",
    "total_val = round(overall['LTU_ADJ'] / overall['UNEMP_ADJ'] * 100, 1)\n",
    "total_val"
   ]
  },
  {
   "cell_type": "code",
   "execution_count": 17,
   "metadata": {
    "ExecuteTime": {
     "end_time": "2019-02-04T14:13:31.781171Z",
     "start_time": "2019-02-04T14:13:31.751549Z"
    },
    "scrolled": true
   },
   "outputs": [
    {
     "data": {
      "text/html": [
       "<div>\n",
       "<style scoped>\n",
       "    .dataframe tbody tr th:only-of-type {\n",
       "        vertical-align: middle;\n",
       "    }\n",
       "\n",
       "    .dataframe tbody tr th {\n",
       "        vertical-align: top;\n",
       "    }\n",
       "\n",
       "    .dataframe thead th {\n",
       "        text-align: right;\n",
       "    }\n",
       "</style>\n",
       "<table border=\"1\" class=\"dataframe\">\n",
       "  <thead>\n",
       "    <tr style=\"text-align: right;\">\n",
       "      <th></th>\n",
       "      <th>UNEMP</th>\n",
       "      <th>LTU</th>\n",
       "      <th>LF</th>\n",
       "      <th>UNRATE</th>\n",
       "      <th>LTUSH</th>\n",
       "    </tr>\n",
       "    <tr>\n",
       "      <th>EDUC</th>\n",
       "      <th></th>\n",
       "      <th></th>\n",
       "      <th></th>\n",
       "      <th></th>\n",
       "      <th></th>\n",
       "    </tr>\n",
       "  </thead>\n",
       "  <tbody>\n",
       "    <tr>\n",
       "      <th>ADV</th>\n",
       "      <td>5164230.0</td>\n",
       "      <td>1170329.50</td>\n",
       "      <td>257471664.0</td>\n",
       "      <td>2.005747</td>\n",
       "      <td>22.662228</td>\n",
       "    </tr>\n",
       "    <tr>\n",
       "      <th>COLL</th>\n",
       "      <td>11337936.0</td>\n",
       "      <td>2687896.25</td>\n",
       "      <td>460554176.0</td>\n",
       "      <td>2.461803</td>\n",
       "      <td>23.707104</td>\n",
       "    </tr>\n",
       "    <tr>\n",
       "      <th>HS</th>\n",
       "      <td>25316316.0</td>\n",
       "      <td>5435201.50</td>\n",
       "      <td>507937728.0</td>\n",
       "      <td>4.984138</td>\n",
       "      <td>21.469164</td>\n",
       "    </tr>\n",
       "    <tr>\n",
       "      <th>LTHS</th>\n",
       "      <td>13625679.0</td>\n",
       "      <td>2550115.50</td>\n",
       "      <td>167357136.0</td>\n",
       "      <td>8.141678</td>\n",
       "      <td>18.715511</td>\n",
       "    </tr>\n",
       "    <tr>\n",
       "      <th>SC</th>\n",
       "      <td>20018998.0</td>\n",
       "      <td>4261837.00</td>\n",
       "      <td>540900864.0</td>\n",
       "      <td>3.701048</td>\n",
       "      <td>21.288963</td>\n",
       "    </tr>\n",
       "  </tbody>\n",
       "</table>\n",
       "</div>"
      ],
      "text/plain": [
       "           UNEMP         LTU           LF    UNRATE      LTUSH\n",
       "EDUC                                                          \n",
       "ADV    5164230.0  1170329.50  257471664.0  2.005747  22.662228\n",
       "COLL  11337936.0  2687896.25  460554176.0  2.461803  23.707104\n",
       "HS    25316316.0  5435201.50  507937728.0  4.984138  21.469164\n",
       "LTHS  13625679.0  2550115.50  167357136.0  8.141678  18.715511\n",
       "SC    20018998.0  4261837.00  540900864.0  3.701048  21.288963"
      ]
     },
     "execution_count": 17,
     "metadata": {},
     "output_type": "execute_result"
    }
   ],
   "source": [
    "df.groupby('EDUC')[['UNEMP', 'LTU', 'LF']].sum().assign(UNRATE = unrate, \n",
    "                                                        LTUSH = ltu_sh)"
   ]
  }
 ],
 "metadata": {
  "kernelspec": {
   "display_name": "Python 3",
   "language": "python",
   "name": "python3"
  },
  "language_info": {
   "codemirror_mode": {
    "name": "ipython",
    "version": 3
   },
   "file_extension": ".py",
   "mimetype": "text/x-python",
   "name": "python",
   "nbconvert_exporter": "python",
   "pygments_lexer": "ipython3",
   "version": "3.7.2"
  }
 },
 "nbformat": 4,
 "nbformat_minor": 2
}
