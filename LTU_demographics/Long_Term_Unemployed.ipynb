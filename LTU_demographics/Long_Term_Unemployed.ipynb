{
 "cells": [
  {
   "cell_type": "markdown",
   "metadata": {},
   "source": [
    "### A closer look at who is long-term unemployed\n",
    "\n",
    "January 3, 2019\n",
    "\n",
    "@bd_econ\n",
    "\n",
    "Originally published on the bd econ blog, [here](https://briandew.wordpress.com/2019/01/03/possible-pieces-of-the-long-term-unemployment-puzzle/)"
   ]
  },
  {
   "cell_type": "code",
   "execution_count": 1,
   "metadata": {
    "ExecuteTime": {
     "end_time": "2019-01-26T16:59:53.019378Z",
     "start_time": "2019-01-26T16:59:52.566920Z"
    }
   },
   "outputs": [],
   "source": [
    "import pandas as pd\n",
    "import numpy as np\n",
    "from matplotlib import pyplot as plt\n",
    "%matplotlib inline\n",
    "\n",
    "import os\n",
    "os.chdir('/home/brian/Documents/CPS/data/clean')"
   ]
  },
  {
   "cell_type": "code",
   "execution_count": 3,
   "metadata": {
    "ExecuteTime": {
     "end_time": "2019-01-26T17:00:13.092867Z",
     "start_time": "2019-01-26T17:00:12.568868Z"
    }
   },
   "outputs": [],
   "source": [
    "filter_cols = ['AGE', 'LMSTAT', 'PWCMPWGT', 'UNEMPDUR', 'MONTH', 'EDUC']\n",
    "component_vars = {'UNEMP': lambda x: \n",
    "                  np.where(x['LMSTAT']=='Unemployed', x['PWCMPWGT'], 0),\n",
    "                  'LTU': lambda x:\n",
    "                  np.where((x['LMSTAT']=='Unemployed') & \n",
    "                           (x['UNEMPDUR'] > 26), x['PWCMPWGT'], 0),\n",
    "                  'LF': lambda x: \n",
    "                  np.where(~x['LMSTAT'].str.contains('NILF'), x['PWCMPWGT'], 0)}\n",
    "unrate = lambda x: (x['UNEMP'] / x['LF']) * 100.0\n",
    "ltu_sh = lambda x: (x['LTU'] / x['UNEMP']) * 100.0\n",
    "\n",
    "df = (pd.read_feather('cps2017.ft')\n",
    "        .filter(filter_cols)\n",
    "        .query('AGE > 15 and MONTH > 11')\n",
    "        .append(pd.read_feather('cps2018.ft')\n",
    "                  .filter(filter_cols)\n",
    "                  .query('AGE > 15'))\n",
    "        .assign(**component_vars))"
   ]
  },
  {
   "cell_type": "code",
   "execution_count": 4,
   "metadata": {
    "ExecuteTime": {
     "end_time": "2019-01-26T17:00:15.712050Z",
     "start_time": "2019-01-26T17:00:15.637200Z"
    }
   },
   "outputs": [
    {
     "data": {
      "text/plain": [
       "21.6"
      ]
     },
     "execution_count": 4,
     "metadata": {},
     "output_type": "execute_result"
    }
   ],
   "source": [
    "overall = df[['LTU', 'UNEMP']].sum()\n",
    "total_val = round(overall['LTU'] / overall['UNEMP'] * 100, 1)\n",
    "total_val"
   ]
  },
  {
   "cell_type": "code",
   "execution_count": 5,
   "metadata": {
    "ExecuteTime": {
     "end_time": "2019-01-26T17:00:18.124506Z",
     "start_time": "2019-01-26T17:00:18.079856Z"
    },
    "code_folding": []
   },
   "outputs": [],
   "source": [
    "educ_order = ['LTHS', 'HS', 'SC', 'COLL', 'ADV']\n",
    "fig1 = (df.groupby('EDUC')[['UNEMP', 'LTU', 'LF']].sum()\n",
    "          .assign(UNRATE = unrate, LTUSH = ltu_sh)['LTUSH']\n",
    "          .reindex(educ_order))"
   ]
  },
  {
   "cell_type": "code",
   "execution_count": 6,
   "metadata": {
    "ExecuteTime": {
     "end_time": "2019-01-26T17:00:20.168232Z",
     "start_time": "2019-01-26T17:00:20.165574Z"
    }
   },
   "outputs": [],
   "source": [
    "names = ['Less than high\\nschool degree',\n",
    "         'High school degree\\nor equivalent',\n",
    "         'Some college or\\nassociate degree',\n",
    "         \"Bachelor's degree\", \n",
    "         'Advanced degree']\n",
    "fig1.index = names"
   ]
  },
  {
   "cell_type": "code",
   "execution_count": 7,
   "metadata": {
    "ExecuteTime": {
     "end_time": "2019-01-26T17:00:22.821962Z",
     "start_time": "2019-01-26T17:00:22.621055Z"
    }
   },
   "outputs": [
    {
     "data": {
      "image/png": "[encoded data removed]",
      "text/plain": [
       "<Figure size 288x360 with 1 Axes>"
      ]
     },
     "metadata": {
      "needs_background": "light"
     },
     "output_type": "display_data"
    }
   ],
   "source": [
    "# Figure 1\n",
    "fig1.plot(kind='barh', color='darkorange', figsize=[4, 5], width=0.5, zorder=2)\n",
    "for i, val in enumerate(fig1):\n",
    "    x_val = val - 5\n",
    "    text_val = f'{round(val, 1)}%'\n",
    "    y_val = i - 0.06\n",
    "    plt.text(x_val, y_val, text_val, color='white', fontsize=12, weight='bold')\n",
    "    plt.text(-0.5, i, fig1.index[i], ha='right', va='center', fontsize=12)\n",
    "    \n",
    "plt.axvline(x=21.56, color='gray', linestyle='--', zorder=1)\n",
    "    \n",
    "plt.axvline(x=0, color='lightgray')    \n",
    "\n",
    "# add title and footer\n",
    "plt.text(-14, 5, 'Long-term unemployment and education', \n",
    "          fontsize=15, weight='bold')\n",
    "\n",
    "plt.text(-13, 4.7, \"Share of unemployment lasting 27 weeks or more\", \n",
    "          fontsize=12)\n",
    "\n",
    "plt.text(22, -0.45, f\"Total:\\n{total_val}%\", fontsize=11, color='gray', weight='bold')\n",
    "\n",
    "plt.text(-13, -0.8, \"Source: Author's calculations from basic monthly CPS microdata files\")\n",
    "plt.text(-12.5, -1.03, 'covering December 2017 to November 2018.')\n",
    "\n",
    "plt.axis('off')\n",
    "\n",
    "plt.savefig('Educ_LTU.png', bbox_inches='tight')\n",
    "plt.show()"
   ]
  },
  {
   "cell_type": "code",
   "execution_count": null,
   "metadata": {},
   "outputs": [],
   "source": []
  },
  {
   "cell_type": "code",
   "execution_count": 9,
   "metadata": {
    "ExecuteTime": {
     "end_time": "2019-01-26T17:00:55.251854Z",
     "start_time": "2019-01-26T17:00:55.245298Z"
    }
   },
   "outputs": [
    {
     "data": {
      "text/plain": [
       "[array([16, 17, 18, 19, 20]),\n",
       " array([21, 22, 23, 24, 25]),\n",
       " array([26, 27, 28, 29, 30]),\n",
       " array([31, 32, 33, 34, 35]),\n",
       " array([36, 37, 38, 39, 40]),\n",
       " array([41, 42, 43, 44, 45]),\n",
       " array([46, 47, 48, 49, 50]),\n",
       " array([51, 52, 53, 54, 55]),\n",
       " array([56, 57, 58, 59, 60]),\n",
       " array([61, 62, 63, 64, 65])]"
      ]
     },
     "execution_count": 9,
     "metadata": {},
     "output_type": "execute_result"
    }
   ],
   "source": [
    "age_groups = np.array_split(np.arange(16, 66, 1), 10)\n",
    "age_groups"
   ]
  },
  {
   "cell_type": "code",
   "execution_count": 10,
   "metadata": {
    "ExecuteTime": {
     "end_time": "2019-01-26T17:00:56.489035Z",
     "start_time": "2019-01-26T17:00:56.320526Z"
    }
   },
   "outputs": [],
   "source": [
    "age_data = pd.Series()\n",
    "for grp in age_groups:\n",
    "    result = (df[df['AGE'].isin(grp)][['LTU', 'UNEMP', 'LF']].sum())\n",
    "    grp_data = round((result['LTU'] / result['UNEMP']) * 100, 1)\n",
    "    grp_name = f'{grp[0]}-{grp[-1]}'\n",
    "    age_data.at[grp_name] = grp_data\n",
    "    age_lf = result['UNEMP'] / result['LF']"
   ]
  },
  {
   "cell_type": "code",
   "execution_count": 11,
   "metadata": {
    "ExecuteTime": {
     "end_time": "2019-01-26T17:00:59.775180Z",
     "start_time": "2019-01-26T17:00:59.579567Z"
    }
   },
   "outputs": [
    {
     "data": {
      "image/png": "[encoded data removed]",
      "text/plain": [
       "<Figure size 288x360 with 1 Axes>"
      ]
     },
     "metadata": {
      "needs_background": "light"
     },
     "output_type": "display_data"
    }
   ],
   "source": [
    "age_data.plot(kind='barh', color='green', figsize=[4, 5], width=0.6, zorder=2)\n",
    "for i, val in enumerate(age_data):\n",
    "    x_val = val - 5.5\n",
    "    text_val = f'{round(val, 1)}%'\n",
    "    y_val = i - 0.14\n",
    "    plt.text(x_val, y_val, text_val, color='white', fontsize=10, weight='bold')\n",
    "    plt.text(-0.5, i-0.05, age_data.index[i], ha='right', va='center', fontsize=12)\n",
    "# add title and footer\n",
    "plt.text(-9, 10.4, 'Long-term unemployment and age', \n",
    "          fontsize=15, weight='bold')\n",
    "\n",
    "plt.text(-8, 9.8, \"Share of unemployment lasting 27 weeks or more\", \n",
    "          fontsize=12)\n",
    "\n",
    "plt.text(22, -0.45, f\"Total:\\n{total_val}%\", fontsize=10, color='gray', weight='bold')\n",
    "\n",
    "plt.text(-8, -1.0, \"Source: Author's calculations from basic monthly CPS micro-\")\n",
    "plt.text(-7.5, -1.45, 'data files covering December 2017 to November 2018.')\n",
    "plt.axvline(x=21.56, color='gray', linestyle='--', zorder=1)\n",
    "plt.axvline(x=0, color='lightgray')  \n",
    "plt.axis('off')\n",
    "\n",
    "plt.savefig('Age_LTU.png', bbox_inches='tight')\n",
    "plt.show()"
   ]
  },
  {
   "cell_type": "code",
   "execution_count": 12,
   "metadata": {
    "ExecuteTime": {
     "end_time": "2019-01-26T17:01:03.648494Z",
     "start_time": "2019-01-26T17:01:03.644245Z"
    }
   },
   "outputs": [],
   "source": [
    "# Base period demographics\n",
    "def base_period_demographics(df):\n",
    "    \"\"\"Function calculates the demographic share each category has and \n",
    "       returns age and educ share of the labor force, in a dictionary.\"\"\"\n",
    "    df = df[df['LF'] > 0]\n",
    "    #Calculate each category of age, sex, educ as share of total and store as dict\n",
    "    aged = (df.groupby('AGE')['PWCMPWGT'].sum() / df['PWCMPWGT'].sum()).to_dict()\n",
    "    educd = (df.groupby('EDUC')['PWCMPWGT'].sum() / df['PWCMPWGT'].sum()).to_dict()\n",
    "    return {'da_age': aged, 'da_educ': educd}"
   ]
  },
  {
   "cell_type": "code",
   "execution_count": 13,
   "metadata": {
    "ExecuteTime": {
     "end_time": "2019-01-26T17:01:06.238711Z",
     "start_time": "2019-01-26T17:01:05.972833Z"
    }
   },
   "outputs": [],
   "source": [
    "df = (pd.read_feather('cps1998.ft')\n",
    "        .filter(filter_cols)\n",
    "        .query('15 < AGE < 81')\n",
    "        .assign(**component_vars))"
   ]
  },
  {
   "cell_type": "code",
   "execution_count": 14,
   "metadata": {
    "ExecuteTime": {
     "end_time": "2019-01-26T17:01:10.374289Z",
     "start_time": "2019-01-26T17:01:10.310497Z"
    }
   },
   "outputs": [],
   "source": [
    "dem_adj = base_period_demographics(df)"
   ]
  },
  {
   "cell_type": "code",
   "execution_count": 15,
   "metadata": {
    "ExecuteTime": {
     "end_time": "2019-01-26T17:01:13.027187Z",
     "start_time": "2019-01-26T17:01:12.656301Z"
    }
   },
   "outputs": [],
   "source": [
    "df = (pd.read_feather('cps2017.ft')\n",
    "        .filter(filter_cols)\n",
    "        .query('15 < AGE < 81 and MONTH > 11')\n",
    "        .append(pd.read_feather('cps2018.ft')\n",
    "                  .filter(filter_cols)\n",
    "                  .query('15 < AGE < 81'))\n",
    "        .assign(**component_vars)\n",
    "        .query('LF > 0'))"
   ]
  },
  {
   "cell_type": "code",
   "execution_count": null,
   "metadata": {},
   "outputs": [],
   "source": []
  },
  {
   "cell_type": "code",
   "execution_count": 16,
   "metadata": {
    "ExecuteTime": {
     "end_time": "2019-01-26T17:01:24.129579Z",
     "start_time": "2019-01-26T17:01:24.121406Z"
    }
   },
   "outputs": [],
   "source": [
    "def dem_adjuster(df, dem_adj):\n",
    "    \"\"\"Take add month values to df2 for various NILF calculations\"\"\"\n",
    "    # Calculate adjustment value for each demographic adjustment group category\n",
    "    # Map the adjustment values to the actual people in the CPS\n",
    "    # AGE\n",
    "    wgt = df['PWCMPWGT']\n",
    "    d1 = (df.groupby('AGE')['PWCMPWGT'].sum() / df['PWCMPWGT'].sum()).to_dict()\n",
    "    agec = {k: dem_adj['da_age'][k]/d1[k] for k in d1.keys() & dem_adj['da_age']}\n",
    "    age_adj = df['AGE'].map(agec)\n",
    "    wgt = age_adj * wgt\n",
    "    # EDUC\n",
    "    d1 = (df.groupby('EDUC')['PWCMPWGT'].sum() / df['PWCMPWGT'].sum()).to_dict()\n",
    "    educc = {k: dem_adj['da_educ'][k]/d1[k] for k in d1.keys() & dem_adj['da_educ']}    \n",
    "    educ_adj = df['EDUC'].map(educc)\n",
    "    wgt = educ_adj * wgt\n",
    "    df['ADJ_WGT'] = wgt\n",
    "    df['UNEMP_ADJ'] = np.where(df['UNEMP'] > 0, wgt, 0)\n",
    "    df['LTU_ADJ'] = np.where(df['LTU'] > 0, wgt, 0)\n",
    "    \n",
    "    return df"
   ]
  },
  {
   "cell_type": "code",
   "execution_count": 17,
   "metadata": {
    "ExecuteTime": {
     "end_time": "2019-01-26T17:01:26.881289Z",
     "start_time": "2019-01-26T17:01:26.736953Z"
    }
   },
   "outputs": [],
   "source": [
    "adj_df = dem_adjuster(df, dem_adj)"
   ]
  },
  {
   "cell_type": "code",
   "execution_count": 18,
   "metadata": {
    "ExecuteTime": {
     "end_time": "2019-01-26T17:01:32.053892Z",
     "start_time": "2019-01-26T17:01:32.009754Z"
    }
   },
   "outputs": [
    {
     "data": {
      "text/plain": [
       "19.4"
      ]
     },
     "execution_count": 18,
     "metadata": {},
     "output_type": "execute_result"
    }
   ],
   "source": [
    "overall = adj_df[['LTU_ADJ', 'UNEMP_ADJ']].sum()\n",
    "total_val = round(overall['LTU_ADJ'] / overall['UNEMP_ADJ'] * 100, 1)\n",
    "total_val"
   ]
  },
  {
   "cell_type": "code",
   "execution_count": 19,
   "metadata": {
    "ExecuteTime": {
     "end_time": "2019-01-26T17:01:34.708598Z",
     "start_time": "2019-01-26T17:01:34.683431Z"
    },
    "scrolled": true
   },
   "outputs": [
    {
     "data": {
      "text/html": [
       "<div>\n",
       "<style scoped>\n",
       "    .dataframe tbody tr th:only-of-type {\n",
       "        vertical-align: middle;\n",
       "    }\n",
       "\n",
       "    .dataframe tbody tr th {\n",
       "        vertical-align: top;\n",
       "    }\n",
       "\n",
       "    .dataframe thead th {\n",
       "        text-align: right;\n",
       "    }\n",
       "</style>\n",
       "<table border=\"1\" class=\"dataframe\">\n",
       "  <thead>\n",
       "    <tr style=\"text-align: right;\">\n",
       "      <th></th>\n",
       "      <th>UNEMP</th>\n",
       "      <th>LTU</th>\n",
       "      <th>LF</th>\n",
       "      <th>UNRATE</th>\n",
       "      <th>LTUSH</th>\n",
       "    </tr>\n",
       "    <tr>\n",
       "      <th>EDUC</th>\n",
       "      <th></th>\n",
       "      <th></th>\n",
       "      <th></th>\n",
       "      <th></th>\n",
       "      <th></th>\n",
       "    </tr>\n",
       "  </thead>\n",
       "  <tbody>\n",
       "    <tr>\n",
       "      <th>ADV</th>\n",
       "      <td>5110604.0</td>\n",
       "      <td>1135547.375</td>\n",
       "      <td>257424048.0</td>\n",
       "      <td>1.985286</td>\n",
       "      <td>22.219437</td>\n",
       "    </tr>\n",
       "    <tr>\n",
       "      <th>COLL</th>\n",
       "      <td>11334393.0</td>\n",
       "      <td>2703630.500</td>\n",
       "      <td>460610848.0</td>\n",
       "      <td>2.460731</td>\n",
       "      <td>23.853333</td>\n",
       "    </tr>\n",
       "    <tr>\n",
       "      <th>HS</th>\n",
       "      <td>25671576.0</td>\n",
       "      <td>5657014.000</td>\n",
       "      <td>509267328.0</td>\n",
       "      <td>5.040884</td>\n",
       "      <td>22.036098</td>\n",
       "    </tr>\n",
       "    <tr>\n",
       "      <th>LTHS</th>\n",
       "      <td>13599965.0</td>\n",
       "      <td>2540748.250</td>\n",
       "      <td>167873440.0</td>\n",
       "      <td>8.101320</td>\n",
       "      <td>18.682020</td>\n",
       "    </tr>\n",
       "    <tr>\n",
       "      <th>SC</th>\n",
       "      <td>20206494.0</td>\n",
       "      <td>4319006.000</td>\n",
       "      <td>543509504.0</td>\n",
       "      <td>3.717781</td>\n",
       "      <td>21.374346</td>\n",
       "    </tr>\n",
       "  </tbody>\n",
       "</table>\n",
       "</div>"
      ],
      "text/plain": [
       "           UNEMP          LTU           LF    UNRATE      LTUSH\n",
       "EDUC                                                           \n",
       "ADV    5110604.0  1135547.375  257424048.0  1.985286  22.219437\n",
       "COLL  11334393.0  2703630.500  460610848.0  2.460731  23.853333\n",
       "HS    25671576.0  5657014.000  509267328.0  5.040884  22.036098\n",
       "LTHS  13599965.0  2540748.250  167873440.0  8.101320  18.682020\n",
       "SC    20206494.0  4319006.000  543509504.0  3.717781  21.374346"
      ]
     },
     "execution_count": 19,
     "metadata": {},
     "output_type": "execute_result"
    }
   ],
   "source": [
    "df.groupby('EDUC')[['UNEMP', 'LTU', 'LF']].sum().assign(UNRATE = unrate, \n",
    "                                                        LTUSH = ltu_sh)"
   ]
  }
 ],
 "metadata": {
  "kernelspec": {
   "display_name": "Python 3",
   "language": "python",
   "name": "python3"
  },
  "language_info": {
   "codemirror_mode": {
    "name": "ipython",
    "version": 3
   },
   "file_extension": ".py",
   "mimetype": "text/x-python",
   "name": "python",
   "nbconvert_exporter": "python",
   "pygments_lexer": "ipython3",
   "version": "3.7.1"
  }
 },
 "nbformat": 4,
 "nbformat_minor": 2
}
