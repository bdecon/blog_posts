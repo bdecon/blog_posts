{
 "cells": [
  {
   "cell_type": "markdown",
   "metadata": {},
   "source": [
    "# Regional wage deflators\n",
    "\n",
    "Does the use of the regional CPI-U change the wage estimate picture for low-wage workers?\n",
    "\n",
    "-----\n",
    "\n",
    "January 30, 2019\n",
    "\n",
    "Brian Dew, @bd_econ\n",
    "\n",
    "\n",
    "-----\n",
    "\n",
    "Check whether inflation is overstated for low wage workers. \n",
    "\n",
    "My suspicion is based on a few observations:\n",
    "\n",
    "1) Real wage estimates nearly always adjust for changing prices using the consumer price index for all urban consumers (CPI-U), or the historical CPI-U updated to current methods (CPI-U-RS).\n",
    "\n",
    "2) But the regional CPI-U shows higher rates of inflation in the west region\n",
    "\n",
    "3) And low-wage workers tend to be in the south and midwest (places where the local minimum wage is more likely to be the federal minimum wage)\n",
    "\n",
    "Therefore, measures of real wages and real wage growth at the bottom of the wage distribution may be biased by the choice of the wage deflator.\n",
    "\n",
    "To check this, calculate the real wage at the first decile using the CPI-U and again using the regional CPI-U.\n",
    "\n",
    "Two possible graphs: \n",
    "\n",
    "1) Share of bottom 10% of wage earners living in the south or midwest. \n",
    "\n",
    "2) First decile real wage showing two lines, one with each deflator.\n",
    "\n",
    "Then write up the results.\n",
    "\n",
    "\n",
    "-----\n",
    "\n",
    "Background and references:\n",
    "\n",
    "[Smith and Woodbury (2000)](https://www.urban.org/sites/default/files/publication/62251/309642-The-Low-Wage-Labor-Market-Challenges-and-Opportunities-for-Economic-Self-Sufficiency.PDF)"
   ]
  },
  {
   "cell_type": "code",
   "execution_count": 1,
   "metadata": {
    "ExecuteTime": {
     "end_time": "2020-10-15T23:40:11.551622Z",
     "start_time": "2020-10-15T23:40:11.365318Z"
    },
    "code_folding": []
   },
   "outputs": [
    {
     "data": {
      "text/plain": [
       "{'AK': 'West',\n",
       " 'HI': 'West',\n",
       " 'WA': 'West',\n",
       " 'OR': 'West',\n",
       " 'CA': 'West',\n",
       " 'NV': 'West',\n",
       " 'ID': 'West',\n",
       " 'MT': 'West',\n",
       " 'UT': 'West',\n",
       " 'AZ': 'West',\n",
       " 'CO': 'West',\n",
       " 'WY': 'West',\n",
       " 'NM': 'West',\n",
       " 'ND': 'Midwest',\n",
       " 'SD': 'Midwest',\n",
       " 'NE': 'Midwest',\n",
       " 'KS': 'Midwest',\n",
       " 'MN': 'Midwest',\n",
       " 'IA': 'Midwest',\n",
       " 'MO': 'Midwest',\n",
       " 'WI': 'Midwest',\n",
       " 'IL': 'Midwest',\n",
       " 'IN': 'Midwest',\n",
       " 'MI': 'Midwest',\n",
       " 'OH': 'Midwest',\n",
       " 'TX': 'South',\n",
       " 'OK': 'South',\n",
       " 'AR': 'South',\n",
       " 'LA': 'South',\n",
       " 'MS': 'South',\n",
       " 'AL': 'South',\n",
       " 'TN': 'South',\n",
       " 'KY': 'South',\n",
       " 'WV': 'South',\n",
       " 'VA': 'South',\n",
       " 'MD': 'South',\n",
       " 'DE': 'South',\n",
       " 'DC': 'South',\n",
       " 'NC': 'South',\n",
       " 'SC': 'South',\n",
       " 'GA': 'South',\n",
       " 'FL': 'South',\n",
       " 'PA': 'Northeast',\n",
       " 'NJ': 'Northeast',\n",
       " 'NY': 'Northeast',\n",
       " 'CT': 'Northeast',\n",
       " 'RI': 'Northeast',\n",
       " 'MA': 'Northeast',\n",
       " 'NH': 'Northeast',\n",
       " 'VT': 'Northeast',\n",
       " 'ME': 'Northeast'}"
      ]
     },
     "execution_count": 1,
     "metadata": {},
     "output_type": "execute_result"
    }
   ],
   "source": [
    "import pandas as pd\n",
    "import numpy as np\n",
    "import os, pickle\n",
    "\n",
    "data_dir = '/home/brian/Documents/CPS/data/'\n",
    "\n",
    "cpi = pd.read_csv(f'{data_dir}clean/cpi.csv', index_col=[0], parse_dates=True)\n",
    "\n",
    "def pct_wage(group):\n",
    "    \"\"\"Return BLS-styled binned first decile wage\"\"\"\n",
    "    d = pd.DataFrame()\n",
    "    year = group['YEAR'].iloc[0]\n",
    "    month = group['MONTH'].iloc[0]\n",
    "    date = pd.to_datetime(f'{year}-{month}-01')\n",
    "    weight = 'PWORWGT'\n",
    "    percentile = 0.05\n",
    "    bin_size = 0.5 #($0.50)\n",
    "    bins = list(np.arange(0.25, 300, bin_size))\n",
    "    group['HRWAGE'] = group['HRWAGE'] * cpi.loc[date].ALL\n",
    "    for wage_var in ['RHRWAGE', 'HRWAGE']:\n",
    "        bin_cut = lambda x: pd.cut(x[wage_var], bins, include_lowest=True)\n",
    "        cum_sum = lambda x: x[weight].cumsum()\n",
    "        dft = (group.sort_values(wage_var)\n",
    "                    .assign(WAGE_RANGE = bin_cut, CS = cum_sum))\n",
    "        pct_point = dft[weight].sum() * percentile\n",
    "        pct_bin = (dft.iloc[(dft['CS'] - pct_point).abs().argsort()[:1]]\n",
    "                      .WAGE_RANGE.values[0])\n",
    "        wage_bins = list(dft['WAGE_RANGE'].unique())\n",
    "        pct_loc = wage_bins.index(pct_bin)\n",
    "        bin_below = dft[dft['WAGE_RANGE'] == wage_bins[pct_loc-1]].iloc[-1].CS\n",
    "        bin_above = dft[dft['WAGE_RANGE'] == wage_bins[pct_loc]].iloc[-1].CS\n",
    "        pct_value = ((((pct_point - bin_below) / \n",
    "                       (bin_above - bin_below)) * bin_size) + pct_bin.left)\n",
    "        if wage_var == 'RHRWAGE':\n",
    "            d.at[date, 'Regional CPI'] = pct_value\n",
    "    \n",
    "        if wage_var == 'HRWAGE':\n",
    "            d.at[date, 'Regular CPI'] = pct_value\n",
    "    return d\n",
    "\n",
    "\n",
    "cpsdd = pickle.load(open(f'{data_dir}cps_basic_dd.pkl', 'rb'))\n",
    "\n",
    "regions_map = cpsdd['January_2017_Record_Layout.txt']['map']['region']\n",
    "\n",
    "regions_map"
   ]
  },
  {
   "cell_type": "markdown",
   "metadata": {},
   "source": [
    "## Motivation/background"
   ]
  },
  {
   "cell_type": "code",
   "execution_count": 2,
   "metadata": {
    "ExecuteTime": {
     "end_time": "2020-10-15T23:40:11.717216Z",
     "start_time": "2020-10-15T23:40:11.552669Z"
    }
   },
   "outputs": [],
   "source": [
    "columns = ['MONTH', 'AGE', 'HRWAGE', 'STATE', 'BASICWGT', 'PWORWGT']\n",
    "df = (pd.read_feather(f'{data_dir}clean/cps2020.ft', columns=columns)\n",
    "        .query('MONTH==9')\n",
    "        .assign(REGION = lambda x: x['STATE'].map(regions_map)))"
   ]
  },
  {
   "cell_type": "markdown",
   "metadata": {},
   "source": [
    "#### What share of the population (all ages, including children) lives in each region?"
   ]
  },
  {
   "cell_type": "code",
   "execution_count": 3,
   "metadata": {
    "ExecuteTime": {
     "end_time": "2020-10-15T23:40:11.729708Z",
     "start_time": "2020-10-15T23:40:11.718600Z"
    },
    "code_folding": []
   },
   "outputs": [
    {
     "data": {
      "text/plain": [
       "REGION\n",
       "Midwest      20.707195\n",
       "Northeast    17.326841\n",
       "South        38.097496\n",
       "West         23.868464\n",
       "Name: BASICWGT, dtype: float32"
      ]
     },
     "execution_count": 3,
     "metadata": {},
     "output_type": "execute_result"
    }
   ],
   "source": [
    "data = df.groupby('REGION').BASICWGT.sum()\n",
    "\n",
    "data / data.sum() * 100"
   ]
  },
  {
   "cell_type": "markdown",
   "metadata": {},
   "source": [
    "#### What share of the age 16-64 population lives in each region?\n",
    "\n",
    "A: about the same, 58% are in the south or midwest"
   ]
  },
  {
   "cell_type": "code",
   "execution_count": 4,
   "metadata": {
    "ExecuteTime": {
     "end_time": "2020-10-15T23:40:11.742940Z",
     "start_time": "2020-10-15T23:40:11.730814Z"
    },
    "scrolled": true
   },
   "outputs": [
    {
     "data": {
      "text/plain": [
       "REGION\n",
       "Midwest      20.693659\n",
       "Northeast    17.157436\n",
       "South        37.916306\n",
       "West         24.232594\n",
       "Name: BASICWGT, dtype: float32"
      ]
     },
     "execution_count": 4,
     "metadata": {},
     "output_type": "execute_result"
    }
   ],
   "source": [
    "data = df.query('16 <= AGE <= 64').groupby('REGION').BASICWGT.sum()\n",
    "\n",
    "data / data.sum() * 100"
   ]
  },
  {
   "cell_type": "markdown",
   "metadata": {},
   "source": [
    "#### What share of people making $8/hr or less live in each region?\n",
    "\n",
    "A: Much less likely in the west and much more likely in the south. 70% are in the south and midwest."
   ]
  },
  {
   "cell_type": "code",
   "execution_count": 5,
   "metadata": {
    "ExecuteTime": {
     "end_time": "2020-10-15T23:40:11.749866Z",
     "start_time": "2020-10-15T23:40:11.743959Z"
    },
    "scrolled": true
   },
   "outputs": [
    {
     "data": {
      "text/plain": [
       "REGION\n",
       "Midwest      18.685289\n",
       "Northeast    15.789719\n",
       "South        52.684395\n",
       "West         12.840600\n",
       "Name: PWORWGT, dtype: float32"
      ]
     },
     "execution_count": 5,
     "metadata": {},
     "output_type": "execute_result"
    }
   ],
   "source": [
    "data = df.query('HRWAGE <= 8').groupby('REGION').PWORWGT.sum()\n",
    "\n",
    "data / data.sum() * 100"
   ]
  },
  {
   "cell_type": "markdown",
   "metadata": {},
   "source": [
    "#### How does inflation vary by region?\n",
    "\n",
    "A: Higher than total in the west and lower that total in the midwest and south"
   ]
  },
  {
   "cell_type": "code",
   "execution_count": 6,
   "metadata": {
    "ExecuteTime": {
     "end_time": "2020-10-15T23:40:11.754858Z",
     "start_time": "2020-10-15T23:40:11.750833Z"
    },
    "code_folding": []
   },
   "outputs": [],
   "source": [
    "# Inflation rate as of December 2018, ALL and regions\n",
    "#(cpi.iloc[-13] - 1) * 100"
   ]
  },
  {
   "cell_type": "markdown",
   "metadata": {},
   "source": [
    "## Time series for a longer-term look"
   ]
  },
  {
   "cell_type": "markdown",
   "metadata": {},
   "source": [
    "#### What is the wage trend at the fifth percentile* using the regional CPI for price adjustments?\n",
    "\n",
    "*Wage where about five percent of workers make less and 95 percent make more"
   ]
  },
  {
   "cell_type": "code",
   "execution_count": 7,
   "metadata": {
    "ExecuteTime": {
     "end_time": "2020-10-15T23:40:33.778201Z",
     "start_time": "2020-10-15T23:40:11.755776Z"
    },
    "code_folding": [],
    "run_control": {
     "marked": false
    }
   },
   "outputs": [],
   "source": [
    "columns = ['YEAR', 'MONTH', 'RHRWAGE', 'HRWAGE', 'PWORWGT']\n",
    "data = pd.DataFrame()\n",
    "for year in range(1989, 2021):\n",
    "    df = (pd.read_feather(f'{data_dir}clean/cps{year}.ft', columns=columns)\n",
    "            .query('RHRWAGE > 0')\n",
    "            .groupby(['YEAR', 'MONTH'])\n",
    "            .apply(pct_wage)\n",
    "            .reset_index()\n",
    "            .set_index('level_2')\n",
    "            .drop(['YEAR', 'MONTH'], axis=1))\n",
    "    data = data.append(df[['Regional CPI', 'Regular CPI']], sort=True)"
   ]
  },
  {
   "cell_type": "code",
   "execution_count": 8,
   "metadata": {
    "ExecuteTime": {
     "end_time": "2020-10-15T23:40:34.140836Z",
     "start_time": "2020-10-15T23:40:33.779553Z"
    }
   },
   "outputs": [
    {
     "data": {
      "image/png": "[encoded data removed]",
      "text/plain": [
       "<Figure size 432x288 with 1 Axes>"
      ]
     },
     "metadata": {
      "needs_background": "light"
     },
     "output_type": "display_data"
    }
   ],
   "source": [
    "%matplotlib inline\n",
    "title = 'Real wage at fifth percentile, August 2019 USD'\n",
    "ax = data.plot(title=title)\n",
    "ax.set_xlabel('')\n",
    "fig = ax.get_figure()\n",
    "fig.savefig('/home/brian/Documents/blog_posts/Regional_CPI_Wages/rw_by_cpi.png');"
   ]
  },
  {
   "cell_type": "code",
   "execution_count": 9,
   "metadata": {
    "ExecuteTime": {
     "end_time": "2020-10-15T23:40:34.247096Z",
     "start_time": "2020-10-15T23:40:34.142048Z"
    }
   },
   "outputs": [
    {
     "data": {
      "text/plain": [
       "<AxesSubplot:>"
      ]
     },
     "execution_count": 9,
     "metadata": {},
     "output_type": "execute_result"
    },
    {
     "data": {
      "image/png": "[encoded data removed]",
      "text/plain": [
       "<Figure size 432x288 with 1 Axes>"
      ]
     },
     "metadata": {
      "needs_background": "light"
     },
     "output_type": "display_data"
    }
   ],
   "source": [
    "pd.read_csv('regularcpi_sa.csv').plot()"
   ]
  },
  {
   "cell_type": "code",
   "execution_count": 10,
   "metadata": {
    "ExecuteTime": {
     "end_time": "2020-10-15T23:40:34.249704Z",
     "start_time": "2020-10-15T23:40:34.248049Z"
    }
   },
   "outputs": [],
   "source": [
    "#data['Regular CPI'].to_csv('regularcpi_nsa.csv')"
   ]
  }
 ],
 "metadata": {
  "kernelspec": {
   "display_name": "Python 3",
   "language": "python",
   "name": "python3"
  },
  "language_info": {
   "codemirror_mode": {
    "name": "ipython",
    "version": 3
   },
   "file_extension": ".py",
   "mimetype": "text/x-python",
   "name": "python",
   "nbconvert_exporter": "python",
   "pygments_lexer": "ipython3",
   "version": "3.8.6"
  }
 },
 "nbformat": 4,
 "nbformat_minor": 2
}
