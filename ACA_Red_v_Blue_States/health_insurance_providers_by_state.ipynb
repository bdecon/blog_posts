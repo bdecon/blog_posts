{
 "cells": [
  {
   "cell_type": "markdown",
   "metadata": {},
   "source": [
    "## Health Insurance Issuers by County--Republican states offer fewer options\n",
    "\n",
    "Using the Bloomberg data from this story: https://www.bloomberg.com/graphics/2017-health-insurer-exits/ matched with population data from Census and the Governor's party affiliation from the NGA."
   ]
  },
  {
   "cell_type": "code",
   "execution_count": 1,
   "metadata": {
    "collapsed": true
   },
   "outputs": [],
   "source": [
    "import pandas as pd\n",
    "import config   # File that contains api key\n",
    "import plotly.plotly as py\n",
    "from plotly.graph_objs import *\n",
    "py.sign_in('bdew', config.plotly_key)"
   ]
  },
  {
   "cell_type": "markdown",
   "metadata": {},
   "source": [
    "#### Collect data"
   ]
  },
  {
   "cell_type": "code",
   "execution_count": 26,
   "metadata": {
    "collapsed": true
   },
   "outputs": [],
   "source": [
    "# bloomberg data on issuers by county\n",
    "df = pd.read_csv('issuers_bloomberg_data.csv').query('year == 2017').set_index('year')\n",
    "df = df.groupby('fips_county').issuer_name.count()\n",
    "\n",
    "# Census and state governor data\n",
    "df2 = pd.read_csv('census_pop.csv').set_index('state').join(\n",
    "    pd.read_csv('nga_gov_list.csv').set_index('state')).dropna().reset_index().set_index('fips_county')\n",
    "data = df2.join(df).dropna()\n",
    "\n",
    "# Group issuer number\n",
    "data['issuer_number'] = data['issuer_name']\n",
    "d = {1: '1', 2: '2', 3: '3+', 4: '3+', 5: '3+', 6: '3+', 7: '3+', 8: '3+', 9: '3+', 10: '3+', 11: '3+', 12: '3+', 13: '3+'}\n",
    "data = data.replace({'issuer_number': d})\n",
    "\n",
    "# Latitude and longitude\n",
    "ll = pd.read_table('2015_Gaz_counties_national.txt').rename(columns={'GEOID': 'fips_county'}).set_index('fips_county')\n",
    "ll['INTPTLONG'] = ll.iloc[:,-1].rename('INTPTLONG')\n",
    "ll = ll[['INTPTLAT', 'INTPTLONG']]\n",
    "# Merge\n",
    "data = data.join(ll)\n",
    "\n",
    "# Move a few specific locations\n",
    "data.loc[2013, 'INTPTLAT':'INTPTLONG'] = [55.3397, -160.4972]\n",
    "data.loc[2016, 'INTPTLAT':'INTPTLONG'] = [53.8844, -166.5332]\n",
    "data.loc[17097, 'INTPTLAT':'INTPTLONG'] = [42.3636, -87.8448]\n",
    "\n",
    "# Save file\n",
    "data.to_csv('clean_data.csv')"
   ]
  },
  {
   "cell_type": "markdown",
   "metadata": {},
   "source": [
    "#### Basic calculations"
   ]
  },
  {
   "cell_type": "code",
   "execution_count": 27,
   "metadata": {
    "collapsed": false
   },
   "outputs": [
    {
     "data": {
      "text/html": [
       "<div>\n",
       "<style>\n",
       "    .dataframe thead tr:only-child th {\n",
       "        text-align: right;\n",
       "    }\n",
       "\n",
       "    .dataframe thead th {\n",
       "        text-align: left;\n",
       "    }\n",
       "\n",
       "    .dataframe tbody tr th {\n",
       "        vertical-align: top;\n",
       "    }\n",
       "</style>\n",
       "<table border=\"1\" class=\"dataframe\">\n",
       "  <thead>\n",
       "    <tr style=\"text-align: right;\">\n",
       "      <th></th>\n",
       "      <th></th>\n",
       "      <th>pop</th>\n",
       "    </tr>\n",
       "    <tr>\n",
       "      <th>gov_party</th>\n",
       "      <th>issuer_number</th>\n",
       "      <th></th>\n",
       "    </tr>\n",
       "  </thead>\n",
       "  <tbody>\n",
       "    <tr>\n",
       "      <th rowspan=\"3\" valign=\"top\">Democratic</th>\n",
       "      <th>1</th>\n",
       "      <td>10714794</td>\n",
       "    </tr>\n",
       "    <tr>\n",
       "      <th>2</th>\n",
       "      <td>24084228</td>\n",
       "    </tr>\n",
       "    <tr>\n",
       "      <th>3+</th>\n",
       "      <td>92549769</td>\n",
       "    </tr>\n",
       "    <tr>\n",
       "      <th>Independent</th>\n",
       "      <th>1</th>\n",
       "      <td>733845</td>\n",
       "    </tr>\n",
       "    <tr>\n",
       "      <th rowspan=\"3\" valign=\"top\">Republican</th>\n",
       "      <th>1</th>\n",
       "      <td>40182082</td>\n",
       "    </tr>\n",
       "    <tr>\n",
       "      <th>2</th>\n",
       "      <td>40763075</td>\n",
       "    </tr>\n",
       "    <tr>\n",
       "      <th>3+</th>\n",
       "      <td>113395998</td>\n",
       "    </tr>\n",
       "  </tbody>\n",
       "</table>\n",
       "</div>"
      ],
      "text/plain": [
       "                                 pop\n",
       "gov_party   issuer_number           \n",
       "Democratic  1               10714794\n",
       "            2               24084228\n",
       "            3+              92549769\n",
       "Independent 1                 733845\n",
       "Republican  1               40182082\n",
       "            2               40763075\n",
       "            3+             113395998"
      ]
     },
     "execution_count": 27,
     "metadata": {},
     "output_type": "execute_result"
    }
   ],
   "source": [
    "pd.pivot_table(data, values='pop', index=['gov_party', 'issuer_number'], aggfunc=sum)"
   ]
  },
  {
   "cell_type": "code",
   "execution_count": 28,
   "metadata": {
    "collapsed": false
   },
   "outputs": [
    {
     "data": {
      "text/html": [
       "<div>\n",
       "<style>\n",
       "    .dataframe thead tr:only-child th {\n",
       "        text-align: right;\n",
       "    }\n",
       "\n",
       "    .dataframe thead th {\n",
       "        text-align: left;\n",
       "    }\n",
       "\n",
       "    .dataframe tbody tr th {\n",
       "        vertical-align: top;\n",
       "    }\n",
       "</style>\n",
       "<table border=\"1\" class=\"dataframe\">\n",
       "  <thead>\n",
       "    <tr style=\"text-align: right;\">\n",
       "      <th></th>\n",
       "      <th></th>\n",
       "      <th>pop</th>\n",
       "    </tr>\n",
       "    <tr>\n",
       "      <th>gov_party</th>\n",
       "      <th>issuer_number</th>\n",
       "      <th></th>\n",
       "    </tr>\n",
       "  </thead>\n",
       "  <tbody>\n",
       "    <tr>\n",
       "      <th rowspan=\"3\" valign=\"top\">Democratic</th>\n",
       "      <th>1</th>\n",
       "      <td>2114291</td>\n",
       "    </tr>\n",
       "    <tr>\n",
       "      <th>2</th>\n",
       "      <td>22537943</td>\n",
       "    </tr>\n",
       "    <tr>\n",
       "      <th>3+</th>\n",
       "      <td>92549769</td>\n",
       "    </tr>\n",
       "    <tr>\n",
       "      <th>Independent</th>\n",
       "      <th>1</th>\n",
       "      <td>733845</td>\n",
       "    </tr>\n",
       "    <tr>\n",
       "      <th rowspan=\"3\" valign=\"top\">Republican</th>\n",
       "      <th>1</th>\n",
       "      <td>40182082</td>\n",
       "    </tr>\n",
       "    <tr>\n",
       "      <th>2</th>\n",
       "      <td>40763075</td>\n",
       "    </tr>\n",
       "    <tr>\n",
       "      <th>3+</th>\n",
       "      <td>113395998</td>\n",
       "    </tr>\n",
       "  </tbody>\n",
       "</table>\n",
       "</div>"
      ],
      "text/plain": [
       "                                 pop\n",
       "gov_party   issuer_number           \n",
       "Democratic  1                2114291\n",
       "            2               22537943\n",
       "            3+              92549769\n",
       "Independent 1                 733845\n",
       "Republican  1               40182082\n",
       "            2               40763075\n",
       "            3+             113395998"
      ]
     },
     "execution_count": 28,
     "metadata": {},
     "output_type": "execute_result"
    }
   ],
   "source": [
    "pd.pivot_table(data[~data['state'].str.contains('NC')], values='pop', index=['gov_party', 'issuer_number'], aggfunc=sum)"
   ]
  },
  {
   "cell_type": "code",
   "execution_count": 29,
   "metadata": {
    "collapsed": false
   },
   "outputs": [
    {
     "data": {
      "text/html": [
       "<div>\n",
       "<style>\n",
       "    .dataframe thead tr:only-child th {\n",
       "        text-align: right;\n",
       "    }\n",
       "\n",
       "    .dataframe thead th {\n",
       "        text-align: left;\n",
       "    }\n",
       "\n",
       "    .dataframe tbody tr th {\n",
       "        vertical-align: top;\n",
       "    }\n",
       "</style>\n",
       "<table border=\"1\" class=\"dataframe\">\n",
       "  <thead>\n",
       "    <tr style=\"text-align: right;\">\n",
       "      <th></th>\n",
       "      <th>pop</th>\n",
       "    </tr>\n",
       "    <tr>\n",
       "      <th>issuer_number</th>\n",
       "      <th></th>\n",
       "    </tr>\n",
       "  </thead>\n",
       "  <tbody>\n",
       "    <tr>\n",
       "      <th>1</th>\n",
       "      <td>51630721</td>\n",
       "    </tr>\n",
       "    <tr>\n",
       "      <th>2</th>\n",
       "      <td>64847303</td>\n",
       "    </tr>\n",
       "    <tr>\n",
       "      <th>3+</th>\n",
       "      <td>205945767</td>\n",
       "    </tr>\n",
       "  </tbody>\n",
       "</table>\n",
       "</div>"
      ],
      "text/plain": [
       "                     pop\n",
       "issuer_number           \n",
       "1               51630721\n",
       "2               64847303\n",
       "3+             205945767"
      ]
     },
     "execution_count": 29,
     "metadata": {},
     "output_type": "execute_result"
    }
   ],
   "source": [
    "pd.pivot_table(data, values='pop', index=['issuer_number'], aggfunc=sum)"
   ]
  },
  {
   "cell_type": "code",
   "execution_count": 30,
   "metadata": {
    "collapsed": false
   },
   "outputs": [
    {
     "data": {
      "text/html": [
       "<div>\n",
       "<style>\n",
       "    .dataframe thead tr:only-child th {\n",
       "        text-align: right;\n",
       "    }\n",
       "\n",
       "    .dataframe thead th {\n",
       "        text-align: left;\n",
       "    }\n",
       "\n",
       "    .dataframe tbody tr th {\n",
       "        vertical-align: top;\n",
       "    }\n",
       "</style>\n",
       "<table border=\"1\" class=\"dataframe\">\n",
       "  <thead>\n",
       "    <tr style=\"text-align: right;\">\n",
       "      <th></th>\n",
       "      <th></th>\n",
       "      <th>pop</th>\n",
       "    </tr>\n",
       "    <tr>\n",
       "      <th>gov_party</th>\n",
       "      <th>issuer_number</th>\n",
       "      <th></th>\n",
       "    </tr>\n",
       "  </thead>\n",
       "  <tbody>\n",
       "    <tr>\n",
       "      <th rowspan=\"3\" valign=\"top\">Democratic</th>\n",
       "      <th>1</th>\n",
       "      <td>0.018040</td>\n",
       "    </tr>\n",
       "    <tr>\n",
       "      <th>2</th>\n",
       "      <td>0.192300</td>\n",
       "    </tr>\n",
       "    <tr>\n",
       "      <th>3+</th>\n",
       "      <td>0.789660</td>\n",
       "    </tr>\n",
       "    <tr>\n",
       "      <th>Independent</th>\n",
       "      <th>1</th>\n",
       "      <td>1.000000</td>\n",
       "    </tr>\n",
       "    <tr>\n",
       "      <th rowspan=\"3\" valign=\"top\">Republican</th>\n",
       "      <th>1</th>\n",
       "      <td>0.206761</td>\n",
       "    </tr>\n",
       "    <tr>\n",
       "      <th>2</th>\n",
       "      <td>0.209750</td>\n",
       "    </tr>\n",
       "    <tr>\n",
       "      <th>3+</th>\n",
       "      <td>0.583489</td>\n",
       "    </tr>\n",
       "  </tbody>\n",
       "</table>\n",
       "</div>"
      ],
      "text/plain": [
       "                                pop\n",
       "gov_party   issuer_number          \n",
       "Democratic  1              0.018040\n",
       "            2              0.192300\n",
       "            3+             0.789660\n",
       "Independent 1              1.000000\n",
       "Republican  1              0.206761\n",
       "            2              0.209750\n",
       "            3+             0.583489"
      ]
     },
     "execution_count": 30,
     "metadata": {},
     "output_type": "execute_result"
    }
   ],
   "source": [
    "pd.pivot_table(data[~data['state'].str.contains('NC')], values='pop', index=['gov_party', 'issuer_number'], aggfunc=sum).groupby(\n",
    "    level=0).transform(lambda x: x/x.sum())"
   ]
  },
  {
   "cell_type": "code",
   "execution_count": 31,
   "metadata": {
    "collapsed": false
   },
   "outputs": [
    {
     "data": {
      "text/html": [
       "<div>\n",
       "<style>\n",
       "    .dataframe thead tr:only-child th {\n",
       "        text-align: right;\n",
       "    }\n",
       "\n",
       "    .dataframe thead th {\n",
       "        text-align: left;\n",
       "    }\n",
       "\n",
       "    .dataframe tbody tr th {\n",
       "        vertical-align: top;\n",
       "    }\n",
       "</style>\n",
       "<table border=\"1\" class=\"dataframe\">\n",
       "  <thead>\n",
       "    <tr style=\"text-align: right;\">\n",
       "      <th></th>\n",
       "      <th></th>\n",
       "      <th>pop</th>\n",
       "    </tr>\n",
       "    <tr>\n",
       "      <th>gov_party</th>\n",
       "      <th>issuer_number</th>\n",
       "      <th></th>\n",
       "    </tr>\n",
       "  </thead>\n",
       "  <tbody>\n",
       "    <tr>\n",
       "      <th rowspan=\"3\" valign=\"top\">Democratic</th>\n",
       "      <th>1</th>\n",
       "      <td>2114291</td>\n",
       "    </tr>\n",
       "    <tr>\n",
       "      <th>2</th>\n",
       "      <td>22537943</td>\n",
       "    </tr>\n",
       "    <tr>\n",
       "      <th>3+</th>\n",
       "      <td>92549769</td>\n",
       "    </tr>\n",
       "    <tr>\n",
       "      <th>Independent</th>\n",
       "      <th>1</th>\n",
       "      <td>733845</td>\n",
       "    </tr>\n",
       "    <tr>\n",
       "      <th rowspan=\"3\" valign=\"top\">Republican</th>\n",
       "      <th>1</th>\n",
       "      <td>40182082</td>\n",
       "    </tr>\n",
       "    <tr>\n",
       "      <th>2</th>\n",
       "      <td>40763075</td>\n",
       "    </tr>\n",
       "    <tr>\n",
       "      <th>3+</th>\n",
       "      <td>113395998</td>\n",
       "    </tr>\n",
       "  </tbody>\n",
       "</table>\n",
       "</div>"
      ],
      "text/plain": [
       "                                 pop\n",
       "gov_party   issuer_number           \n",
       "Democratic  1                2114291\n",
       "            2               22537943\n",
       "            3+              92549769\n",
       "Independent 1                 733845\n",
       "Republican  1               40182082\n",
       "            2               40763075\n",
       "            3+             113395998"
      ]
     },
     "execution_count": 31,
     "metadata": {},
     "output_type": "execute_result"
    }
   ],
   "source": [
    "pd.pivot_table(data[~data['state'].str.contains('NC')], values='pop', index=['gov_party', 'issuer_number'], aggfunc=sum)"
   ]
  },
  {
   "cell_type": "markdown",
   "metadata": {},
   "source": [
    "#### Plot data"
   ]
  },
  {
   "cell_type": "code",
   "execution_count": 10,
   "metadata": {
    "collapsed": true
   },
   "outputs": [],
   "source": [
    "df = pd.read_csv('clean_data.csv').set_index('fips_county')\n",
    "\n",
    "# Keep counties with one issuer\n",
    "df = df[df['issuer_number'] == '1']\n",
    "\n",
    "# Generate text for hover tool\n",
    "df['Governor'] = ['{} ({})'.format(row['gov_name'], row['gov_party'][0]) for index, row in df.iterrows()]\n",
    "df['text'] = ['{}<br>Population: {:,}<br>Governor: {}'.format(\n",
    "    row['county_name'], row['pop'], row['Governor']) for index, row in df.iterrows()]\n",
    "\n",
    "# Calculate size\n",
    "df['size'] = df['pop']/40000 + 4\n",
    "df = df.sort_values('pop', ascending=False)\n",
    "# Determint color\n",
    "for index, row in df.iterrows():\n",
    "    if row['gov_party'] == 'Republican':\n",
    "        df.loc[index,'color'] = '#cc0000'\n",
    "    if row['gov_party'] == 'Democratic':\n",
    "        df.loc[index,'color'] = '#1C459C'\n",
    "    if row['gov_party'] == 'Independent':\n",
    "        df.loc[index,'color'] = '#B2B200'"
   ]
  },
  {
   "cell_type": "code",
   "execution_count": 11,
   "metadata": {
    "collapsed": false
   },
   "outputs": [
    {
     "data": {
      "text/html": [
       "<iframe id=\"igraph\" scrolling=\"no\" style=\"border:none;\" seamless=\"seamless\" src=\"https://plot.ly/~bdew/115.embed\" height=\"525px\" width=\"100%\"></iframe>"
      ],
      "text/plain": [
       "<plotly.tools.PlotlyDisplay object>"
      ]
     },
     "execution_count": 11,
     "metadata": {},
     "output_type": "execute_result"
    }
   ],
   "source": [
    "trace1 = {\n",
    "  \"geo\": \"geo\", \n",
    "  \"hoverinfo\": \"text\", \n",
    "  \"lat\": df['INTPTLAT'], \n",
    "  \"lon\": df['INTPTLONG'], \n",
    "  \"marker\": {\n",
    "    \"color\": df['color'], \n",
    "    \"line\": {\n",
    "      \"color\": \"#fff\", \n",
    "      \"width\": 1\n",
    "    }, \n",
    "    \"opacity\": 0.5, \n",
    "    \"size\": df['size'], \n",
    "    \"symbol\": \"circle\"\n",
    "  }, \n",
    "  \"mode\": \"markers\", \n",
    "  \"name\": \"Counties with one health care exchange issuer\", \n",
    "  \"opacity\": 1, \n",
    "  \"showlegend\": True, \n",
    "  \"text\": df['text'], \n",
    "  \"type\": \"scattergeo\", \n",
    "  \"visible\": True\n",
    "}\n",
    "data = Data([trace1])\n",
    "layout = {\n",
    "  \"annotations\": [\n",
    "    {\n",
    "      \"x\": 0.5, \n",
    "      \"y\": 0.99, \n",
    "      \"align\": \"center\", \n",
    "      \"font\": {\"size\": 28, \"family\": \"PT Sans Narrow\"}, \n",
    "      \"showarrow\": False, \n",
    "      \"text\": \"<b>Counties with only one health insurance<br>provider on state exchange</b>\", \n",
    "      \"xref\": \"canvas\", \n",
    "      \"yref\": \"canvas\"\n",
    "    }, \n",
    "    {\n",
    "      \"x\": 0.5, \n",
    "      \"y\": 0, \n",
    "      \"align\": \"center\", \n",
    "      \"showarrow\": False, \n",
    "      \"font\": {\"size\": 13, \"family\": \"PT Sans Narrow\"},\n",
    "      \"text\": \"Hover to see details. Color is state governor political party: blue is Democratic, red is Republican, <br>yellow is Independent. Circle size is population. <b>Sources:</b> Bloomberg compiled data from<br>Healthcare.gov and state exchanges; National Governors Association; U.S. Census Bureau.\", \n",
    "      \"xref\": \"canvas\", \n",
    "      \"yref\": \"canvas\"\n",
    "    }\n",
    "  ], \n",
    "  \"autosize\": True, \n",
    "  \"dragmode\": \"zoom\", \n",
    "  \"geo\": {\n",
    "    \"landcolor\": \"rgb(212, 216, 220)\",\n",
    "    \"lakecolor\": \"rgb( 138, 228, 255)\",\n",
    "    \"bgcolor\": \"rgb(255, 252, 245)\", \n",
    "    \"countrycolor\": \"#808080\", \n",
    "    \"countrywidth\": 0.7, \n",
    "    \"domain\": {\n",
    "      \"x\": [-0.1, 1.1], \n",
    "      \"y\": [-0.1, 1.1]\n",
    "    }, \n",
    "    \"lataxis\": {\n",
    "      \"dtick\": 10, \n",
    "      \"range\": [22, 50], \n",
    "      \"showgrid\": False, \n",
    "      \"tick0\": 22\n",
    "    }, \n",
    "    \"lonaxis\": {\n",
    "      \"dtick\": 30, \n",
    "      \"range\": [-130, -60], \n",
    "      \"showgrid\": False, \n",
    "      \"tick0\": -130\n",
    "    }, \n",
    "    \"projection\": {\n",
    "      \"scale\": 1.03, \n",
    "      \"type\": \"albers usa\"\n",
    "    }, \n",
    "    \"resolution\": 50, \n",
    "    \"scope\": \"usa\", \n",
    "    \"showcountries\": False, \n",
    "    \"showlakes\": True, \n",
    "    \"showland\": True, \n",
    "    \"showrivers\": False, \n",
    "    \"showsubunits\": True, \n",
    "    \"subunitcolor\": \"#fff\", \n",
    "    \"subunitwidth\": 0.7\n",
    "  }, \n",
    "  \"hidesources\": False, \n",
    "  \"hovermode\": \"closest\", \n",
    "  \"paper_bgcolor\": \"rgb(255, 252, 245)\", \n",
    "  \"plot_bgcolor\": \"rgb(255, 252, 245)\", \n",
    "  \"separators\": \".,\", \n",
    "  \"showlegend\": False, \n",
    "  \"smith\": False, \n",
    "  \"margin\": {\n",
    "    \"r\": 0, \n",
    "    \"t\": 0, \n",
    "    \"b\": 0, \n",
    "    \"l\": 0,\n",
    "    \"pad\": 0 \n",
    "  },\n",
    "}\n",
    "fig = Figure(data=data, layout=layout)\n",
    "#plot_url = py.plot(fig, filename='HC_County')\n",
    "py.iplot(fig, filename='HC_County')"
   ]
  },
  {
   "cell_type": "code",
   "execution_count": null,
   "metadata": {
    "collapsed": true
   },
   "outputs": [],
   "source": []
  },
  {
   "cell_type": "code",
   "execution_count": null,
   "metadata": {
    "collapsed": true
   },
   "outputs": [],
   "source": []
  },
  {
   "cell_type": "code",
   "execution_count": null,
   "metadata": {
    "collapsed": true
   },
   "outputs": [],
   "source": []
  },
  {
   "cell_type": "markdown",
   "metadata": {},
   "source": []
  },
  {
   "cell_type": "code",
   "execution_count": null,
   "metadata": {
    "collapsed": true
   },
   "outputs": [],
   "source": [
    "tot = 51630721.0\n",
    "d_sh = 10714794.0/tot\n",
    "r_sh = 40182082.0/tot\n",
    "tot_nc = 43030218.0\n",
    "d_sh_nc = 10714794.0/tot_nc\n",
    "r_sh_nc = 40182082.0/tot_nc"
   ]
  },
  {
   "cell_type": "code",
   "execution_count": null,
   "metadata": {
    "collapsed": true
   },
   "outputs": [],
   "source": [
    "d_sh_nc"
   ]
  }
 ],
 "metadata": {
  "kernelspec": {
   "display_name": "Python 2",
   "language": "python",
   "name": "python2"
  },
  "language_info": {
   "codemirror_mode": {
    "name": "ipython",
    "version": 2
   },
   "file_extension": ".py",
   "mimetype": "text/x-python",
   "name": "python",
   "nbconvert_exporter": "python",
   "pygments_lexer": "ipython2",
   "version": "2.7.13"
  }
 },
 "nbformat": 4,
 "nbformat_minor": 2
}
