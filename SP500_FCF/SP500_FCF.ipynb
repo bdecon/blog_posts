{
 "cells": [
  {
   "cell_type": "markdown",
   "metadata": {},
   "source": [
    "### S&P 500 Free Cash Flow\n",
    "\n",
    "Brian Dew\n",
    "\n",
    "December 10, 2018\n",
    "\n",
    "@bd_econ\n",
    "\n",
    "----\n",
    "Goal: Calculate free cash flow for S&P 500 companies then graph. \n",
    "\n",
    "Originally published by People's Policy Project and republished by Jacobin."
   ]
  },
  {
   "cell_type": "code",
   "execution_count": 5,
   "metadata": {
    "ExecuteTime": {
     "end_time": "2018-12-14T16:49:16.499609Z",
     "start_time": "2018-12-14T16:41:33.533513Z"
    }
   },
   "outputs": [
    {
     "data": {
      "image/png": "[encoded data removed]",
      "text/plain": [
       "<Figure size 432x288 with 1 Axes>"
      ]
     },
     "metadata": {
      "needs_background": "light"
     },
     "output_type": "display_data"
    }
   ],
   "source": [
    "import pandas as pd\n",
    "import numpy as np\n",
    "\n",
    "# Graph settings:\n",
    "import matplotlib as mpl\n",
    "import matplotlib.pyplot as plt\n",
    "plt.style.use('seaborn-white')\n",
    "mpl.rc('axes', edgecolor='white') # Hide the axes\n",
    "mpl.rc('figure', figsize=[14, 12])\n",
    "plt.rc('axes', axisbelow=True)\n",
    "%matplotlib inline\n",
    "\n",
    "# Get list of S&P 500 companies from wikipedia\n",
    "sp500 = pd.read_html('https://en.wikipedia.org/wiki/List_of_S%26P_500_companies')\n",
    "tickers = list(sp500[0].iloc[1:, 0])\n",
    "\n",
    "# Scrape Yahoo! Finance Cash Flow tables\n",
    "d = {}\n",
    "for T in tickers:\n",
    "    url = f'https://finance.yahoo.com/quote/{T}/cash-flow?p={T}'\n",
    "    tables = pd.read_html(url)\n",
    "    table = tables[0].set_index(0)\n",
    "    d[T] = {}\n",
    "    for col in table:\n",
    "        year = pd.to_datetime(table.loc['Period Ending', col]).year\n",
    "        tcfoa = float(table.loc['Total Cash Flow From Operating Activities', col])\n",
    "        capex = table.loc['Capital Expenditures', col]\n",
    "        if capex == '-':\n",
    "            capex = 0\n",
    "        else:\n",
    "            capex = float(capex)\n",
    "        fcf = tcfoa + capex\n",
    "        d[T][year] = {'TCFOA': tcfoa, 'CAPEX': capex, 'FCF': fcf}\n",
    "        \n",
    "# Add in sector\n",
    "sector = {row[0]: row[3] for index, row in sp500[0].iloc[1:].iterrows()}\n",
    "\n",
    "for k, v in d.items():\n",
    "    v['Sector'] = sector[k]\n",
    "    \n",
    "FCF = [(k, v[2017]['FCF']) for k, v in d.items() \n",
    "       if v['Sector'] != 'Financials' and 2017 in v.keys()]\n",
    "\n",
    "df = pd.DataFrame(FCF).set_index(0).sort_values(by=1)\n",
    "\n",
    "df = df.drop('GOOGL') # Google is listed twice (class A and class C)\n",
    "\n",
    "pts = np.arange(0.01, 1, 0.01)\n",
    "\n",
    "ax = df.divide(1_000_000).quantile(pts).plot(color='red', legend=None)\n",
    "yticks = [0, 5, 10, 15]\n",
    "ylabels = ['0'] + [f'{yt}B' for yt in yticks if yt > 0]\n",
    "for hval in yticks:\n",
    "    ax = plt.axhline(hval, color='lightgray', linewidth=0.5)\n",
    "ax = plt.yticks(yticks, ylabels)\n",
    "ax = plt.xticks(np.arange(0.1, 1, 0.1), np.arange(10, 100, 10))\n",
    "ax = plt.xlabel('Free Cash Flow Percentile')\n",
    "plt.savefig('FCF_percentile.png', bbox_inches='tight', dpi=100)"
   ]
  }
 ],
 "metadata": {
  "kernelspec": {
   "display_name": "Python 3",
   "language": "python",
   "name": "python3"
  },
  "language_info": {
   "codemirror_mode": {
    "name": "ipython",
    "version": 3
   },
   "file_extension": ".py",
   "mimetype": "text/x-python",
   "name": "python",
   "nbconvert_exporter": "python",
   "pygments_lexer": "ipython3",
   "version": "3.7.2"
  }
 },
 "nbformat": 4,
 "nbformat_minor": 2
}
