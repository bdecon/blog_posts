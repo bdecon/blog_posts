{
 "cells": [
  {
   "cell_type": "code",
   "execution_count": 1,
   "metadata": {
    "ExecuteTime": {
     "end_time": "2020-12-08T18:35:26.773701Z",
     "start_time": "2020-12-08T18:35:26.622153Z"
    }
   },
   "outputs": [],
   "source": [
    "import pandas as pd\n",
    "import numpy as np\n",
    "import os\n",
    "\n",
    "os.chdir('/home/brian/Documents/CPS/data/clean')"
   ]
  },
  {
   "cell_type": "code",
   "execution_count": 18,
   "metadata": {
    "ExecuteTime": {
     "end_time": "2020-12-09T03:47:07.911860Z",
     "start_time": "2020-12-09T03:47:07.251887Z"
    }
   },
   "outputs": [],
   "source": [
    "columns = ['MONTH', 'YEAR', 'LFS', 'INDGRP', 'AGE', 'PWSSWGT', 'BASICWGT',\n",
    "           'FEMALE', 'PRCHLD', 'MARRIED', 'REGION', 'HRSUSL1', 'WORKFT',\n",
    "           'NILFREASON', 'UNEMPTYPE', 'PREMPHRS', 'HRSACTT', 'CPSID',\n",
    "           'INDD', 'INDM', 'OCCD', 'OCCM', 'COW1', 'CERT', 'DISABILITY',\n",
    "           'PRFAMNUM', 'PWORWGT', 'RHRWAGE', 'RWKWAGE', 'UNIONMEM',\n",
    "           'HRSACT1', 'MJH', 'STATE', 'EDUC', 'HRSUSLT', 'PRDISC', \n",
    "           'PTECON']\n",
    "\n",
    "df = pd.concat([(pd.read_feather(f'cps{year}.ft', columns=columns))\n",
    "      for year in range(2017, 2021)])"
   ]
  },
  {
   "cell_type": "code",
   "execution_count": 19,
   "metadata": {
    "ExecuteTime": {
     "end_time": "2020-12-09T03:47:09.909555Z",
     "start_time": "2020-12-09T03:47:09.466991Z"
    }
   },
   "outputs": [],
   "source": [
    "dfm = df.query('YEAR > 2017 or (YEAR == 2017 and MONTH in [11, 12])')\n",
    "#dft = dfm.query('LFS == \"Employed\" and AGE >= 60 and AGE <= 62')\n",
    "\n",
    "#(dft.query('HRSUSLT >= 60').groupby(['MONTH', 'FEMALE']).BASICWGT.sum() / \n",
    "# dft.groupby(['MONTH', 'FEMALE']).BASICWGT.sum())"
   ]
  },
  {
   "cell_type": "code",
   "execution_count": null,
   "metadata": {},
   "outputs": [],
   "source": [
    "#hrsgrp = lambda x: np.where((x.HRSACTT > 0) & (x.HRSACTT < 35), 'Part-time', )"
   ]
  },
  {
   "cell_type": "code",
   "execution_count": 20,
   "metadata": {
    "ExecuteTime": {
     "end_time": "2020-12-09T03:47:11.446059Z",
     "start_time": "2020-12-09T03:47:11.297179Z"
    }
   },
   "outputs": [],
   "source": [
    "dft = dfm.query('AGE >= 50 and AGE <= 75')"
   ]
  },
  {
   "cell_type": "code",
   "execution_count": 22,
   "metadata": {
    "ExecuteTime": {
     "end_time": "2020-12-09T03:47:27.674002Z",
     "start_time": "2020-12-09T03:47:27.465011Z"
    }
   },
   "outputs": [
    {
     "data": {
      "text/plain": [
       "<AxesSubplot:xlabel='AGE'>"
      ]
     },
     "execution_count": 22,
     "metadata": {},
     "output_type": "execute_result"
    },
    {
     "data": {
      "image/png": "[encoded data removed]",
      "text/plain": [
       "<Figure size 432x288 with 1 Axes>"
      ]
     },
     "metadata": {
      "needs_background": "light"
     },
     "output_type": "display_data"
    }
   ],
   "source": [
    "query = 'PTECON == 1 or LFS == \"Unemployed\" or NILFREASON == \"Discouraged\"'\n",
    "query = 'HRSACTT >= 50'\n",
    "query = 'NILFREASON == \"Retired\"'\n",
    "query = 'DISABILITY == 1'\n",
    "groups = ['YEAR', 'MONTH', 'AGE']\n",
    "\n",
    "((dft.query(query).groupby(groups).BASICWGT.sum() / \n",
    "  dft.groupby(groups).BASICWGT.sum()).unstack().mean().plot())"
   ]
  },
  {
   "cell_type": "code",
   "execution_count": null,
   "metadata": {},
   "outputs": [],
   "source": []
  },
  {
   "cell_type": "code",
   "execution_count": null,
   "metadata": {},
   "outputs": [],
   "source": []
  },
  {
   "cell_type": "code",
   "execution_count": null,
   "metadata": {},
   "outputs": [],
   "source": []
  },
  {
   "cell_type": "code",
   "execution_count": null,
   "metadata": {},
   "outputs": [],
   "source": []
  },
  {
   "cell_type": "code",
   "execution_count": null,
   "metadata": {},
   "outputs": [],
   "source": []
  },
  {
   "cell_type": "code",
   "execution_count": null,
   "metadata": {},
   "outputs": [],
   "source": []
  },
  {
   "cell_type": "code",
   "execution_count": null,
   "metadata": {
    "ExecuteTime": {
     "end_time": "2020-12-08T05:31:53.747940Z",
     "start_time": "2020-12-08T05:31:53.149525Z"
    }
   },
   "outputs": [],
   "source": [
    "dfm = df.query('YEAR > 2017 or (YEAR == 2017 and MONTH in [11, 12])')"
   ]
  },
  {
   "cell_type": "code",
   "execution_count": null,
   "metadata": {},
   "outputs": [],
   "source": []
  },
  {
   "cell_type": "code",
   "execution_count": null,
   "metadata": {},
   "outputs": [],
   "source": []
  },
  {
   "cell_type": "code",
   "execution_count": null,
   "metadata": {},
   "outputs": [],
   "source": []
  },
  {
   "cell_type": "code",
   "execution_count": null,
   "metadata": {},
   "outputs": [],
   "source": []
  }
 ],
 "metadata": {
  "kernelspec": {
   "display_name": "Python 3",
   "language": "python",
   "name": "python3"
  },
  "language_info": {
   "codemirror_mode": {
    "name": "ipython",
    "version": 3
   },
   "file_extension": ".py",
   "mimetype": "text/x-python",
   "name": "python",
   "nbconvert_exporter": "python",
   "pygments_lexer": "ipython3",
   "version": "3.8.6"
  }
 },
 "nbformat": 4,
 "nbformat_minor": 4
}
