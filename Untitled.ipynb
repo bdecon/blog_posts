{
 "cells": [
  {
   "cell_type": "markdown",
   "metadata": {},
   "source": []
  },
  {
   "cell_type": "code",
   "execution_count": 79,
   "metadata": {
    "ExecuteTime": {
     "end_time": "2021-01-04T07:17:37.446752Z",
     "start_time": "2021-01-04T07:17:37.040194Z"
    }
   },
   "outputs": [],
   "source": [
    "import os\n",
    "import pandas as pd\n",
    "import numpy as np\n",
    "os.chdir('/home/brian/Documents/CPS/data/clean/')\n",
    "\n",
    "import statsmodels.api as sm\n",
    "import os\n",
    "os.environ['X13PATH'] = '/home/brian/Documents/econ_data/micro/x13as/'\n",
    "from statsmodels.tsa.x13 import x13_arima_analysis"
   ]
  },
  {
   "cell_type": "code",
   "execution_count": 28,
   "metadata": {
    "ExecuteTime": {
     "end_time": "2021-01-04T05:41:20.129572Z",
     "start_time": "2021-01-04T05:41:20.124074Z"
    }
   },
   "outputs": [],
   "source": [
    "agr = [1, 2]\n",
    "cons = [4, 47]\n",
    "mm = [5, 6, 7, 8, 9, 10, 11, 12, 13, 14, 15, 16, 17, 18, 19, 20, 3]\n",
    "ttu = [21, 23, 24]\n",
    "rec = [22, 45, 46]\n",
    "fire = [32, 33, 34, 35]\n",
    "edh = [40, 41, 42, 43, 51]\n",
    "inf = [25, 26, 27, 28, 29, 30, 31]\n",
    "mgt = [36, 37, 38]\n",
    "\n",
    "groups = (lambda x: pd.Categorical(\n",
    "    np.where(((x.LFS == 'Unemployed') | (x.NILFREASON == 'Discouraged')), \n",
    "             'Unemployed',\n",
    "    np.where(((x.NILFREASON == 'Retired') | ((x.AGE >= 65) & (x.LFS == 'NILF'))), \n",
    "             'Retiree',\n",
    "    np.where(((x.NILFREASON == 'School') | (x.AGE < 18)), \n",
    "             'Students/Children',\n",
    "    np.where(x.NILFREASON == 'Family', 'Caregiver',\n",
    "    np.where(x.LFS == 'NILF', 'Other NILF',\n",
    "    np.where(x.INDD.isin(agr), 'Farming/Fishing/Livestock',\n",
    "    np.where(x.INDD.isin(cons), 'Construction, Repair, and Maintenance',\n",
    "    np.where(x.INDD.isin(mm), 'Manufacturing and Mining',\n",
    "    np.where(x.INDD.isin(ttu), 'Wholesale trade, transportation, warehousing, and utilities',\n",
    "    np.where(x.INDD.isin(rec), 'Retail trade, food and dining, hospitality, and recreation',\n",
    "    np.where(x.INDD.isin(fire), 'Finance, insurance, real estate',\n",
    "    np.where(x.INDD.isin(inf), 'Publishing/Broadcasting/Internet/Information',\n",
    "    np.where(x.INDD.isin(edh), 'Education/Health Care/Social and Public Services',\n",
    "    np.where(x.INDD.isin(mgt), 'Business, Professional, and Technical Services', 'Other'))))))))))))))))\n",
    "\n",
    "o64 = lambda x: pd.Categorical(np.where(x.AGE >= 65, 1, 0))"
   ]
  },
  {
   "cell_type": "code",
   "execution_count": 54,
   "metadata": {
    "ExecuteTime": {
     "end_time": "2021-01-04T06:31:52.197084Z",
     "start_time": "2021-01-04T06:31:39.762921Z"
    }
   },
   "outputs": [],
   "source": [
    "columns = ['YEAR', 'MONTH', 'AGE', 'LFS', 'NILFREASON', 'PTECON', 'INDD', \n",
    "           'CBSA', 'STATE', 'GTCBSASZ', 'FEMALE', 'WBHAO', 'FORBORN', \n",
    "           'BASICWGT', 'PWSSWGT']\n",
    "\n",
    "data = pd.concat([(pd.read_feather(f'cps{year}.ft', columns=columns)\n",
    "              .assign(GROUPS = groups, O64 = o64)) \n",
    "           for year in range(2015, 2021)])"
   ]
  },
  {
   "cell_type": "code",
   "execution_count": 55,
   "metadata": {
    "ExecuteTime": {
     "end_time": "2021-01-04T06:32:03.299463Z",
     "start_time": "2021-01-04T06:32:03.232736Z"
    }
   },
   "outputs": [],
   "source": [
    "date_range1 = ((data.YEAR.isin([2016, 2017])) | \n",
    "               ((data.YEAR == 2015) & (data.MONTH >= 3)) | \n",
    "               ((data.YEAR == 2018) & (data.MONTH <= 2)))\n",
    "\n",
    "date_range2 = ((data.YEAR.isin([2018, 2019])) | \n",
    "               ((data.YEAR == 2017) & (data.MONTH >= 3)) | \n",
    "               ((data.YEAR == 2020) & (data.MONTH <= 2)))"
   ]
  },
  {
   "cell_type": "code",
   "execution_count": 56,
   "metadata": {
    "ExecuteTime": {
     "end_time": "2021-01-04T06:32:05.905373Z",
     "start_time": "2021-01-04T06:32:05.830161Z"
    }
   },
   "outputs": [],
   "source": [
    "agegrp = lambda x: pd.cut(x.AGE, [0, 15, 24, 34, 44, 54, 64, 75, 81])\n",
    "\n",
    "d = {}\n",
    "for name, date_range in [('previous', date_range1), ('recent', date_range2)]:\n",
    "    d[name] = data.loc[date_range & (data.CBSA == 41540)].assign(AGEGRP = agegrp)"
   ]
  },
  {
   "cell_type": "code",
   "execution_count": 58,
   "metadata": {
    "ExecuteTime": {
     "end_time": "2021-01-04T07:06:46.383343Z",
     "start_time": "2021-01-04T07:06:46.381140Z"
    }
   },
   "outputs": [],
   "source": [
    "def fred_df(series, start='1990'):\n",
    "    url = f'http://research.stlouisfed.org/fred2/series/{series}/downloaddata/{series}.csv'\n",
    "\n",
    "    df = pd.read_csv(url, index_col='DATE', parse_dates=True, na_values=['.'])\n",
    "\n",
    "    return df.loc[start:]  "
   ]
  },
  {
   "cell_type": "code",
   "execution_count": 60,
   "metadata": {
    "ExecuteTime": {
     "end_time": "2021-01-04T07:09:18.445707Z",
     "start_time": "2021-01-04T07:09:18.443445Z"
    }
   },
   "outputs": [],
   "source": [
    "pop = pd.DataFrame()"
   ]
  },
  {
   "cell_type": "code",
   "execution_count": 64,
   "metadata": {
    "ExecuteTime": {
     "end_time": "2021-01-04T07:10:07.263370Z",
     "start_time": "2021-01-04T07:10:05.394178Z"
    }
   },
   "outputs": [],
   "source": [
    "pop['Somerset'] = fred_df('MDSOME9POP')['VALUE']\n",
    "pop['Worcester'] = fred_df('MDWORC7POP')['VALUE']\n",
    "pop['Wicomico'] = fred_df('MDWICO5POP')['VALUE']\n",
    "pop['Sussex'] = fred_df('DESUSS0POP')['VALUE']"
   ]
  },
  {
   "cell_type": "code",
   "execution_count": 78,
   "metadata": {
    "ExecuteTime": {
     "end_time": "2021-01-04T07:15:10.127620Z",
     "start_time": "2021-01-04T07:15:09.417956Z"
    }
   },
   "outputs": [],
   "source": [
    "emp = fred_df('LAUMT104154000000005')['VALUE']"
   ]
  },
  {
   "cell_type": "code",
   "execution_count": 80,
   "metadata": {
    "ExecuteTime": {
     "end_time": "2021-01-04T07:18:02.160823Z",
     "start_time": "2021-01-04T07:18:01.615340Z"
    }
   },
   "outputs": [],
   "source": [
    "sm = x13_arima_analysis(emp)\n",
    "result = sm.seasadj"
   ]
  },
  {
   "cell_type": "code",
   "execution_count": 89,
   "metadata": {
    "ExecuteTime": {
     "end_time": "2021-01-04T07:21:02.682927Z",
     "start_time": "2021-01-04T07:21:02.554624Z"
    }
   },
   "outputs": [
    {
     "data": {
      "text/plain": [
       "<AxesSubplot:xlabel='DATE'>"
      ]
     },
     "execution_count": 89,
     "metadata": {},
     "output_type": "execute_result"
    },
    {
     "data": {
      "image/png": "[encoded data removed]",
      "text/plain": [
       "<Figure size 432x288 with 1 Axes>"
      ]
     },
     "metadata": {
      "needs_background": "light"
     },
     "output_type": "display_data"
    }
   ],
   "source": [
    "(((result / 1000).resample('AS').mean() / totpop) * 100).plot()"
   ]
  },
  {
   "cell_type": "code",
   "execution_count": null,
   "metadata": {},
   "outputs": [],
   "source": []
  },
  {
   "cell_type": "code",
   "execution_count": null,
   "metadata": {},
   "outputs": [],
   "source": []
  },
  {
   "cell_type": "code",
   "execution_count": null,
   "metadata": {},
   "outputs": [],
   "source": []
  },
  {
   "cell_type": "code",
   "execution_count": null,
   "metadata": {},
   "outputs": [],
   "source": []
  },
  {
   "cell_type": "code",
   "execution_count": null,
   "metadata": {},
   "outputs": [],
   "source": []
  },
  {
   "cell_type": "code",
   "execution_count": null,
   "metadata": {},
   "outputs": [],
   "source": []
  },
  {
   "cell_type": "code",
   "execution_count": 75,
   "metadata": {
    "ExecuteTime": {
     "end_time": "2021-01-04T07:12:42.347899Z",
     "start_time": "2021-01-04T07:12:42.345755Z"
    }
   },
   "outputs": [],
   "source": [
    "totpop = pop.sum(1)"
   ]
  },
  {
   "cell_type": "code",
   "execution_count": 76,
   "metadata": {
    "ExecuteTime": {
     "end_time": "2021-01-04T07:12:50.479545Z",
     "start_time": "2021-01-04T07:12:50.475335Z"
    }
   },
   "outputs": [],
   "source": [
    "totpop[pd.to_datetime('2020-01-01')] = (totpop.pct_change().iloc[-3:].mean() + 1) * totpop.loc['2019-01-01']"
   ]
  },
  {
   "cell_type": "code",
   "execution_count": 77,
   "metadata": {
    "ExecuteTime": {
     "end_time": "2021-01-04T07:12:51.290883Z",
     "start_time": "2021-01-04T07:12:51.287162Z"
    }
   },
   "outputs": [
    {
     "data": {
      "text/plain": [
       "DATE\n",
       "1990-01-01    247.645000\n",
       "1991-01-01    254.246000\n",
       "1992-01-01    260.733000\n",
       "1993-01-01    267.853000\n",
       "1994-01-01    274.618000\n",
       "1995-01-01    281.441000\n",
       "1996-01-01    288.563000\n",
       "1997-01-01    294.772000\n",
       "1998-01-01    301.328000\n",
       "1999-01-01    307.487000\n",
       "2000-01-01    313.626000\n",
       "2001-01-01    318.196000\n",
       "2002-01-01    323.257000\n",
       "2003-01-01    329.340000\n",
       "2004-01-01    334.586000\n",
       "2005-01-01    340.597000\n",
       "2006-01-01    347.659000\n",
       "2007-01-01    353.838000\n",
       "2008-01-01    358.646000\n",
       "2009-01-01    361.404000\n",
       "2010-01-01    374.821000\n",
       "2011-01-01    378.196000\n",
       "2012-01-01    381.216000\n",
       "2013-01-01    384.567000\n",
       "2014-01-01    388.766000\n",
       "2015-01-01    393.526000\n",
       "2016-01-01    398.676000\n",
       "2017-01-01    404.155000\n",
       "2018-01-01    409.999000\n",
       "2019-01-01    415.726000\n",
       "2020-01-01    421.569876\n",
       "dtype: float64"
      ]
     },
     "execution_count": 77,
     "metadata": {},
     "output_type": "execute_result"
    }
   ],
   "source": [
    "totpop"
   ]
  },
  {
   "cell_type": "code",
   "execution_count": null,
   "metadata": {},
   "outputs": [],
   "source": []
  },
  {
   "cell_type": "code",
   "execution_count": null,
   "metadata": {},
   "outputs": [],
   "source": []
  },
  {
   "cell_type": "code",
   "execution_count": 63,
   "metadata": {
    "ExecuteTime": {
     "end_time": "2021-01-04T07:09:54.292066Z",
     "start_time": "2021-01-04T07:09:53.795673Z"
    }
   },
   "outputs": [
    {
     "data": {
      "text/html": [
       "<div>\n",
       "<style scoped>\n",
       "    .dataframe tbody tr th:only-of-type {\n",
       "        vertical-align: middle;\n",
       "    }\n",
       "\n",
       "    .dataframe tbody tr th {\n",
       "        vertical-align: top;\n",
       "    }\n",
       "\n",
       "    .dataframe thead th {\n",
       "        text-align: right;\n",
       "    }\n",
       "</style>\n",
       "<table border=\"1\" class=\"dataframe\">\n",
       "  <thead>\n",
       "    <tr style=\"text-align: right;\">\n",
       "      <th></th>\n",
       "      <th>VALUE</th>\n",
       "    </tr>\n",
       "    <tr>\n",
       "      <th>DATE</th>\n",
       "      <th></th>\n",
       "    </tr>\n",
       "  </thead>\n",
       "  <tbody>\n",
       "    <tr>\n",
       "      <th>1990-01-01</th>\n",
       "      <td>23.469</td>\n",
       "    </tr>\n",
       "    <tr>\n",
       "      <th>1991-01-01</th>\n",
       "      <td>23.303</td>\n",
       "    </tr>\n",
       "    <tr>\n",
       "      <th>1992-01-01</th>\n",
       "      <td>23.522</td>\n",
       "    </tr>\n",
       "    <tr>\n",
       "      <th>1993-01-01</th>\n",
       "      <td>23.860</td>\n",
       "    </tr>\n",
       "    <tr>\n",
       "      <th>1994-01-01</th>\n",
       "      <td>24.426</td>\n",
       "    </tr>\n",
       "    <tr>\n",
       "      <th>1995-01-01</th>\n",
       "      <td>24.455</td>\n",
       "    </tr>\n",
       "    <tr>\n",
       "      <th>1996-01-01</th>\n",
       "      <td>24.748</td>\n",
       "    </tr>\n",
       "    <tr>\n",
       "      <th>1997-01-01</th>\n",
       "      <td>24.745</td>\n",
       "    </tr>\n",
       "    <tr>\n",
       "      <th>1998-01-01</th>\n",
       "      <td>24.647</td>\n",
       "    </tr>\n",
       "    <tr>\n",
       "      <th>1999-01-01</th>\n",
       "      <td>24.766</td>\n",
       "    </tr>\n",
       "    <tr>\n",
       "      <th>2000-01-01</th>\n",
       "      <td>24.712</td>\n",
       "    </tr>\n",
       "    <tr>\n",
       "      <th>2001-01-01</th>\n",
       "      <td>25.118</td>\n",
       "    </tr>\n",
       "    <tr>\n",
       "      <th>2002-01-01</th>\n",
       "      <td>25.359</td>\n",
       "    </tr>\n",
       "    <tr>\n",
       "      <th>2003-01-01</th>\n",
       "      <td>25.404</td>\n",
       "    </tr>\n",
       "    <tr>\n",
       "      <th>2004-01-01</th>\n",
       "      <td>25.612</td>\n",
       "    </tr>\n",
       "    <tr>\n",
       "      <th>2005-01-01</th>\n",
       "      <td>25.546</td>\n",
       "    </tr>\n",
       "    <tr>\n",
       "      <th>2006-01-01</th>\n",
       "      <td>25.843</td>\n",
       "    </tr>\n",
       "    <tr>\n",
       "      <th>2007-01-01</th>\n",
       "      <td>26.209</td>\n",
       "    </tr>\n",
       "    <tr>\n",
       "      <th>2008-01-01</th>\n",
       "      <td>26.123</td>\n",
       "    </tr>\n",
       "    <tr>\n",
       "      <th>2009-01-01</th>\n",
       "      <td>26.048</td>\n",
       "    </tr>\n",
       "    <tr>\n",
       "      <th>2010-01-01</th>\n",
       "      <td>26.464</td>\n",
       "    </tr>\n",
       "    <tr>\n",
       "      <th>2011-01-01</th>\n",
       "      <td>26.261</td>\n",
       "    </tr>\n",
       "    <tr>\n",
       "      <th>2012-01-01</th>\n",
       "      <td>26.039</td>\n",
       "    </tr>\n",
       "    <tr>\n",
       "      <th>2013-01-01</th>\n",
       "      <td>25.959</td>\n",
       "    </tr>\n",
       "    <tr>\n",
       "      <th>2014-01-01</th>\n",
       "      <td>25.571</td>\n",
       "    </tr>\n",
       "    <tr>\n",
       "      <th>2015-01-01</th>\n",
       "      <td>25.687</td>\n",
       "    </tr>\n",
       "    <tr>\n",
       "      <th>2016-01-01</th>\n",
       "      <td>25.839</td>\n",
       "    </tr>\n",
       "    <tr>\n",
       "      <th>2017-01-01</th>\n",
       "      <td>25.896</td>\n",
       "    </tr>\n",
       "    <tr>\n",
       "      <th>2018-01-01</th>\n",
       "      <td>25.606</td>\n",
       "    </tr>\n",
       "    <tr>\n",
       "      <th>2019-01-01</th>\n",
       "      <td>25.616</td>\n",
       "    </tr>\n",
       "  </tbody>\n",
       "</table>\n",
       "</div>"
      ],
      "text/plain": [
       "             VALUE\n",
       "DATE              \n",
       "1990-01-01  23.469\n",
       "1991-01-01  23.303\n",
       "1992-01-01  23.522\n",
       "1993-01-01  23.860\n",
       "1994-01-01  24.426\n",
       "1995-01-01  24.455\n",
       "1996-01-01  24.748\n",
       "1997-01-01  24.745\n",
       "1998-01-01  24.647\n",
       "1999-01-01  24.766\n",
       "2000-01-01  24.712\n",
       "2001-01-01  25.118\n",
       "2002-01-01  25.359\n",
       "2003-01-01  25.404\n",
       "2004-01-01  25.612\n",
       "2005-01-01  25.546\n",
       "2006-01-01  25.843\n",
       "2007-01-01  26.209\n",
       "2008-01-01  26.123\n",
       "2009-01-01  26.048\n",
       "2010-01-01  26.464\n",
       "2011-01-01  26.261\n",
       "2012-01-01  26.039\n",
       "2013-01-01  25.959\n",
       "2014-01-01  25.571\n",
       "2015-01-01  25.687\n",
       "2016-01-01  25.839\n",
       "2017-01-01  25.896\n",
       "2018-01-01  25.606\n",
       "2019-01-01  25.616"
      ]
     },
     "execution_count": 63,
     "metadata": {},
     "output_type": "execute_result"
    }
   ],
   "source": [
    "fred_df('MDSOME9POP')"
   ]
  },
  {
   "cell_type": "code",
   "execution_count": null,
   "metadata": {},
   "outputs": [],
   "source": []
  },
  {
   "cell_type": "code",
   "execution_count": null,
   "metadata": {},
   "outputs": [],
   "source": []
  },
  {
   "cell_type": "code",
   "execution_count": null,
   "metadata": {},
   "outputs": [],
   "source": []
  },
  {
   "cell_type": "code",
   "execution_count": null,
   "metadata": {},
   "outputs": [],
   "source": []
  },
  {
   "cell_type": "code",
   "execution_count": null,
   "metadata": {},
   "outputs": [],
   "source": []
  },
  {
   "cell_type": "code",
   "execution_count": 33,
   "metadata": {
    "ExecuteTime": {
     "end_time": "2021-01-04T05:41:55.801624Z",
     "start_time": "2021-01-04T05:41:55.797996Z"
    }
   },
   "outputs": [
    {
     "data": {
      "text/plain": [
       "{'previous': O64\n",
       " 0    76.985939\n",
       " 1    23.014059\n",
       " Name: PWSSWGT, dtype: float32,\n",
       " 'recent': O64\n",
       " 0    73.553940\n",
       " 1    26.446045\n",
       " Name: PWSSWGT, dtype: float32}"
      ]
     },
     "execution_count": 33,
     "metadata": {},
     "output_type": "execute_result"
    }
   ],
   "source": [
    "d"
   ]
  },
  {
   "cell_type": "code",
   "execution_count": null,
   "metadata": {},
   "outputs": [],
   "source": []
  },
  {
   "cell_type": "code",
   "execution_count": 57,
   "metadata": {
    "ExecuteTime": {
     "end_time": "2021-01-04T06:32:11.341755Z",
     "start_time": "2021-01-04T06:32:11.330662Z"
    }
   },
   "outputs": [
    {
     "data": {
      "text/plain": [
       "AGEGRP\n",
       "(0, 15]     0.990808\n",
       "(15, 24]    1.089667\n",
       "(24, 34]    1.384135\n",
       "(34, 44]    0.974488\n",
       "(44, 54]    0.959464\n",
       "(54, 64]    1.189673\n",
       "(64, 75]    1.226171\n",
       "(75, 81]    1.342181\n",
       "Name: PWSSWGT, dtype: float32"
      ]
     },
     "execution_count": 57,
     "metadata": {},
     "output_type": "execute_result"
    }
   ],
   "source": [
    "(d['recent'].groupby('AGEGRP').PWSSWGT.sum() / df.PWSSWGT.sum()) / (d['previous'].groupby('AGEGRP').PWSSWGT.sum() / df.PWSSWGT.sum())"
   ]
  },
  {
   "cell_type": "code",
   "execution_count": 45,
   "metadata": {
    "ExecuteTime": {
     "end_time": "2021-01-04T06:22:05.790050Z",
     "start_time": "2021-01-04T06:22:05.785360Z"
    }
   },
   "outputs": [
    {
     "name": "stderr",
     "output_type": "stream",
     "text": [
      "<ipython-input-45-cdcca15eb42a>:1: SettingWithCopyWarning: \n",
      "A value is trying to be set on a copy of a slice from a DataFrame.\n",
      "Try using .loc[row_indexer,col_indexer] = value instead\n",
      "\n",
      "See the caveats in the documentation: https://pandas.pydata.org/pandas-docs/stable/user_guide/indexing.html#returning-a-view-versus-a-copy\n",
      "  df['AGEGRP'] = pd.cut(df.AGE, [0, 15, 24, 34, 44, 54, 64, 75, 81])\n"
     ]
    }
   ],
   "source": [
    "df['AGEGRP'] = pd.cut(df.AGE, [0, 15, 24, 34, 44, 54, 64, 75, 81])"
   ]
  },
  {
   "cell_type": "code",
   "execution_count": 40,
   "metadata": {
    "ExecuteTime": {
     "end_time": "2021-01-04T06:19:04.366787Z",
     "start_time": "2021-01-04T06:19:04.361566Z"
    }
   },
   "outputs": [
    {
     "data": {
      "text/plain": [
       "145392     28\n",
       "145393     24\n",
       "145394     25\n",
       "145395     69\n",
       "145396     66\n",
       "           ..\n",
       "1093997    66\n",
       "1094000    75\n",
       "1094001    53\n",
       "1094013    62\n",
       "1094014    66\n",
       "Name: AGE, Length: 9473, dtype: int8"
      ]
     },
     "execution_count": 40,
     "metadata": {},
     "output_type": "execute_result"
    }
   ],
   "source": [
    "df.AGE"
   ]
  },
  {
   "cell_type": "code",
   "execution_count": null,
   "metadata": {},
   "outputs": [],
   "source": [
    "ref_pd = (2001, 3)\n",
    "ref_dt = to_date(ref_pd)\n",
    "ages = '18 <= AGE <= 64'\n",
    "wgt = 'BASICWGT'\n",
    "cat = 'NILFREASON'\n",
    "dates = ['YEAR', 'MONTH']\n",
    "dems = ['FEMALE', 'AGE']\n",
    "cols = dates + dems + [wgt, cat]\n",
    "files = [f'cps{year}.ft' for year in years]\n",
    "\n",
    "# CPS Data\n",
    "df = pd.concat([pd.read_feather(file, columns=cols)\n",
    "                  .query(ages) for file in files])\n",
    "\n",
    "p = df.groupby(dates + dems)[wgt].sum().rename('ADJ')\n",
    "sh = (p / p.groupby(dates).sum())\n",
    "adj = (sh.loc[ref_pd] / sh).reset_index()\n",
    "data = (pd.merge(df, adj)\n",
    "          .assign(ADJWGT = lambda x: x.ADJ * x[wgt]))\n",
    "data.NILFREASON.cat.rename_categories({'nan': 'LF'}, \n",
    "                                      inplace=True)"
   ]
  },
  {
   "cell_type": "code",
   "execution_count": null,
   "metadata": {},
   "outputs": [],
   "source": []
  },
  {
   "cell_type": "code",
   "execution_count": null,
   "metadata": {},
   "outputs": [],
   "source": []
  },
  {
   "cell_type": "code",
   "execution_count": null,
   "metadata": {},
   "outputs": [],
   "source": []
  },
  {
   "cell_type": "code",
   "execution_count": null,
   "metadata": {},
   "outputs": [],
   "source": []
  },
  {
   "cell_type": "code",
   "execution_count": null,
   "metadata": {},
   "outputs": [],
   "source": []
  },
  {
   "cell_type": "code",
   "execution_count": null,
   "metadata": {},
   "outputs": [],
   "source": []
  },
  {
   "cell_type": "code",
   "execution_count": null,
   "metadata": {},
   "outputs": [],
   "source": []
  },
  {
   "cell_type": "code",
   "execution_count": null,
   "metadata": {},
   "outputs": [],
   "source": []
  },
  {
   "cell_type": "code",
   "execution_count": null,
   "metadata": {
    "ExecuteTime": {
     "end_time": "2021-01-04T05:06:06.455627Z",
     "start_time": "2021-01-04T05:06:05.154116Z"
    }
   },
   "outputs": [],
   "source": [
    "salisbury = ('Salisbury MSA', 'CBSA == 41540')\n",
    "demdva = ('All DE, MD, VA', 'STATE in [\"DE\", \"MD\", \"VA\"]')\n",
    "midsz = ('All MSAs 250,000 to 499,999', 'GTCBSASZ == 3')\n",
    "total = ('US Total', 'PWSSWGT > 0')\n",
    "\n",
    "groups = (lambda x: pd.Categorical(\n",
    "    np.where(((x.LFS == 'Unemployed') | (x.NILFREASON == 'Discouraged') | (x.PTECON == 1)), \n",
    "             'Unemployed',\n",
    "    np.where(x.LFS == 'Employed', 'Employed', 'NILF'))))\n",
    "\n",
    "o64 = lambda x: pd.Categorical(np.where(x.AGE >= 65, 1, 0))\n",
    "\n",
    "\n",
    "columns = ['YEAR', 'MONTH', 'AGE', 'LFS', 'NILFREASON', 'PTECON', 'INDD', \n",
    "           'CBSA', 'STATE', 'GTCBSASZ', 'FEMALE', 'WBHAO', 'FORBORN', \n",
    "           'BASICWGT', 'PWSSWGT']\n",
    "\n",
    "\n",
    "data = pd.concat([(pd.read_feather(f'cps{year}.ft', columns=columns)\n",
    "              .assign(GROUPS = groups, O64 = o64)) \n",
    "           for year in range(2016, 2021)])\n",
    "\n",
    "#for area in [salisbury, demdva, midsz, total]:\n",
    "    "
   ]
  },
  {
   "cell_type": "code",
   "execution_count": null,
   "metadata": {
    "ExecuteTime": {
     "end_time": "2021-01-04T04:56:31.973061Z",
     "start_time": "2021-01-04T04:56:31.325694Z"
    }
   },
   "outputs": [],
   "source": [
    "d = pd.DataFrame()\n",
    "for name, area in [salisbury, demdva, midsz, total]:\n",
    "    df = data.query(area)\n",
    "    d[name] = df.groupby(['YEAR', 'MONTH']).PWSSWGT.sum()"
   ]
  },
  {
   "cell_type": "code",
   "execution_count": null,
   "metadata": {
    "ExecuteTime": {
     "end_time": "2021-01-04T04:56:43.186900Z",
     "start_time": "2021-01-04T04:56:43.175721Z"
    }
   },
   "outputs": [],
   "source": [
    "d"
   ]
  },
  {
   "cell_type": "code",
   "execution_count": null,
   "metadata": {
    "ExecuteTime": {
     "end_time": "2021-01-04T04:57:01.363639Z",
     "start_time": "2021-01-04T04:57:01.358337Z"
    }
   },
   "outputs": [],
   "source": [
    "d.index = pd.to_datetime([f'{year}-{month}-01' for year, month in d.index])"
   ]
  },
  {
   "cell_type": "code",
   "execution_count": null,
   "metadata": {
    "ExecuteTime": {
     "end_time": "2021-01-04T04:53:56.210508Z",
     "start_time": "2021-01-04T04:53:56.205644Z"
    }
   },
   "outputs": [],
   "source": [
    "final = res.dropna()"
   ]
  },
  {
   "cell_type": "code",
   "execution_count": null,
   "metadata": {
    "ExecuteTime": {
     "end_time": "2021-01-04T04:57:11.281193Z",
     "start_time": "2021-01-04T04:57:11.271711Z"
    }
   },
   "outputs": [],
   "source": [
    "d"
   ]
  },
  {
   "cell_type": "code",
   "execution_count": null,
   "metadata": {
    "ExecuteTime": {
     "end_time": "2021-01-04T04:57:45.047703Z",
     "start_time": "2021-01-04T04:57:44.888372Z"
    }
   },
   "outputs": [],
   "source": [
    "d['Salisbury MSA'].plot()"
   ]
  },
  {
   "cell_type": "code",
   "execution_count": null,
   "metadata": {
    "ExecuteTime": {
     "end_time": "2021-01-04T04:42:06.979788Z",
     "start_time": "2021-01-04T04:42:06.972483Z"
    }
   },
   "outputs": [],
   "source": [
    "res.loc[:, ('Salisbury MSA', 1)].loc['2015':].dropna().resample('Y').mean()"
   ]
  },
  {
   "cell_type": "code",
   "execution_count": null,
   "metadata": {
    "ExecuteTime": {
     "end_time": "2021-01-04T04:50:28.914468Z",
     "start_time": "2021-01-04T04:50:28.695030Z"
    }
   },
   "outputs": [],
   "source": [
    "data.query(salisbury[1]).groupby(['YEAR', 'MONTH', 'STATE']).PWSSWGT.sum().unstack().loc[:, ['MD', 'DE']].plot()"
   ]
  },
  {
   "cell_type": "code",
   "execution_count": null,
   "metadata": {},
   "outputs": [],
   "source": []
  },
  {
   "cell_type": "code",
   "execution_count": null,
   "metadata": {},
   "outputs": [],
   "source": []
  },
  {
   "cell_type": "code",
   "execution_count": 35,
   "metadata": {
    "ExecuteTime": {
     "end_time": "2021-01-04T05:55:39.304815Z",
     "start_time": "2021-01-04T05:55:39.279049Z"
    }
   },
   "outputs": [
    {
     "data": {
      "text/html": [
       "<div>\n",
       "<style scoped>\n",
       "    .dataframe tbody tr th:only-of-type {\n",
       "        vertical-align: middle;\n",
       "    }\n",
       "\n",
       "    .dataframe tbody tr th {\n",
       "        vertical-align: top;\n",
       "    }\n",
       "\n",
       "    .dataframe thead th {\n",
       "        text-align: right;\n",
       "    }\n",
       "</style>\n",
       "<table border=\"1\" class=\"dataframe\">\n",
       "  <thead>\n",
       "    <tr style=\"text-align: right;\">\n",
       "      <th></th>\n",
       "      <th>YEAR</th>\n",
       "      <th>MONTH</th>\n",
       "      <th>AGE</th>\n",
       "      <th>LFS</th>\n",
       "      <th>NILFREASON</th>\n",
       "      <th>PTECON</th>\n",
       "      <th>INDD</th>\n",
       "      <th>CBSA</th>\n",
       "      <th>STATE</th>\n",
       "      <th>GTCBSASZ</th>\n",
       "      <th>FEMALE</th>\n",
       "      <th>WBHAO</th>\n",
       "      <th>FORBORN</th>\n",
       "      <th>BASICWGT</th>\n",
       "      <th>PWSSWGT</th>\n",
       "      <th>GROUPS</th>\n",
       "      <th>O64</th>\n",
       "    </tr>\n",
       "  </thead>\n",
       "  <tbody>\n",
       "    <tr>\n",
       "      <th>145392</th>\n",
       "      <td>2018</td>\n",
       "      <td>12</td>\n",
       "      <td>28</td>\n",
       "      <td>Employed</td>\n",
       "      <td>nan</td>\n",
       "      <td>0</td>\n",
       "      <td>40</td>\n",
       "      <td>41540</td>\n",
       "      <td>DE</td>\n",
       "      <td>3</td>\n",
       "      <td>0</td>\n",
       "      <td>White</td>\n",
       "      <td>0</td>\n",
       "      <td>543.630310</td>\n",
       "      <td>547.210327</td>\n",
       "      <td>Education/Health Care/Social and Public Services</td>\n",
       "      <td>0</td>\n",
       "    </tr>\n",
       "    <tr>\n",
       "      <th>145393</th>\n",
       "      <td>2018</td>\n",
       "      <td>12</td>\n",
       "      <td>24</td>\n",
       "      <td>Employed</td>\n",
       "      <td>nan</td>\n",
       "      <td>0</td>\n",
       "      <td>40</td>\n",
       "      <td>41540</td>\n",
       "      <td>DE</td>\n",
       "      <td>3</td>\n",
       "      <td>0</td>\n",
       "      <td>White</td>\n",
       "      <td>0</td>\n",
       "      <td>602.832703</td>\n",
       "      <td>604.745605</td>\n",
       "      <td>Education/Health Care/Social and Public Services</td>\n",
       "      <td>0</td>\n",
       "    </tr>\n",
       "    <tr>\n",
       "      <th>145394</th>\n",
       "      <td>2018</td>\n",
       "      <td>12</td>\n",
       "      <td>25</td>\n",
       "      <td>Employed</td>\n",
       "      <td>nan</td>\n",
       "      <td>0</td>\n",
       "      <td>40</td>\n",
       "      <td>41540</td>\n",
       "      <td>DE</td>\n",
       "      <td>3</td>\n",
       "      <td>0</td>\n",
       "      <td>White</td>\n",
       "      <td>0</td>\n",
       "      <td>543.630310</td>\n",
       "      <td>547.210327</td>\n",
       "      <td>Education/Health Care/Social and Public Services</td>\n",
       "      <td>0</td>\n",
       "    </tr>\n",
       "    <tr>\n",
       "      <th>145395</th>\n",
       "      <td>2018</td>\n",
       "      <td>12</td>\n",
       "      <td>69</td>\n",
       "      <td>NILF</td>\n",
       "      <td>Retired</td>\n",
       "      <td>NaN</td>\n",
       "      <td>-1</td>\n",
       "      <td>41540</td>\n",
       "      <td>DE</td>\n",
       "      <td>3</td>\n",
       "      <td>1</td>\n",
       "      <td>White</td>\n",
       "      <td>0</td>\n",
       "      <td>648.573975</td>\n",
       "      <td>645.837097</td>\n",
       "      <td>Retiree</td>\n",
       "      <td>1</td>\n",
       "    </tr>\n",
       "    <tr>\n",
       "      <th>145396</th>\n",
       "      <td>2018</td>\n",
       "      <td>12</td>\n",
       "      <td>66</td>\n",
       "      <td>NILF</td>\n",
       "      <td>Retired</td>\n",
       "      <td>NaN</td>\n",
       "      <td>-1</td>\n",
       "      <td>41540</td>\n",
       "      <td>DE</td>\n",
       "      <td>3</td>\n",
       "      <td>0</td>\n",
       "      <td>White</td>\n",
       "      <td>0</td>\n",
       "      <td>570.584106</td>\n",
       "      <td>567.849976</td>\n",
       "      <td>Retiree</td>\n",
       "      <td>1</td>\n",
       "    </tr>\n",
       "    <tr>\n",
       "      <th>...</th>\n",
       "      <td>...</td>\n",
       "      <td>...</td>\n",
       "      <td>...</td>\n",
       "      <td>...</td>\n",
       "      <td>...</td>\n",
       "      <td>...</td>\n",
       "      <td>...</td>\n",
       "      <td>...</td>\n",
       "      <td>...</td>\n",
       "      <td>...</td>\n",
       "      <td>...</td>\n",
       "      <td>...</td>\n",
       "      <td>...</td>\n",
       "      <td>...</td>\n",
       "      <td>...</td>\n",
       "      <td>...</td>\n",
       "      <td>...</td>\n",
       "    </tr>\n",
       "    <tr>\n",
       "      <th>1093997</th>\n",
       "      <td>2020</td>\n",
       "      <td>2</td>\n",
       "      <td>66</td>\n",
       "      <td>NILF</td>\n",
       "      <td>Retired</td>\n",
       "      <td>NaN</td>\n",
       "      <td>-1</td>\n",
       "      <td>41540</td>\n",
       "      <td>MD</td>\n",
       "      <td>3</td>\n",
       "      <td>1</td>\n",
       "      <td>White</td>\n",
       "      <td>0</td>\n",
       "      <td>3478.972900</td>\n",
       "      <td>3628.106445</td>\n",
       "      <td>Retiree</td>\n",
       "      <td>1</td>\n",
       "    </tr>\n",
       "    <tr>\n",
       "      <th>1094000</th>\n",
       "      <td>2020</td>\n",
       "      <td>2</td>\n",
       "      <td>75</td>\n",
       "      <td>NILF</td>\n",
       "      <td>Retired</td>\n",
       "      <td>NaN</td>\n",
       "      <td>-1</td>\n",
       "      <td>41540</td>\n",
       "      <td>MD</td>\n",
       "      <td>3</td>\n",
       "      <td>1</td>\n",
       "      <td>White</td>\n",
       "      <td>0</td>\n",
       "      <td>3579.145508</td>\n",
       "      <td>3732.573486</td>\n",
       "      <td>Retiree</td>\n",
       "      <td>1</td>\n",
       "    </tr>\n",
       "    <tr>\n",
       "      <th>1094001</th>\n",
       "      <td>2020</td>\n",
       "      <td>2</td>\n",
       "      <td>53</td>\n",
       "      <td>NILF</td>\n",
       "      <td>Disabled/Ill</td>\n",
       "      <td>NaN</td>\n",
       "      <td>-1</td>\n",
       "      <td>41540</td>\n",
       "      <td>MD</td>\n",
       "      <td>3</td>\n",
       "      <td>0</td>\n",
       "      <td>White</td>\n",
       "      <td>0</td>\n",
       "      <td>3903.038086</td>\n",
       "      <td>3727.535156</td>\n",
       "      <td>Other NILF</td>\n",
       "      <td>0</td>\n",
       "    </tr>\n",
       "    <tr>\n",
       "      <th>1094013</th>\n",
       "      <td>2020</td>\n",
       "      <td>2</td>\n",
       "      <td>62</td>\n",
       "      <td>Employed</td>\n",
       "      <td>nan</td>\n",
       "      <td>0</td>\n",
       "      <td>42</td>\n",
       "      <td>41540</td>\n",
       "      <td>MD</td>\n",
       "      <td>3</td>\n",
       "      <td>1</td>\n",
       "      <td>Black</td>\n",
       "      <td>0</td>\n",
       "      <td>4139.242188</td>\n",
       "      <td>4073.992920</td>\n",
       "      <td>Education/Health Care/Social and Public Services</td>\n",
       "      <td>0</td>\n",
       "    </tr>\n",
       "    <tr>\n",
       "      <th>1094014</th>\n",
       "      <td>2020</td>\n",
       "      <td>2</td>\n",
       "      <td>66</td>\n",
       "      <td>NILF</td>\n",
       "      <td>Retired</td>\n",
       "      <td>NaN</td>\n",
       "      <td>-1</td>\n",
       "      <td>41540</td>\n",
       "      <td>MD</td>\n",
       "      <td>3</td>\n",
       "      <td>1</td>\n",
       "      <td>Black</td>\n",
       "      <td>0</td>\n",
       "      <td>3751.460449</td>\n",
       "      <td>3893.010010</td>\n",
       "      <td>Retiree</td>\n",
       "      <td>1</td>\n",
       "    </tr>\n",
       "  </tbody>\n",
       "</table>\n",
       "<p>9473 rows × 17 columns</p>\n",
       "</div>"
      ],
      "text/plain": [
       "         YEAR  MONTH  AGE       LFS    NILFREASON PTECON  INDD   CBSA STATE  \\\n",
       "145392   2018     12   28  Employed           nan      0    40  41540    DE   \n",
       "145393   2018     12   24  Employed           nan      0    40  41540    DE   \n",
       "145394   2018     12   25  Employed           nan      0    40  41540    DE   \n",
       "145395   2018     12   69      NILF       Retired    NaN    -1  41540    DE   \n",
       "145396   2018     12   66      NILF       Retired    NaN    -1  41540    DE   \n",
       "...       ...    ...  ...       ...           ...    ...   ...    ...   ...   \n",
       "1093997  2020      2   66      NILF       Retired    NaN    -1  41540    MD   \n",
       "1094000  2020      2   75      NILF       Retired    NaN    -1  41540    MD   \n",
       "1094001  2020      2   53      NILF  Disabled/Ill    NaN    -1  41540    MD   \n",
       "1094013  2020      2   62  Employed           nan      0    42  41540    MD   \n",
       "1094014  2020      2   66      NILF       Retired    NaN    -1  41540    MD   \n",
       "\n",
       "         GTCBSASZ FEMALE  WBHAO FORBORN     BASICWGT      PWSSWGT  \\\n",
       "145392          3      0  White       0   543.630310   547.210327   \n",
       "145393          3      0  White       0   602.832703   604.745605   \n",
       "145394          3      0  White       0   543.630310   547.210327   \n",
       "145395          3      1  White       0   648.573975   645.837097   \n",
       "145396          3      0  White       0   570.584106   567.849976   \n",
       "...           ...    ...    ...     ...          ...          ...   \n",
       "1093997         3      1  White       0  3478.972900  3628.106445   \n",
       "1094000         3      1  White       0  3579.145508  3732.573486   \n",
       "1094001         3      0  White       0  3903.038086  3727.535156   \n",
       "1094013         3      1  Black       0  4139.242188  4073.992920   \n",
       "1094014         3      1  Black       0  3751.460449  3893.010010   \n",
       "\n",
       "                                                   GROUPS O64  \n",
       "145392   Education/Health Care/Social and Public Services   0  \n",
       "145393   Education/Health Care/Social and Public Services   0  \n",
       "145394   Education/Health Care/Social and Public Services   0  \n",
       "145395                                            Retiree   1  \n",
       "145396                                            Retiree   1  \n",
       "...                                                   ...  ..  \n",
       "1093997                                           Retiree   1  \n",
       "1094000                                           Retiree   1  \n",
       "1094001                                        Other NILF   0  \n",
       "1094013  Education/Health Care/Social and Public Services   0  \n",
       "1094014                                           Retiree   1  \n",
       "\n",
       "[9473 rows x 17 columns]"
      ]
     },
     "execution_count": 35,
     "metadata": {},
     "output_type": "execute_result"
    }
   ],
   "source": [
    "df"
   ]
  },
  {
   "cell_type": "code",
   "execution_count": null,
   "metadata": {},
   "outputs": [],
   "source": []
  },
  {
   "cell_type": "code",
   "execution_count": null,
   "metadata": {},
   "outputs": [],
   "source": []
  },
  {
   "cell_type": "code",
   "execution_count": null,
   "metadata": {},
   "outputs": [],
   "source": []
  },
  {
   "cell_type": "code",
   "execution_count": null,
   "metadata": {
    "ExecuteTime": {
     "end_time": "2021-01-04T04:11:13.334206Z",
     "start_time": "2021-01-04T04:11:13.330477Z"
    }
   },
   "outputs": [],
   "source": [
    "pd.to_datetime([f'{year}-{month}-01' for year, month in res.index])"
   ]
  },
  {
   "cell_type": "code",
   "execution_count": null,
   "metadata": {
    "ExecuteTime": {
     "end_time": "2021-01-04T04:11:05.372595Z",
     "start_time": "2021-01-04T04:11:05.368211Z"
    }
   },
   "outputs": [],
   "source": [
    "[f'{year}-{month}-01' for year, month in res.index]"
   ]
  },
  {
   "cell_type": "code",
   "execution_count": null,
   "metadata": {
    "ExecuteTime": {
     "end_time": "2021-01-04T04:08:03.473146Z",
     "start_time": "2021-01-04T04:08:03.468892Z"
    }
   },
   "outputs": [],
   "source": []
  },
  {
   "cell_type": "code",
   "execution_count": null,
   "metadata": {},
   "outputs": [],
   "source": []
  },
  {
   "cell_type": "code",
   "execution_count": null,
   "metadata": {},
   "outputs": [],
   "source": []
  },
  {
   "cell_type": "code",
   "execution_count": null,
   "metadata": {},
   "outputs": [],
   "source": []
  },
  {
   "cell_type": "code",
   "execution_count": null,
   "metadata": {},
   "outputs": [],
   "source": [
    "pd.concat([(pd.read_feather(f'cps{year}.ft', columns=columns)\n",
    "              .assign(GROUPS = groups)) \n",
    "           for year in range(2004, 2021)])"
   ]
  },
  {
   "cell_type": "code",
   "execution_count": null,
   "metadata": {},
   "outputs": [],
   "source": [
    "groups = (lambda x: pd.Categorical(\n",
    "    np.where(((x.LFS == 'Unemployed') | (x.NILFREASON == 'Discouraged') | (x.PTECON == 1)), \n",
    "             'Unemployed',\n",
    "    np.where(x.LFS == 'Employed', 'Employed', 'NILF'))))"
   ]
  },
  {
   "cell_type": "code",
   "execution_count": null,
   "metadata": {},
   "outputs": [],
   "source": [
    "GTCBSASZ"
   ]
  },
  {
   "cell_type": "code",
   "execution_count": null,
   "metadata": {},
   "outputs": [],
   "source": []
  },
  {
   "cell_type": "code",
   "execution_count": null,
   "metadata": {},
   "outputs": [],
   "source": []
  },
  {
   "cell_type": "code",
   "execution_count": null,
   "metadata": {},
   "outputs": [],
   "source": []
  },
  {
   "cell_type": "code",
   "execution_count": null,
   "metadata": {},
   "outputs": [],
   "source": []
  },
  {
   "cell_type": "code",
   "execution_count": null,
   "metadata": {},
   "outputs": [],
   "source": []
  },
  {
   "cell_type": "code",
   "execution_count": null,
   "metadata": {},
   "outputs": [],
   "source": []
  },
  {
   "cell_type": "code",
   "execution_count": null,
   "metadata": {},
   "outputs": [],
   "source": []
  },
  {
   "cell_type": "code",
   "execution_count": null,
   "metadata": {},
   "outputs": [],
   "source": []
  },
  {
   "cell_type": "code",
   "execution_count": null,
   "metadata": {},
   "outputs": [],
   "source": []
  },
  {
   "cell_type": "code",
   "execution_count": null,
   "metadata": {
    "ExecuteTime": {
     "end_time": "2021-01-03T15:41:11.434924Z",
     "start_time": "2021-01-03T15:41:11.182013Z"
    }
   },
   "outputs": [],
   "source": [
    "df = pd.read_feather('cps2020.ft').query('CBSA == 41540 and MONTH in [9, 10, 11]')\n",
    "(df.groupby('COW1').PWSSWGT.sum() / df.PWSSWGT.sum()) * 100"
   ]
  },
  {
   "cell_type": "code",
   "execution_count": null,
   "metadata": {
    "ExecuteTime": {
     "end_time": "2021-01-03T15:41:22.702679Z",
     "start_time": "2021-01-03T15:41:22.400963Z"
    }
   },
   "outputs": [],
   "source": [
    "df = pd.read_feather('cps2019.ft').query('CBSA == 41540 and MONTH in [9, 10, 11]')\n",
    "(df.groupby('COW1').PWSSWGT.sum() / df.PWSSWGT.sum()) * 100"
   ]
  },
  {
   "cell_type": "code",
   "execution_count": null,
   "metadata": {},
   "outputs": [],
   "source": []
  },
  {
   "cell_type": "code",
   "execution_count": null,
   "metadata": {
    "ExecuteTime": {
     "end_time": "2021-01-03T19:01:20.917268Z",
     "start_time": "2021-01-03T19:01:20.128813Z"
    }
   },
   "outputs": [],
   "source": [
    "df = pd.read_feather('cps2020.ft').query('CBSA == 41540 and MONTH  not in [1, 2, 3, 12]')\n",
    "res20 = (df.groupby('INDD').PWSSWGT.sum() / df.PWSSWGT.sum()) * 100\n",
    "df = pd.read_feather('cps2019.ft').query('CBSA == 41540 and MONTH not in [1, 2, 3, 12]')\n",
    "res19 = (df.groupby('INDD').PWSSWGT.sum() / df.PWSSWGT.sum()) * 100\n",
    "df = pd.read_feather('cps2018.ft').query('CBSA == 41540 and MONTH not in [1, 2, 3, 12]')\n",
    "res18 = (df.groupby('INDD').PWSSWGT.sum() / df.PWSSWGT.sum()) * 100"
   ]
  },
  {
   "cell_type": "code",
   "execution_count": null,
   "metadata": {
    "ExecuteTime": {
     "end_time": "2021-01-03T19:01:38.839414Z",
     "start_time": "2021-01-03T19:01:38.832636Z"
    }
   },
   "outputs": [],
   "source": [
    "res19 - res18"
   ]
  },
  {
   "cell_type": "code",
   "execution_count": null,
   "metadata": {},
   "outputs": [],
   "source": []
  },
  {
   "cell_type": "code",
   "execution_count": null,
   "metadata": {
    "ExecuteTime": {
     "end_time": "2021-01-03T19:37:21.333192Z",
     "start_time": "2021-01-03T19:37:21.330333Z"
    }
   },
   "outputs": [],
   "source": [
    "agr = [1, 2]\n",
    "cons = [4, 47]\n",
    "mm = [5, 6, 7, 8, 9, 10, 11, 12, 13, 14, 15, 16, 17, 18, 19, 20, 3]\n",
    "ttu = [21, 23, 24]\n",
    "rec = [22, 45, 46]\n",
    "fire = [32, 33, 34, 35]\n",
    "edh = [40, 41, 42, 43, 51]\n",
    "inf = [25, 26, 27, 28, 29, 30, 31]\n",
    "mgt = [36, 37, 38]"
   ]
  },
  {
   "cell_type": "code",
   "execution_count": null,
   "metadata": {
    "ExecuteTime": {
     "end_time": "2021-01-03T19:43:21.717063Z",
     "start_time": "2021-01-03T19:43:21.713164Z"
    }
   },
   "outputs": [],
   "source": [
    "groups = (lambda x: pd.Categorical(\n",
    "    np.where(((x.LFS == 'Unemployed') | (x.NILFREASON == 'Discouraged')), \n",
    "             'Unemployed',\n",
    "    np.where(((x.NILFREASON == 'Retired') | ((x.AGE >= 65) & (x.LFS == 'NILF'))), \n",
    "             'Retiree',\n",
    "    np.where(((x.NILFREASON == 'School') | (x.AGE < 18)), \n",
    "             'Students/Children',\n",
    "    np.where(x.NILFREASON == 'Family', 'Caregiver',\n",
    "    np.where(x.LFS == 'NILF', 'Other NILF',\n",
    "    np.where(x.INDD.isin(agr), 'Farming/Fishing/Livestock',\n",
    "    np.where(x.INDD.isin(cons), 'Construction, Repair, and Maintenance',\n",
    "    np.where(x.INDD.isin(mm), 'Manufacturing and Mining',\n",
    "    np.where(x.INDD.isin(ttu), 'Wholesale trade, transportation, warehousing, and utilities',\n",
    "    np.where(x.INDD.isin(rec), 'Retail trade, food and dining, hospitality, and recreation',\n",
    "    np.where(x.INDD.isin(fire), 'Finance, insurance, real estate',\n",
    "    np.where(x.INDD.isin(inf), 'Publishing/Broadcasting/Internet/Information',\n",
    "    np.where(x.INDD.isin(edh), 'Education/Health Care/Social and Public Services',\n",
    "    np.where(x.INDD.isin(mgt), 'Business, Professional, and Technical Services', 'Other'))))))))))))))))"
   ]
  },
  {
   "cell_type": "code",
   "execution_count": null,
   "metadata": {},
   "outputs": [],
   "source": []
  },
  {
   "cell_type": "code",
   "execution_count": null,
   "metadata": {},
   "outputs": [],
   "source": []
  },
  {
   "cell_type": "code",
   "execution_count": null,
   "metadata": {
    "ExecuteTime": {
     "end_time": "2021-01-03T21:39:45.625667Z",
     "start_time": "2021-01-03T21:39:45.032585Z"
    }
   },
   "outputs": [],
   "source": [
    "df = (pd.read_feather('cps2020.ft')\n",
    "        .query('CBSA == 41540 and MONTH in [6, 7, 8, 9, 10, 11] and AGE >= 18 and AGE <= 64 and LFS == \"Employed\"')\n",
    "        .assign(GROUPS = groups))\n",
    "\n",
    "d20 = (df.groupby('IND').PWSSWGT.sum() / df.PWSSWGT.sum()) * 100\n",
    "\n",
    "df = (pd.read_feather('cps2019.ft')\n",
    "        .query('CBSA == 41540 and MONTH in [6, 7, 8, 9, 10, 11] and AGE >= 18 and AGE <= 64 and LFS == \"Employed\"')\n",
    "        .assign(GROUPS = groups))\n",
    "\n",
    "d19 = (df.groupby('IND').PWSSWGT.sum() / df.PWSSWGT.sum()) * 100"
   ]
  },
  {
   "cell_type": "code",
   "execution_count": null,
   "metadata": {},
   "outputs": [],
   "source": []
  },
  {
   "cell_type": "code",
   "execution_count": null,
   "metadata": {},
   "outputs": [],
   "source": []
  },
  {
   "cell_type": "code",
   "execution_count": null,
   "metadata": {
    "ExecuteTime": {
     "end_time": "2021-01-03T21:40:03.586463Z",
     "start_time": "2021-01-03T21:40:03.567313Z"
    }
   },
   "outputs": [],
   "source": [
    "(d20 - d19).dropna().sort_values()"
   ]
  },
  {
   "cell_type": "code",
   "execution_count": null,
   "metadata": {},
   "outputs": [],
   "source": []
  },
  {
   "cell_type": "code",
   "execution_count": null,
   "metadata": {
    "ExecuteTime": {
     "end_time": "2021-01-03T21:23:41.583705Z",
     "start_time": "2021-01-03T21:23:41.572017Z"
    }
   },
   "outputs": [],
   "source": [
    "d19"
   ]
  },
  {
   "cell_type": "code",
   "execution_count": null,
   "metadata": {
    "ExecuteTime": {
     "end_time": "2021-01-03T21:23:43.996313Z",
     "start_time": "2021-01-03T21:23:43.984480Z"
    }
   },
   "outputs": [],
   "source": [
    "d20"
   ]
  },
  {
   "cell_type": "code",
   "execution_count": null,
   "metadata": {
    "ExecuteTime": {
     "end_time": "2021-01-03T19:56:59.771255Z",
     "start_time": "2021-01-03T19:56:59.763541Z"
    }
   },
   "outputs": [],
   "source": [
    "d20 = (df.groupby('GROUPS').PWSSWGT.sum() / df.PWSSWGT.sum()) * 100"
   ]
  },
  {
   "cell_type": "code",
   "execution_count": null,
   "metadata": {
    "ExecuteTime": {
     "end_time": "2021-01-03T19:51:09.694992Z",
     "start_time": "2021-01-03T19:51:09.692508Z"
    }
   },
   "outputs": [],
   "source": [
    "df.groupby(['MONTH'].PWSSWGT.sum().mean()"
   ]
  },
  {
   "cell_type": "code",
   "execution_count": null,
   "metadata": {
    "ExecuteTime": {
     "end_time": "2021-01-03T19:50:05.851206Z",
     "start_time": "2021-01-03T19:50:05.831836Z"
    }
   },
   "outputs": [],
   "source": [
    "df.groupby(['MONTH', 'GROUPS']).PWSSWGT.sum().mean(level=1)"
   ]
  }
 ],
 "metadata": {
  "kernelspec": {
   "display_name": "Python 3",
   "language": "python",
   "name": "python3"
  },
  "language_info": {
   "codemirror_mode": {
    "name": "ipython",
    "version": 3
   },
   "file_extension": ".py",
   "mimetype": "text/x-python",
   "name": "python",
   "nbconvert_exporter": "python",
   "pygments_lexer": "ipython3",
   "version": "3.8.6"
  }
 },
 "nbformat": 4,
 "nbformat_minor": 4
}
