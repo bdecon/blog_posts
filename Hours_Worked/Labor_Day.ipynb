{
 "cells": [
  {
   "cell_type": "code",
   "execution_count": null,
   "id": "f0d5ed60",
   "metadata": {},
   "outputs": [],
   "source": []
  },
  {
   "cell_type": "code",
   "execution_count": 1,
   "id": "3752dfeb",
   "metadata": {
    "ExecuteTime": {
     "end_time": "2023-12-17T16:36:39.157349Z",
     "start_time": "2023-12-17T16:36:38.681732Z"
    }
   },
   "outputs": [],
   "source": [
    "# Import preliminaries\n",
    "%config Completer.use_jedi = False\n",
    "import pandas as pd\n",
    "import numpy as np\n",
    "import matplotlib.pyplot as plt\n",
    "plt.rc('axes', edgecolor='lightgray')\n",
    "plt.rc('ytick',labelsize=8)\n",
    "plt.rc('xtick',labelsize=8)\n",
    "plt.rc('legend',fontsize=8)\n",
    "import itertools, os\n",
    "from pathlib import Path\n",
    "\n",
    "# bd CPS files\n",
    "cps_dir = Path('/home/brian/Documents/CPS/data/clean/')"
   ]
  },
  {
   "cell_type": "code",
   "execution_count": 93,
   "id": "89a77387",
   "metadata": {
    "ExecuteTime": {
     "end_time": "2023-12-17T17:47:05.875283Z",
     "start_time": "2023-12-17T17:47:05.642352Z"
    }
   },
   "outputs": [],
   "source": [
    "# Collect CPS data\n",
    "cols = ['YEAR', 'MONTH', 'PWORWGT', 'HRSACTT', 'UNION', 'LFS', 'ABSTYPE', 'INDGRP']\n",
    "    \n",
    "df = pd.concat([pd.read_feather(cps_dir / f'cps{year}.ft', columns=cols)\n",
    "                  .query('LFS == \"Employed\" and PWORWGT > 0 and MONTH == 9 and UNION in [0, 1]')\n",
    "                 for year in [1998, 2009, 2015, 2020]])\n",
    "df['IND'] = df['INDGRP']\n",
    "df['IND'] = (df['IND'].str.replace('Leisure and hospitality', 'LHTTU')\n",
    "                      .str.replace('Trade, transportation, and utilities', 'LHTTU'))\n",
    "\n",
    "# Union-Job-adjusted weight\n",
    "dates = ['YEAR']\n",
    "dems = ['UNION']\n",
    "wgt = 'PWORWGT'\n",
    "\n",
    "p = df.groupby(dates + dems)[wgt].sum().rename('ADJ')\n",
    "sh = (p / p.groupby(dates).sum()).dropna()\n",
    "adj = (sh.loc[1998] / sh).reset_index()\n",
    "data = (pd.merge(df, adj)\n",
    "          .assign(ADJWGT = lambda x: x.ADJ * x[wgt]))"
   ]
  },
  {
   "cell_type": "code",
   "execution_count": 87,
   "id": "51a7ed6d",
   "metadata": {
    "ExecuteTime": {
     "end_time": "2023-12-17T17:44:34.914604Z",
     "start_time": "2023-12-17T17:44:34.890886Z"
    }
   },
   "outputs": [
    {
     "data": {
      "text/html": [
       "<div>\n",
       "<style scoped>\n",
       "    .dataframe tbody tr th:only-of-type {\n",
       "        vertical-align: middle;\n",
       "    }\n",
       "\n",
       "    .dataframe tbody tr th {\n",
       "        vertical-align: top;\n",
       "    }\n",
       "\n",
       "    .dataframe thead th {\n",
       "        text-align: right;\n",
       "    }\n",
       "</style>\n",
       "<table border=\"1\" class=\"dataframe\">\n",
       "  <thead>\n",
       "    <tr style=\"text-align: right;\">\n",
       "      <th></th>\n",
       "      <th>YEAR</th>\n",
       "      <th>MONTH</th>\n",
       "      <th>PWORWGT</th>\n",
       "      <th>HRSACTT</th>\n",
       "      <th>UNION</th>\n",
       "      <th>LFS</th>\n",
       "      <th>ABSTYPE</th>\n",
       "      <th>INDGRP</th>\n",
       "      <th>IND</th>\n",
       "      <th>ADJ</th>\n",
       "      <th>ADJWGT</th>\n",
       "    </tr>\n",
       "  </thead>\n",
       "  <tbody>\n",
       "    <tr>\n",
       "      <th>0</th>\n",
       "      <td>1998</td>\n",
       "      <td>9</td>\n",
       "      <td>10605.679688</td>\n",
       "      <td>32</td>\n",
       "      <td>0</td>\n",
       "      <td>Employed</td>\n",
       "      <td>Holiday</td>\n",
       "      <td>Finance and business services</td>\n",
       "      <td>Finance and business services</td>\n",
       "      <td>1.000000</td>\n",
       "      <td>10605.679688</td>\n",
       "    </tr>\n",
       "    <tr>\n",
       "      <th>1</th>\n",
       "      <td>1998</td>\n",
       "      <td>9</td>\n",
       "      <td>11912.382812</td>\n",
       "      <td>36</td>\n",
       "      <td>0</td>\n",
       "      <td>Employed</td>\n",
       "      <td>NaN</td>\n",
       "      <td>Finance and business services</td>\n",
       "      <td>Finance and business services</td>\n",
       "      <td>1.000000</td>\n",
       "      <td>11912.382812</td>\n",
       "    </tr>\n",
       "    <tr>\n",
       "      <th>2</th>\n",
       "      <td>1998</td>\n",
       "      <td>9</td>\n",
       "      <td>13180.021484</td>\n",
       "      <td>18</td>\n",
       "      <td>0</td>\n",
       "      <td>Employed</td>\n",
       "      <td>NaN</td>\n",
       "      <td>Finance and business services</td>\n",
       "      <td>Finance and business services</td>\n",
       "      <td>1.000000</td>\n",
       "      <td>13180.021484</td>\n",
       "    </tr>\n",
       "    <tr>\n",
       "      <th>3</th>\n",
       "      <td>1998</td>\n",
       "      <td>9</td>\n",
       "      <td>8762.027344</td>\n",
       "      <td>32</td>\n",
       "      <td>0</td>\n",
       "      <td>Employed</td>\n",
       "      <td>Holiday</td>\n",
       "      <td>Finance and business services</td>\n",
       "      <td>Finance and business services</td>\n",
       "      <td>1.000000</td>\n",
       "      <td>8762.027344</td>\n",
       "    </tr>\n",
       "    <tr>\n",
       "      <th>4</th>\n",
       "      <td>1998</td>\n",
       "      <td>9</td>\n",
       "      <td>10687.655273</td>\n",
       "      <td>32</td>\n",
       "      <td>0</td>\n",
       "      <td>Employed</td>\n",
       "      <td>Holiday</td>\n",
       "      <td>Finance and business services</td>\n",
       "      <td>Finance and business services</td>\n",
       "      <td>1.000000</td>\n",
       "      <td>10687.655273</td>\n",
       "    </tr>\n",
       "    <tr>\n",
       "      <th>...</th>\n",
       "      <td>...</td>\n",
       "      <td>...</td>\n",
       "      <td>...</td>\n",
       "      <td>...</td>\n",
       "      <td>...</td>\n",
       "      <td>...</td>\n",
       "      <td>...</td>\n",
       "      <td>...</td>\n",
       "      <td>...</td>\n",
       "      <td>...</td>\n",
       "      <td>...</td>\n",
       "    </tr>\n",
       "    <tr>\n",
       "      <th>51810</th>\n",
       "      <td>2020</td>\n",
       "      <td>9</td>\n",
       "      <td>15561.403320</td>\n",
       "      <td>40</td>\n",
       "      <td>1</td>\n",
       "      <td>Employed</td>\n",
       "      <td>NaN</td>\n",
       "      <td>Manufacturing</td>\n",
       "      <td>Manufacturing</td>\n",
       "      <td>2.630992</td>\n",
       "      <td>40941.929688</td>\n",
       "    </tr>\n",
       "    <tr>\n",
       "      <th>51811</th>\n",
       "      <td>2020</td>\n",
       "      <td>9</td>\n",
       "      <td>14002.993164</td>\n",
       "      <td>40</td>\n",
       "      <td>1</td>\n",
       "      <td>Employed</td>\n",
       "      <td>NaN</td>\n",
       "      <td>Manufacturing</td>\n",
       "      <td>Manufacturing</td>\n",
       "      <td>2.630992</td>\n",
       "      <td>36841.765625</td>\n",
       "    </tr>\n",
       "    <tr>\n",
       "      <th>51812</th>\n",
       "      <td>2020</td>\n",
       "      <td>9</td>\n",
       "      <td>15341.280273</td>\n",
       "      <td>32</td>\n",
       "      <td>1</td>\n",
       "      <td>Employed</td>\n",
       "      <td>Holiday</td>\n",
       "      <td>Manufacturing</td>\n",
       "      <td>Manufacturing</td>\n",
       "      <td>2.630992</td>\n",
       "      <td>40362.789062</td>\n",
       "    </tr>\n",
       "    <tr>\n",
       "      <th>51813</th>\n",
       "      <td>2020</td>\n",
       "      <td>9</td>\n",
       "      <td>17979.509766</td>\n",
       "      <td>32</td>\n",
       "      <td>1</td>\n",
       "      <td>Employed</td>\n",
       "      <td>Holiday</td>\n",
       "      <td>Manufacturing</td>\n",
       "      <td>Manufacturing</td>\n",
       "      <td>2.630992</td>\n",
       "      <td>47303.949219</td>\n",
       "    </tr>\n",
       "    <tr>\n",
       "      <th>51814</th>\n",
       "      <td>2020</td>\n",
       "      <td>9</td>\n",
       "      <td>14314.771484</td>\n",
       "      <td>48</td>\n",
       "      <td>1</td>\n",
       "      <td>Employed</td>\n",
       "      <td>NaN</td>\n",
       "      <td>Manufacturing</td>\n",
       "      <td>Manufacturing</td>\n",
       "      <td>2.630992</td>\n",
       "      <td>37662.050781</td>\n",
       "    </tr>\n",
       "  </tbody>\n",
       "</table>\n",
       "<p>51815 rows × 11 columns</p>\n",
       "</div>"
      ],
      "text/plain": [
       "       YEAR  MONTH       PWORWGT  HRSACTT  UNION       LFS  ABSTYPE  \\\n",
       "0      1998      9  10605.679688       32      0  Employed  Holiday   \n",
       "1      1998      9  11912.382812       36      0  Employed      NaN   \n",
       "2      1998      9  13180.021484       18      0  Employed      NaN   \n",
       "3      1998      9   8762.027344       32      0  Employed  Holiday   \n",
       "4      1998      9  10687.655273       32      0  Employed  Holiday   \n",
       "...     ...    ...           ...      ...    ...       ...      ...   \n",
       "51810  2020      9  15561.403320       40      1  Employed      NaN   \n",
       "51811  2020      9  14002.993164       40      1  Employed      NaN   \n",
       "51812  2020      9  15341.280273       32      1  Employed  Holiday   \n",
       "51813  2020      9  17979.509766       32      1  Employed  Holiday   \n",
       "51814  2020      9  14314.771484       48      1  Employed      NaN   \n",
       "\n",
       "                              INDGRP                            IND       ADJ  \\\n",
       "0      Finance and business services  Finance and business services  1.000000   \n",
       "1      Finance and business services  Finance and business services  1.000000   \n",
       "2      Finance and business services  Finance and business services  1.000000   \n",
       "3      Finance and business services  Finance and business services  1.000000   \n",
       "4      Finance and business services  Finance and business services  1.000000   \n",
       "...                              ...                            ...       ...   \n",
       "51810                  Manufacturing                  Manufacturing  2.630992   \n",
       "51811                  Manufacturing                  Manufacturing  2.630992   \n",
       "51812                  Manufacturing                  Manufacturing  2.630992   \n",
       "51813                  Manufacturing                  Manufacturing  2.630992   \n",
       "51814                  Manufacturing                  Manufacturing  2.630992   \n",
       "\n",
       "             ADJWGT  \n",
       "0      10605.679688  \n",
       "1      11912.382812  \n",
       "2      13180.021484  \n",
       "3       8762.027344  \n",
       "4      10687.655273  \n",
       "...             ...  \n",
       "51810  40941.929688  \n",
       "51811  36841.765625  \n",
       "51812  40362.789062  \n",
       "51813  47303.949219  \n",
       "51814  37662.050781  \n",
       "\n",
       "[51815 rows x 11 columns]"
      ]
     },
     "execution_count": 87,
     "metadata": {},
     "output_type": "execute_result"
    }
   ],
   "source": [
    "data"
   ]
  },
  {
   "cell_type": "code",
   "execution_count": 88,
   "id": "9079405b",
   "metadata": {
    "ExecuteTime": {
     "end_time": "2023-12-17T17:44:59.658071Z",
     "start_time": "2023-12-17T17:44:59.632886Z"
    }
   },
   "outputs": [
    {
     "data": {
      "text/html": [
       "<div>\n",
       "<style scoped>\n",
       "    .dataframe tbody tr th:only-of-type {\n",
       "        vertical-align: middle;\n",
       "    }\n",
       "\n",
       "    .dataframe tbody tr th {\n",
       "        vertical-align: top;\n",
       "    }\n",
       "\n",
       "    .dataframe thead th {\n",
       "        text-align: right;\n",
       "    }\n",
       "</style>\n",
       "<table border=\"1\" class=\"dataframe\">\n",
       "  <thead>\n",
       "    <tr style=\"text-align: right;\">\n",
       "      <th></th>\n",
       "      <th>UNION</th>\n",
       "      <th>IND</th>\n",
       "      <th>YEAR</th>\n",
       "      <th>ADJ</th>\n",
       "    </tr>\n",
       "  </thead>\n",
       "  <tbody>\n",
       "    <tr>\n",
       "      <th>0</th>\n",
       "      <td>0</td>\n",
       "      <td>Construction and mining</td>\n",
       "      <td>1998</td>\n",
       "      <td>1.000000</td>\n",
       "    </tr>\n",
       "    <tr>\n",
       "      <th>1</th>\n",
       "      <td>0</td>\n",
       "      <td>Construction and mining</td>\n",
       "      <td>2009</td>\n",
       "      <td>0.900867</td>\n",
       "    </tr>\n",
       "    <tr>\n",
       "      <th>2</th>\n",
       "      <td>0</td>\n",
       "      <td>Construction and mining</td>\n",
       "      <td>2015</td>\n",
       "      <td>0.927118</td>\n",
       "    </tr>\n",
       "    <tr>\n",
       "      <th>3</th>\n",
       "      <td>0</td>\n",
       "      <td>Construction and mining</td>\n",
       "      <td>2020</td>\n",
       "      <td>0.864293</td>\n",
       "    </tr>\n",
       "    <tr>\n",
       "      <th>4</th>\n",
       "      <td>0</td>\n",
       "      <td>Education and health</td>\n",
       "      <td>1998</td>\n",
       "      <td>1.000000</td>\n",
       "    </tr>\n",
       "    <tr>\n",
       "      <th>5</th>\n",
       "      <td>0</td>\n",
       "      <td>Education and health</td>\n",
       "      <td>2009</td>\n",
       "      <td>0.831483</td>\n",
       "    </tr>\n",
       "    <tr>\n",
       "      <th>6</th>\n",
       "      <td>0</td>\n",
       "      <td>Education and health</td>\n",
       "      <td>2015</td>\n",
       "      <td>0.816922</td>\n",
       "    </tr>\n",
       "    <tr>\n",
       "      <th>7</th>\n",
       "      <td>0</td>\n",
       "      <td>Education and health</td>\n",
       "      <td>2020</td>\n",
       "      <td>0.760976</td>\n",
       "    </tr>\n",
       "    <tr>\n",
       "      <th>8</th>\n",
       "      <td>0</td>\n",
       "      <td>Finance and business services</td>\n",
       "      <td>1998</td>\n",
       "      <td>1.000000</td>\n",
       "    </tr>\n",
       "    <tr>\n",
       "      <th>9</th>\n",
       "      <td>0</td>\n",
       "      <td>Finance and business services</td>\n",
       "      <td>2009</td>\n",
       "      <td>0.900445</td>\n",
       "    </tr>\n",
       "    <tr>\n",
       "      <th>10</th>\n",
       "      <td>0</td>\n",
       "      <td>Finance and business services</td>\n",
       "      <td>2015</td>\n",
       "      <td>0.890983</td>\n",
       "    </tr>\n",
       "    <tr>\n",
       "      <th>11</th>\n",
       "      <td>0</td>\n",
       "      <td>Finance and business services</td>\n",
       "      <td>2020</td>\n",
       "      <td>0.876520</td>\n",
       "    </tr>\n",
       "    <tr>\n",
       "      <th>12</th>\n",
       "      <td>0</td>\n",
       "      <td>LHTTU</td>\n",
       "      <td>1998</td>\n",
       "      <td>1.000000</td>\n",
       "    </tr>\n",
       "    <tr>\n",
       "      <th>13</th>\n",
       "      <td>0</td>\n",
       "      <td>LHTTU</td>\n",
       "      <td>2009</td>\n",
       "      <td>0.991851</td>\n",
       "    </tr>\n",
       "    <tr>\n",
       "      <th>14</th>\n",
       "      <td>0</td>\n",
       "      <td>LHTTU</td>\n",
       "      <td>2015</td>\n",
       "      <td>0.969231</td>\n",
       "    </tr>\n",
       "    <tr>\n",
       "      <th>15</th>\n",
       "      <td>0</td>\n",
       "      <td>LHTTU</td>\n",
       "      <td>2020</td>\n",
       "      <td>1.049325</td>\n",
       "    </tr>\n",
       "    <tr>\n",
       "      <th>16</th>\n",
       "      <td>0</td>\n",
       "      <td>Manufacturing</td>\n",
       "      <td>1998</td>\n",
       "      <td>1.000000</td>\n",
       "    </tr>\n",
       "    <tr>\n",
       "      <th>17</th>\n",
       "      <td>0</td>\n",
       "      <td>Manufacturing</td>\n",
       "      <td>2009</td>\n",
       "      <td>1.461749</td>\n",
       "    </tr>\n",
       "    <tr>\n",
       "      <th>18</th>\n",
       "      <td>0</td>\n",
       "      <td>Manufacturing</td>\n",
       "      <td>2015</td>\n",
       "      <td>1.401794</td>\n",
       "    </tr>\n",
       "    <tr>\n",
       "      <th>19</th>\n",
       "      <td>0</td>\n",
       "      <td>Manufacturing</td>\n",
       "      <td>2020</td>\n",
       "      <td>1.503036</td>\n",
       "    </tr>\n",
       "    <tr>\n",
       "      <th>20</th>\n",
       "      <td>0</td>\n",
       "      <td>Public administration</td>\n",
       "      <td>1998</td>\n",
       "      <td>1.000000</td>\n",
       "    </tr>\n",
       "    <tr>\n",
       "      <th>21</th>\n",
       "      <td>0</td>\n",
       "      <td>Public administration</td>\n",
       "      <td>2009</td>\n",
       "      <td>0.859565</td>\n",
       "    </tr>\n",
       "    <tr>\n",
       "      <th>22</th>\n",
       "      <td>0</td>\n",
       "      <td>Public administration</td>\n",
       "      <td>2015</td>\n",
       "      <td>0.802101</td>\n",
       "    </tr>\n",
       "    <tr>\n",
       "      <th>23</th>\n",
       "      <td>0</td>\n",
       "      <td>Public administration</td>\n",
       "      <td>2020</td>\n",
       "      <td>0.799322</td>\n",
       "    </tr>\n",
       "    <tr>\n",
       "      <th>24</th>\n",
       "      <td>1</td>\n",
       "      <td>Construction and mining</td>\n",
       "      <td>1998</td>\n",
       "      <td>1.000000</td>\n",
       "    </tr>\n",
       "    <tr>\n",
       "      <th>25</th>\n",
       "      <td>1</td>\n",
       "      <td>Construction and mining</td>\n",
       "      <td>2009</td>\n",
       "      <td>1.673832</td>\n",
       "    </tr>\n",
       "    <tr>\n",
       "      <th>26</th>\n",
       "      <td>1</td>\n",
       "      <td>Construction and mining</td>\n",
       "      <td>2015</td>\n",
       "      <td>1.803121</td>\n",
       "    </tr>\n",
       "    <tr>\n",
       "      <th>27</th>\n",
       "      <td>1</td>\n",
       "      <td>Construction and mining</td>\n",
       "      <td>2020</td>\n",
       "      <td>1.281995</td>\n",
       "    </tr>\n",
       "    <tr>\n",
       "      <th>28</th>\n",
       "      <td>1</td>\n",
       "      <td>Education and health</td>\n",
       "      <td>1998</td>\n",
       "      <td>1.000000</td>\n",
       "    </tr>\n",
       "    <tr>\n",
       "      <th>29</th>\n",
       "      <td>1</td>\n",
       "      <td>Education and health</td>\n",
       "      <td>2009</td>\n",
       "      <td>0.959320</td>\n",
       "    </tr>\n",
       "    <tr>\n",
       "      <th>30</th>\n",
       "      <td>1</td>\n",
       "      <td>Education and health</td>\n",
       "      <td>2015</td>\n",
       "      <td>0.993873</td>\n",
       "    </tr>\n",
       "    <tr>\n",
       "      <th>31</th>\n",
       "      <td>1</td>\n",
       "      <td>Education and health</td>\n",
       "      <td>2020</td>\n",
       "      <td>0.962183</td>\n",
       "    </tr>\n",
       "    <tr>\n",
       "      <th>32</th>\n",
       "      <td>1</td>\n",
       "      <td>Finance and business services</td>\n",
       "      <td>1998</td>\n",
       "      <td>1.000000</td>\n",
       "    </tr>\n",
       "    <tr>\n",
       "      <th>33</th>\n",
       "      <td>1</td>\n",
       "      <td>Finance and business services</td>\n",
       "      <td>2009</td>\n",
       "      <td>1.031643</td>\n",
       "    </tr>\n",
       "    <tr>\n",
       "      <th>34</th>\n",
       "      <td>1</td>\n",
       "      <td>Finance and business services</td>\n",
       "      <td>2015</td>\n",
       "      <td>1.072610</td>\n",
       "    </tr>\n",
       "    <tr>\n",
       "      <th>35</th>\n",
       "      <td>1</td>\n",
       "      <td>Finance and business services</td>\n",
       "      <td>2020</td>\n",
       "      <td>1.028873</td>\n",
       "    </tr>\n",
       "    <tr>\n",
       "      <th>36</th>\n",
       "      <td>1</td>\n",
       "      <td>LHTTU</td>\n",
       "      <td>1998</td>\n",
       "      <td>1.000000</td>\n",
       "    </tr>\n",
       "    <tr>\n",
       "      <th>37</th>\n",
       "      <td>1</td>\n",
       "      <td>LHTTU</td>\n",
       "      <td>2009</td>\n",
       "      <td>1.165006</td>\n",
       "    </tr>\n",
       "    <tr>\n",
       "      <th>38</th>\n",
       "      <td>1</td>\n",
       "      <td>LHTTU</td>\n",
       "      <td>2015</td>\n",
       "      <td>1.377811</td>\n",
       "    </tr>\n",
       "    <tr>\n",
       "      <th>39</th>\n",
       "      <td>1</td>\n",
       "      <td>LHTTU</td>\n",
       "      <td>2020</td>\n",
       "      <td>1.537169</td>\n",
       "    </tr>\n",
       "    <tr>\n",
       "      <th>40</th>\n",
       "      <td>1</td>\n",
       "      <td>Manufacturing</td>\n",
       "      <td>1998</td>\n",
       "      <td>1.000000</td>\n",
       "    </tr>\n",
       "    <tr>\n",
       "      <th>41</th>\n",
       "      <td>1</td>\n",
       "      <td>Manufacturing</td>\n",
       "      <td>2009</td>\n",
       "      <td>1.792984</td>\n",
       "    </tr>\n",
       "    <tr>\n",
       "      <th>42</th>\n",
       "      <td>1</td>\n",
       "      <td>Manufacturing</td>\n",
       "      <td>2015</td>\n",
       "      <td>3.331577</td>\n",
       "    </tr>\n",
       "    <tr>\n",
       "      <th>43</th>\n",
       "      <td>1</td>\n",
       "      <td>Manufacturing</td>\n",
       "      <td>2020</td>\n",
       "      <td>2.630992</td>\n",
       "    </tr>\n",
       "    <tr>\n",
       "      <th>44</th>\n",
       "      <td>1</td>\n",
       "      <td>Public administration</td>\n",
       "      <td>1998</td>\n",
       "      <td>1.000000</td>\n",
       "    </tr>\n",
       "    <tr>\n",
       "      <th>45</th>\n",
       "      <td>1</td>\n",
       "      <td>Public administration</td>\n",
       "      <td>2009</td>\n",
       "      <td>1.055298</td>\n",
       "    </tr>\n",
       "    <tr>\n",
       "      <th>46</th>\n",
       "      <td>1</td>\n",
       "      <td>Public administration</td>\n",
       "      <td>2015</td>\n",
       "      <td>1.124791</td>\n",
       "    </tr>\n",
       "    <tr>\n",
       "      <th>47</th>\n",
       "      <td>1</td>\n",
       "      <td>Public administration</td>\n",
       "      <td>2020</td>\n",
       "      <td>1.155223</td>\n",
       "    </tr>\n",
       "  </tbody>\n",
       "</table>\n",
       "</div>"
      ],
      "text/plain": [
       "    UNION                            IND  YEAR       ADJ\n",
       "0       0        Construction and mining  1998  1.000000\n",
       "1       0        Construction and mining  2009  0.900867\n",
       "2       0        Construction and mining  2015  0.927118\n",
       "3       0        Construction and mining  2020  0.864293\n",
       "4       0           Education and health  1998  1.000000\n",
       "5       0           Education and health  2009  0.831483\n",
       "6       0           Education and health  2015  0.816922\n",
       "7       0           Education and health  2020  0.760976\n",
       "8       0  Finance and business services  1998  1.000000\n",
       "9       0  Finance and business services  2009  0.900445\n",
       "10      0  Finance and business services  2015  0.890983\n",
       "11      0  Finance and business services  2020  0.876520\n",
       "12      0                          LHTTU  1998  1.000000\n",
       "13      0                          LHTTU  2009  0.991851\n",
       "14      0                          LHTTU  2015  0.969231\n",
       "15      0                          LHTTU  2020  1.049325\n",
       "16      0                  Manufacturing  1998  1.000000\n",
       "17      0                  Manufacturing  2009  1.461749\n",
       "18      0                  Manufacturing  2015  1.401794\n",
       "19      0                  Manufacturing  2020  1.503036\n",
       "20      0          Public administration  1998  1.000000\n",
       "21      0          Public administration  2009  0.859565\n",
       "22      0          Public administration  2015  0.802101\n",
       "23      0          Public administration  2020  0.799322\n",
       "24      1        Construction and mining  1998  1.000000\n",
       "25      1        Construction and mining  2009  1.673832\n",
       "26      1        Construction and mining  2015  1.803121\n",
       "27      1        Construction and mining  2020  1.281995\n",
       "28      1           Education and health  1998  1.000000\n",
       "29      1           Education and health  2009  0.959320\n",
       "30      1           Education and health  2015  0.993873\n",
       "31      1           Education and health  2020  0.962183\n",
       "32      1  Finance and business services  1998  1.000000\n",
       "33      1  Finance and business services  2009  1.031643\n",
       "34      1  Finance and business services  2015  1.072610\n",
       "35      1  Finance and business services  2020  1.028873\n",
       "36      1                          LHTTU  1998  1.000000\n",
       "37      1                          LHTTU  2009  1.165006\n",
       "38      1                          LHTTU  2015  1.377811\n",
       "39      1                          LHTTU  2020  1.537169\n",
       "40      1                  Manufacturing  1998  1.000000\n",
       "41      1                  Manufacturing  2009  1.792984\n",
       "42      1                  Manufacturing  2015  3.331577\n",
       "43      1                  Manufacturing  2020  2.630992\n",
       "44      1          Public administration  1998  1.000000\n",
       "45      1          Public administration  2009  1.055298\n",
       "46      1          Public administration  2015  1.124791\n",
       "47      1          Public administration  2020  1.155223"
      ]
     },
     "execution_count": 88,
     "metadata": {},
     "output_type": "execute_result"
    }
   ],
   "source": [
    "adj"
   ]
  },
  {
   "cell_type": "code",
   "execution_count": 94,
   "id": "9584b77f",
   "metadata": {
    "ExecuteTime": {
     "end_time": "2023-12-17T17:47:11.925773Z",
     "start_time": "2023-12-17T17:47:11.837209Z"
    }
   },
   "outputs": [
    {
     "data": {
      "text/plain": [
       "<AxesSubplot: xlabel='YEAR'>"
      ]
     },
     "execution_count": 94,
     "metadata": {},
     "output_type": "execute_result"
    },
    {
     "data": {
      "image/png": "[encoded data removed]",
      "text/plain": [
       "<Figure size 640x480 with 1 Axes>"
      ]
     },
     "metadata": {},
     "output_type": "display_data"
    }
   ],
   "source": [
    "res = (data.groupby(['YEAR', 'ABSTYPE']).PWORWGT.sum() / \n",
    "       data.groupby('YEAR').PWORWGT.sum()).unstack()['Holiday'] * 100\n",
    "res.plot(kind='bar')"
   ]
  },
  {
   "cell_type": "code",
   "execution_count": 95,
   "id": "1b27c8df",
   "metadata": {
    "ExecuteTime": {
     "end_time": "2023-12-17T17:47:14.014638Z",
     "start_time": "2023-12-17T17:47:13.907192Z"
    }
   },
   "outputs": [
    {
     "data": {
      "text/plain": [
       "<AxesSubplot: xlabel='YEAR'>"
      ]
     },
     "execution_count": 95,
     "metadata": {},
     "output_type": "execute_result"
    },
    {
     "data": {
      "image/png": "[encoded data removed]",
      "text/plain": [
       "<Figure size 640x480 with 1 Axes>"
      ]
     },
     "metadata": {},
     "output_type": "display_data"
    }
   ],
   "source": [
    "res1 = (data.groupby(['YEAR', 'ABSTYPE']).ADJWGT.sum() / \n",
    "       data.groupby('YEAR').ADJWGT.sum()).unstack()['Holiday'] * 100\n",
    "res1.plot(kind='bar')"
   ]
  },
  {
   "cell_type": "code",
   "execution_count": 96,
   "id": "4a7a9b27",
   "metadata": {
    "ExecuteTime": {
     "end_time": "2023-12-17T17:47:16.021959Z",
     "start_time": "2023-12-17T17:47:15.904635Z"
    }
   },
   "outputs": [
    {
     "data": {
      "text/plain": [
       "<AxesSubplot: xlabel='YEAR'>"
      ]
     },
     "execution_count": 96,
     "metadata": {},
     "output_type": "execute_result"
    },
    {
     "data": {
      "image/png": "[encoded data removed]",
      "text/plain": [
       "<Figure size 640x480 with 1 Axes>"
      ]
     },
     "metadata": {},
     "output_type": "display_data"
    }
   ],
   "source": [
    "(res1 - res).plot(kind='bar')"
   ]
  },
  {
   "cell_type": "code",
   "execution_count": null,
   "id": "5c40eb5c",
   "metadata": {},
   "outputs": [],
   "source": [
    "# Union-Job-adjusted weight\n",
    "dates = ['YEAR']\n",
    "dems = ['UNION', 'IND']\n",
    "wgt = 'PWORWGT'\n",
    "\n",
    "p = df.groupby(dates + dems)[wgt].sum().rename('ADJ')\n",
    "sh = (p / p.groupby(dates).sum()).dropna()\n",
    "adj = (sh.iloc[0] / sh).reset_index()\n",
    "data = (pd.merge(df, adj)\n",
    "          .assign(ADJWGT = lambda x: x.ADJ * x[wgt]))"
   ]
  },
  {
   "cell_type": "code",
   "execution_count": 36,
   "id": "cca23aff",
   "metadata": {
    "ExecuteTime": {
     "end_time": "2023-12-17T17:02:39.610287Z",
     "start_time": "2023-12-17T17:02:36.203487Z"
    }
   },
   "outputs": [],
   "source": [
    "df = pd.concat([pd.read_feather(cps_dir / f'cps{year}.ft', columns=cols)\n",
    "                  .query('LFS == \"Employed\"')\n",
    "                 for year in range(1994, 2024)])\n",
    "\n",
    "# Date from Year, Month\n",
    "df['DATE'] = pd.to_datetime(dict(year=df.YEAR, \n",
    "                                 month=df.MONTH, day=1))"
   ]
  },
  {
   "cell_type": "code",
   "execution_count": 45,
   "id": "2d6289c5",
   "metadata": {
    "ExecuteTime": {
     "end_time": "2023-12-17T17:22:26.739612Z",
     "start_time": "2023-12-17T17:22:24.484656Z"
    }
   },
   "outputs": [
    {
     "data": {
      "text/plain": [
       "<AxesSubplot: xlabel='DATE'>"
      ]
     },
     "execution_count": 45,
     "metadata": {},
     "output_type": "execute_result"
    },
    {
     "data": {
      "image/png": "[encoded data removed]",
      "text/plain": [
       "<Figure size 640x480 with 1 Axes>"
      ]
     },
     "metadata": {},
     "output_type": "display_data"
    }
   ],
   "source": [
    "df.groupby(['DATE', 'IND']).PWORWGT.sum().unstack().plot()"
   ]
  },
  {
   "cell_type": "code",
   "execution_count": 40,
   "id": "04190ad7",
   "metadata": {
    "ExecuteTime": {
     "end_time": "2023-12-17T17:20:06.390828Z",
     "start_time": "2023-12-17T17:20:06.386490Z"
    }
   },
   "outputs": [],
   "source": [
    "df['IND'] = df['INDGRP']"
   ]
  },
  {
   "cell_type": "code",
   "execution_count": 44,
   "id": "4f58d265",
   "metadata": {
    "ExecuteTime": {
     "end_time": "2023-12-17T17:22:07.940794Z",
     "start_time": "2023-12-17T17:22:00.754018Z"
    }
   },
   "outputs": [],
   "source": [
    "df['IND'] = (df['IND'].str.replace('Leisure and hospitality', 'LHTTU')\n",
    "                      .str.replace('Trade, transportation, and utilities', 'LHTTU'))"
   ]
  },
  {
   "cell_type": "code",
   "execution_count": null,
   "id": "05907f01",
   "metadata": {},
   "outputs": [],
   "source": []
  },
  {
   "cell_type": "code",
   "execution_count": null,
   "id": "2d872a77",
   "metadata": {},
   "outputs": [],
   "source": []
  },
  {
   "cell_type": "code",
   "execution_count": null,
   "id": "f86586fe",
   "metadata": {},
   "outputs": [],
   "source": []
  },
  {
   "cell_type": "code",
   "execution_count": null,
   "id": "dd5c5546",
   "metadata": {},
   "outputs": [],
   "source": []
  },
  {
   "cell_type": "code",
   "execution_count": null,
   "id": "82e75a74",
   "metadata": {},
   "outputs": [],
   "source": []
  },
  {
   "cell_type": "code",
   "execution_count": 14,
   "id": "621a8f14",
   "metadata": {
    "ExecuteTime": {
     "end_time": "2023-12-17T16:45:08.178821Z",
     "start_time": "2023-12-17T16:45:08.170281Z"
    }
   },
   "outputs": [],
   "source": [
    "un = df.groupby(['YEAR', 'UNIONMEM']).PWORWGT.sum().unstack()"
   ]
  },
  {
   "cell_type": "code",
   "execution_count": null,
   "id": "d80e4ea0",
   "metadata": {},
   "outputs": [],
   "source": []
  },
  {
   "cell_type": "code",
   "execution_count": 28,
   "id": "db703322",
   "metadata": {
    "ExecuteTime": {
     "end_time": "2023-12-17T16:49:02.912536Z",
     "start_time": "2023-12-17T16:49:02.909411Z"
    }
   },
   "outputs": [],
   "source": [
    "unrate = un.divide(un.sum(axis=1), axis=0)\n",
    "#unrate / unrate.iloc[0]"
   ]
  },
  {
   "cell_type": "code",
   "execution_count": 31,
   "id": "0cf2d360",
   "metadata": {
    "ExecuteTime": {
     "end_time": "2023-12-17T16:50:37.433768Z",
     "start_time": "2023-12-17T16:50:37.427968Z"
    }
   },
   "outputs": [
    {
     "data": {
      "text/html": [
       "<div>\n",
       "<style scoped>\n",
       "    .dataframe tbody tr th:only-of-type {\n",
       "        vertical-align: middle;\n",
       "    }\n",
       "\n",
       "    .dataframe tbody tr th {\n",
       "        vertical-align: top;\n",
       "    }\n",
       "\n",
       "    .dataframe thead th {\n",
       "        text-align: right;\n",
       "    }\n",
       "</style>\n",
       "<table border=\"1\" class=\"dataframe\">\n",
       "  <thead>\n",
       "    <tr style=\"text-align: right;\">\n",
       "      <th>UNIONMEM</th>\n",
       "      <th>0</th>\n",
       "      <th>1</th>\n",
       "    </tr>\n",
       "    <tr>\n",
       "      <th>YEAR</th>\n",
       "      <th></th>\n",
       "      <th></th>\n",
       "    </tr>\n",
       "  </thead>\n",
       "  <tbody>\n",
       "    <tr>\n",
       "      <th>1998</th>\n",
       "      <td>0.855483</td>\n",
       "      <td>0.144517</td>\n",
       "    </tr>\n",
       "    <tr>\n",
       "      <th>2009</th>\n",
       "      <td>0.879007</td>\n",
       "      <td>0.120993</td>\n",
       "    </tr>\n",
       "    <tr>\n",
       "      <th>2015</th>\n",
       "      <td>0.892995</td>\n",
       "      <td>0.107005</td>\n",
       "    </tr>\n",
       "    <tr>\n",
       "      <th>2020</th>\n",
       "      <td>0.887641</td>\n",
       "      <td>0.112359</td>\n",
       "    </tr>\n",
       "  </tbody>\n",
       "</table>\n",
       "</div>"
      ],
      "text/plain": [
       "UNIONMEM         0         1\n",
       "YEAR                        \n",
       "1998      0.855483  0.144517\n",
       "2009      0.879007  0.120993\n",
       "2015      0.892995  0.107005\n",
       "2020      0.887641  0.112359"
      ]
     },
     "execution_count": 31,
     "metadata": {},
     "output_type": "execute_result"
    }
   ],
   "source": [
    "unrate"
   ]
  },
  {
   "cell_type": "code",
   "execution_count": null,
   "id": "0b3dc207",
   "metadata": {},
   "outputs": [],
   "source": [
    "# Collect CPS data\n",
    "cols = ['YEAR', 'MONTH', 'BASICWGT', 'PWSSWGT', 'WORKFT', 'HRSACT1', \n",
    "        'HRSACTT', 'HRSUSL1', 'HRSUSLT', 'HRSUSL1I', 'LFS', 'AGE', \n",
    "        'EDUC', 'FEMALE', 'COW1', 'INDGRP', 'FORBORN', 'MJH', 'PTREASON',\n",
    "        'FTLF', 'PTECON', 'ABSTYPE', 'WANTFT']\n",
    "\n",
    "# Worker category\n",
    "wcat = lambda x: (np.where(x['COW1'].isin(['Federal Government', 'State Government', 'Local Government']), \n",
    "                           'Employed, Public Sector',\n",
    "                  np.where(x['COW1'].isin(['Self-employed Unincorporated', 'Self-employed Incorporated']), \n",
    "                           'Self-Employed', 'Employed, Private Sector')))\n",
    "\n",
    "# Impute hours for people whose hours vary\n",
    "hrsimp = lambda x: np.where(x['HRSUSL1'] == -4, x['HRSUSL1I'], x['HRSUSL1'])\n",
    "    \n",
    "df = pd.concat([pd.read_feather(cps_dir / f'cps{year}.ft', columns=cols)\n",
    "                  .query('AGE > 15 and LFS == \"Employed\"')\n",
    "                  .assign(WCAT = wcat, HRSIMP = hrsimp)\n",
    "                 for year in range(1994, 2024)])"
   ]
  },
  {
   "cell_type": "code",
   "execution_count": null,
   "id": "dd1587f9",
   "metadata": {},
   "outputs": [],
   "source": []
  },
  {
   "cell_type": "code",
   "execution_count": null,
   "id": "e3b19074",
   "metadata": {},
   "outputs": [],
   "source": []
  },
  {
   "cell_type": "code",
   "execution_count": 18,
   "id": "d8a45b82",
   "metadata": {
    "ExecuteTime": {
     "end_time": "2023-12-17T16:45:54.837911Z",
     "start_time": "2023-12-17T16:45:54.835339Z"
    }
   },
   "outputs": [],
   "source": [
    "unrate = (un[1] / (un[1] + un[0]))"
   ]
  },
  {
   "cell_type": "code",
   "execution_count": 19,
   "id": "45d3e7c8",
   "metadata": {
    "ExecuteTime": {
     "end_time": "2023-12-17T16:46:05.845564Z",
     "start_time": "2023-12-17T16:46:05.839243Z"
    }
   },
   "outputs": [
    {
     "data": {
      "text/plain": [
       "YEAR\n",
       "1998    1.000000\n",
       "2009    0.837221\n",
       "2015    0.740429\n",
       "2020    0.777477\n",
       "dtype: float32"
      ]
     },
     "execution_count": 19,
     "metadata": {},
     "output_type": "execute_result"
    }
   ],
   "source": [
    "unrate / unrate.iloc[0]"
   ]
  },
  {
   "cell_type": "code",
   "execution_count": null,
   "id": "424adbb9",
   "metadata": {},
   "outputs": [],
   "source": []
  },
  {
   "cell_type": "code",
   "execution_count": null,
   "id": "612b3860",
   "metadata": {},
   "outputs": [],
   "source": []
  },
  {
   "cell_type": "code",
   "execution_count": null,
   "id": "67758bdc",
   "metadata": {},
   "outputs": [],
   "source": []
  }
 ],
 "metadata": {
  "kernelspec": {
   "display_name": "Python 3 (ipykernel)",
   "language": "python",
   "name": "python3"
  },
  "language_info": {
   "codemirror_mode": {
    "name": "ipython",
    "version": 3
   },
   "file_extension": ".py",
   "mimetype": "text/x-python",
   "name": "python",
   "nbconvert_exporter": "python",
   "pygments_lexer": "ipython3",
   "version": "3.8.13"
  }
 },
 "nbformat": 4,
 "nbformat_minor": 5
}
