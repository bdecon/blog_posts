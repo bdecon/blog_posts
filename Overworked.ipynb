{
 "cells": [
  {
   "cell_type": "markdown",
   "metadata": {},
   "source": [
    "### Who are the overworked?"
   ]
  },
  {
   "cell_type": "code",
   "execution_count": 2,
   "metadata": {
    "ExecuteTime": {
     "end_time": "2020-12-05T00:25:04.812799Z",
     "start_time": "2020-12-05T00:25:04.616413Z"
    }
   },
   "outputs": [],
   "source": [
    "import pandas as pd\n",
    "import numpy as np\n",
    "import os\n",
    "\n",
    "os.chdir('/home/brian/Documents/CPS/data/clean')"
   ]
  },
  {
   "cell_type": "code",
   "execution_count": null,
   "metadata": {},
   "outputs": [],
   "source": []
  },
  {
   "cell_type": "code",
   "execution_count": 17,
   "metadata": {
    "ExecuteTime": {
     "end_time": "2020-12-05T01:44:47.749218Z",
     "start_time": "2020-12-05T01:44:45.830098Z"
    }
   },
   "outputs": [],
   "source": [
    "columns = ['MONTH', 'YEAR', 'LFS', 'INDGRP', 'AGE', 'PWSSWGT', 'BASICWGT',\n",
    "           'NILFREASON', 'UNEMPTYPE', 'PREMPHRS', 'HRSACTT', 'CPSID',\n",
    "           'HRSACT1', 'MJH', 'STATE']\n",
    "\n",
    "df = pd.concat([(pd.read_feather(f'cps{year}.ft', columns=columns))\n",
    "      for year in range(1994, 2021)])"
   ]
  },
  {
   "cell_type": "code",
   "execution_count": null,
   "metadata": {},
   "outputs": [],
   "source": []
  },
  {
   "cell_type": "code",
   "execution_count": 18,
   "metadata": {
    "ExecuteTime": {
     "end_time": "2020-12-05T01:44:50.256928Z",
     "start_time": "2020-12-05T01:44:49.717664Z"
    }
   },
   "outputs": [],
   "source": [
    "dfm = df.query('YEAR == 2020 and MONTH in [9, 10]')"
   ]
  },
  {
   "cell_type": "code",
   "execution_count": null,
   "metadata": {},
   "outputs": [],
   "source": []
  },
  {
   "cell_type": "code",
   "execution_count": 19,
   "metadata": {
    "ExecuteTime": {
     "end_time": "2020-12-05T01:45:55.005512Z",
     "start_time": "2020-12-05T01:45:54.999388Z"
    }
   },
   "outputs": [],
   "source": [
    "dfm2 = dfm.query('AGE > 15 and AGE < 25')"
   ]
  },
  {
   "cell_type": "code",
   "execution_count": 22,
   "metadata": {
    "ExecuteTime": {
     "end_time": "2020-12-05T02:13:37.596041Z",
     "start_time": "2020-12-05T02:13:37.569827Z"
    }
   },
   "outputs": [
    {
     "data": {
      "text/plain": [
       "STATE\n",
       "HI    0.701964\n",
       "NV    0.718903\n",
       "WA    0.745639\n",
       "MI    0.754881\n",
       "NM    0.764683\n",
       "DC    0.768405\n",
       "TN    0.773987\n",
       "AZ    0.795874\n",
       "NY    0.803610\n",
       "FL    0.803671\n",
       "OR    0.809514\n",
       "PA    0.809608\n",
       "OK    0.810158\n",
       "MS    0.814680\n",
       "CA    0.815165\n",
       "GA    0.815318\n",
       "LA    0.815553\n",
       "WV    0.815821\n",
       "TX    0.818334\n",
       "AK    0.819260\n",
       "NH    0.819441\n",
       "VT    0.820502\n",
       "CT    0.821640\n",
       "NJ    0.823653\n",
       "IN    0.824798\n",
       "WY    0.825989\n",
       "AR    0.827012\n",
       "DE    0.830385\n",
       "RI    0.831064\n",
       "KY    0.831501\n",
       "SC    0.831886\n",
       "IL    0.837890\n",
       "ND    0.838119\n",
       "MO    0.838898\n",
       "ID    0.843806\n",
       "MA    0.844841\n",
       "NC    0.845542\n",
       "OH    0.850428\n",
       "MN    0.850903\n",
       "KS    0.851482\n",
       "MD    0.852858\n",
       "IA    0.854681\n",
       "ME    0.854742\n",
       "MT    0.855110\n",
       "WI    0.855283\n",
       "UT    0.868077\n",
       "NE    0.872218\n",
       "CO    0.873606\n",
       "AL    0.877104\n",
       "SD    0.887925\n",
       "VA    0.893207\n",
       "Name: BASICWGT, dtype: float32"
      ]
     },
     "execution_count": 22,
     "metadata": {},
     "output_type": "execute_result"
    }
   ],
   "source": [
    "(dfm2.query('LFS == \"Employed\" or NILFREASON == \"School\"').groupby('STATE').BASICWGT.sum() / dfm2.groupby('STATE').BASICWGT.sum()).sort_values()"
   ]
  },
  {
   "cell_type": "code",
   "execution_count": null,
   "metadata": {},
   "outputs": [],
   "source": []
  },
  {
   "cell_type": "code",
   "execution_count": 16,
   "metadata": {
    "ExecuteTime": {
     "end_time": "2020-12-05T00:54:46.660492Z",
     "start_time": "2020-12-05T00:54:46.606522Z"
    }
   },
   "outputs": [
    {
     "data": {
      "text/html": [
       "<div>\n",
       "<style scoped>\n",
       "    .dataframe tbody tr th:only-of-type {\n",
       "        vertical-align: middle;\n",
       "    }\n",
       "\n",
       "    .dataframe tbody tr th {\n",
       "        vertical-align: top;\n",
       "    }\n",
       "\n",
       "    .dataframe thead th {\n",
       "        text-align: right;\n",
       "    }\n",
       "</style>\n",
       "<table border=\"1\" class=\"dataframe\">\n",
       "  <thead>\n",
       "    <tr style=\"text-align: right;\">\n",
       "      <th></th>\n",
       "      <th>MONTH</th>\n",
       "      <th>YEAR</th>\n",
       "      <th>LFS</th>\n",
       "      <th>INDGRP</th>\n",
       "      <th>AGE</th>\n",
       "      <th>PWSSWGT</th>\n",
       "      <th>BASICWGT</th>\n",
       "      <th>NILFREASON</th>\n",
       "      <th>UNEMPTYPE</th>\n",
       "      <th>PREMPHRS</th>\n",
       "      <th>HRSACTT</th>\n",
       "      <th>CPSID</th>\n",
       "      <th>HRSACT1</th>\n",
       "      <th>MJH</th>\n",
       "    </tr>\n",
       "  </thead>\n",
       "  <tbody>\n",
       "    <tr>\n",
       "      <th>402657</th>\n",
       "      <td>9</td>\n",
       "      <td>2020</td>\n",
       "      <td>Unemployed</td>\n",
       "      <td>Finance and business services</td>\n",
       "      <td>27</td>\n",
       "      <td>2664.728027</td>\n",
       "      <td>2792.458252</td>\n",
       "      <td>nan</td>\n",
       "      <td>Job Leaver</td>\n",
       "      <td>0</td>\n",
       "      <td>-1</td>\n",
       "      <td>200745615.0</td>\n",
       "      <td>-1</td>\n",
       "      <td>NaN</td>\n",
       "    </tr>\n",
       "    <tr>\n",
       "      <th>402660</th>\n",
       "      <td>9</td>\n",
       "      <td>2020</td>\n",
       "      <td>Unemployed</td>\n",
       "      <td>Finance and business services</td>\n",
       "      <td>30</td>\n",
       "      <td>2362.579834</td>\n",
       "      <td>2140.265137</td>\n",
       "      <td>nan</td>\n",
       "      <td>Job Loser</td>\n",
       "      <td>0</td>\n",
       "      <td>-1</td>\n",
       "      <td>200914387.0</td>\n",
       "      <td>-1</td>\n",
       "      <td>NaN</td>\n",
       "    </tr>\n",
       "    <tr>\n",
       "      <th>402695</th>\n",
       "      <td>9</td>\n",
       "      <td>2020</td>\n",
       "      <td>Unemployed</td>\n",
       "      <td>NaN</td>\n",
       "      <td>25</td>\n",
       "      <td>2652.108887</td>\n",
       "      <td>2771.120850</td>\n",
       "      <td>nan</td>\n",
       "      <td>New Entrant</td>\n",
       "      <td>0</td>\n",
       "      <td>-1</td>\n",
       "      <td>200900079.0</td>\n",
       "      <td>-1</td>\n",
       "      <td>NaN</td>\n",
       "    </tr>\n",
       "    <tr>\n",
       "      <th>402696</th>\n",
       "      <td>9</td>\n",
       "      <td>2020</td>\n",
       "      <td>Unemployed</td>\n",
       "      <td>Manufacturing</td>\n",
       "      <td>32</td>\n",
       "      <td>2968.880371</td>\n",
       "      <td>3002.019287</td>\n",
       "      <td>nan</td>\n",
       "      <td>Re-entrant</td>\n",
       "      <td>0</td>\n",
       "      <td>-1</td>\n",
       "      <td>200922219.0</td>\n",
       "      <td>-1</td>\n",
       "      <td>NaN</td>\n",
       "    </tr>\n",
       "    <tr>\n",
       "      <th>402721</th>\n",
       "      <td>9</td>\n",
       "      <td>2020</td>\n",
       "      <td>Unemployed</td>\n",
       "      <td>Education and health</td>\n",
       "      <td>41</td>\n",
       "      <td>1637.311401</td>\n",
       "      <td>1699.768433</td>\n",
       "      <td>nan</td>\n",
       "      <td>Job Loser</td>\n",
       "      <td>0</td>\n",
       "      <td>-1</td>\n",
       "      <td>190710054.0</td>\n",
       "      <td>-1</td>\n",
       "      <td>NaN</td>\n",
       "    </tr>\n",
       "    <tr>\n",
       "      <th>...</th>\n",
       "      <td>...</td>\n",
       "      <td>...</td>\n",
       "      <td>...</td>\n",
       "      <td>...</td>\n",
       "      <td>...</td>\n",
       "      <td>...</td>\n",
       "      <td>...</td>\n",
       "      <td>...</td>\n",
       "      <td>...</td>\n",
       "      <td>...</td>\n",
       "      <td>...</td>\n",
       "      <td>...</td>\n",
       "      <td>...</td>\n",
       "      <td>...</td>\n",
       "    </tr>\n",
       "    <tr>\n",
       "      <th>931934</th>\n",
       "      <td>10</td>\n",
       "      <td>2020</td>\n",
       "      <td>Unemployed</td>\n",
       "      <td>Construction and mining</td>\n",
       "      <td>66</td>\n",
       "      <td>301.807800</td>\n",
       "      <td>299.848114</td>\n",
       "      <td>nan</td>\n",
       "      <td>Job Loser</td>\n",
       "      <td>0</td>\n",
       "      <td>-1</td>\n",
       "      <td>190709307.0</td>\n",
       "      <td>-1</td>\n",
       "      <td>NaN</td>\n",
       "    </tr>\n",
       "    <tr>\n",
       "      <th>931959</th>\n",
       "      <td>10</td>\n",
       "      <td>2020</td>\n",
       "      <td>Unemployed</td>\n",
       "      <td>Finance and business services</td>\n",
       "      <td>37</td>\n",
       "      <td>255.276794</td>\n",
       "      <td>255.921799</td>\n",
       "      <td>nan</td>\n",
       "      <td>Re-entrant</td>\n",
       "      <td>0</td>\n",
       "      <td>-1</td>\n",
       "      <td>201056724.0</td>\n",
       "      <td>-1</td>\n",
       "      <td>NaN</td>\n",
       "    </tr>\n",
       "    <tr>\n",
       "      <th>931986</th>\n",
       "      <td>10</td>\n",
       "      <td>2020</td>\n",
       "      <td>Unemployed</td>\n",
       "      <td>Leisure and hospitality</td>\n",
       "      <td>55</td>\n",
       "      <td>318.413910</td>\n",
       "      <td>280.234802</td>\n",
       "      <td>nan</td>\n",
       "      <td>Job Loser</td>\n",
       "      <td>0</td>\n",
       "      <td>-1</td>\n",
       "      <td>191051513.0</td>\n",
       "      <td>-1</td>\n",
       "      <td>NaN</td>\n",
       "    </tr>\n",
       "    <tr>\n",
       "      <th>931991</th>\n",
       "      <td>10</td>\n",
       "      <td>2020</td>\n",
       "      <td>Unemployed</td>\n",
       "      <td>Finance and business services</td>\n",
       "      <td>41</td>\n",
       "      <td>326.508301</td>\n",
       "      <td>305.087189</td>\n",
       "      <td>nan</td>\n",
       "      <td>Re-entrant</td>\n",
       "      <td>0</td>\n",
       "      <td>-1</td>\n",
       "      <td>201030264.0</td>\n",
       "      <td>-1</td>\n",
       "      <td>NaN</td>\n",
       "    </tr>\n",
       "    <tr>\n",
       "      <th>932003</th>\n",
       "      <td>10</td>\n",
       "      <td>2020</td>\n",
       "      <td>Unemployed</td>\n",
       "      <td>Construction and mining</td>\n",
       "      <td>61</td>\n",
       "      <td>301.619202</td>\n",
       "      <td>308.347687</td>\n",
       "      <td>nan</td>\n",
       "      <td>Job Leaver</td>\n",
       "      <td>0</td>\n",
       "      <td>-1</td>\n",
       "      <td>191055710.0</td>\n",
       "      <td>-1</td>\n",
       "      <td>NaN</td>\n",
       "    </tr>\n",
       "  </tbody>\n",
       "</table>\n",
       "<p>11269 rows × 14 columns</p>\n",
       "</div>"
      ],
      "text/plain": [
       "        MONTH  YEAR         LFS                         INDGRP  AGE  \\\n",
       "402657      9  2020  Unemployed  Finance and business services   27   \n",
       "402660      9  2020  Unemployed  Finance and business services   30   \n",
       "402695      9  2020  Unemployed                            NaN   25   \n",
       "402696      9  2020  Unemployed                  Manufacturing   32   \n",
       "402721      9  2020  Unemployed           Education and health   41   \n",
       "...       ...   ...         ...                            ...  ...   \n",
       "931934     10  2020  Unemployed        Construction and mining   66   \n",
       "931959     10  2020  Unemployed  Finance and business services   37   \n",
       "931986     10  2020  Unemployed        Leisure and hospitality   55   \n",
       "931991     10  2020  Unemployed  Finance and business services   41   \n",
       "932003     10  2020  Unemployed        Construction and mining   61   \n",
       "\n",
       "            PWSSWGT     BASICWGT NILFREASON    UNEMPTYPE  PREMPHRS  HRSACTT  \\\n",
       "402657  2664.728027  2792.458252        nan   Job Leaver         0       -1   \n",
       "402660  2362.579834  2140.265137        nan    Job Loser         0       -1   \n",
       "402695  2652.108887  2771.120850        nan  New Entrant         0       -1   \n",
       "402696  2968.880371  3002.019287        nan   Re-entrant         0       -1   \n",
       "402721  1637.311401  1699.768433        nan    Job Loser         0       -1   \n",
       "...             ...          ...        ...          ...       ...      ...   \n",
       "931934   301.807800   299.848114        nan    Job Loser         0       -1   \n",
       "931959   255.276794   255.921799        nan   Re-entrant         0       -1   \n",
       "931986   318.413910   280.234802        nan    Job Loser         0       -1   \n",
       "931991   326.508301   305.087189        nan   Re-entrant         0       -1   \n",
       "932003   301.619202   308.347687        nan   Job Leaver         0       -1   \n",
       "\n",
       "              CPSID  HRSACT1 MJH  \n",
       "402657  200745615.0       -1 NaN  \n",
       "402660  200914387.0       -1 NaN  \n",
       "402695  200900079.0       -1 NaN  \n",
       "402696  200922219.0       -1 NaN  \n",
       "402721  190710054.0       -1 NaN  \n",
       "...             ...      ...  ..  \n",
       "931934  190709307.0       -1 NaN  \n",
       "931959  201056724.0       -1 NaN  \n",
       "931986  191051513.0       -1 NaN  \n",
       "931991  201030264.0       -1 NaN  \n",
       "932003  191055710.0       -1 NaN  \n",
       "\n",
       "[11269 rows x 14 columns]"
      ]
     },
     "execution_count": 16,
     "metadata": {},
     "output_type": "execute_result"
    }
   ],
   "source": [
    "dfm.query('LFS == \"Unemployed\" or NILFREASON == \"Discouraged\"')"
   ]
  },
  {
   "cell_type": "code",
   "execution_count": null,
   "metadata": {},
   "outputs": [],
   "source": []
  },
  {
   "cell_type": "code",
   "execution_count": null,
   "metadata": {},
   "outputs": [],
   "source": []
  },
  {
   "cell_type": "code",
   "execution_count": null,
   "metadata": {},
   "outputs": [],
   "source": []
  },
  {
   "cell_type": "code",
   "execution_count": null,
   "metadata": {},
   "outputs": [],
   "source": []
  },
  {
   "cell_type": "code",
   "execution_count": 140,
   "metadata": {
    "ExecuteTime": {
     "end_time": "2020-12-04T05:51:41.003244Z",
     "start_time": "2020-12-04T05:51:40.916099Z"
    }
   },
   "outputs": [
    {
     "data": {
      "text/plain": [
       "YEAR  MONTH\n",
       "2000  1        24792742.0\n",
       "      2        26486602.0\n",
       "      3        26218760.0\n",
       "      4        26820172.0\n",
       "      5        27057444.0\n",
       "                  ...    \n",
       "2020  6        19236732.0\n",
       "      7        20173578.0\n",
       "      8        21402270.0\n",
       "      9        18954740.0\n",
       "      10       22669116.0\n",
       "Name: BASICWGT, Length: 250, dtype: float32"
      ]
     },
     "execution_count": 140,
     "metadata": {},
     "output_type": "execute_result"
    }
   ],
   "source": [
    "df.groupby(['YEAR', 'MONTH', 'P']).BASICWGT.sum()#.plot()"
   ]
  },
  {
   "cell_type": "code",
   "execution_count": 138,
   "metadata": {
    "ExecuteTime": {
     "end_time": "2020-12-04T05:33:24.176834Z",
     "start_time": "2020-12-04T05:33:24.174142Z"
    }
   },
   "outputs": [
    {
     "data": {
      "text/plain": [
       "2.0"
      ]
     },
     "execution_count": 138,
     "metadata": {},
     "output_type": "execute_result"
    }
   ],
   "source": [
    "(8 / 40) * 10"
   ]
  },
  {
   "cell_type": "code",
   "execution_count": null,
   "metadata": {},
   "outputs": [],
   "source": []
  },
  {
   "cell_type": "code",
   "execution_count": 53,
   "metadata": {
    "ExecuteTime": {
     "end_time": "2020-12-02T23:43:12.861455Z",
     "start_time": "2020-12-02T23:43:12.859328Z"
    }
   },
   "outputs": [],
   "source": [
    "cols = ['YEAR', 'MONTH', 'FEMALE', 'EDUC', 'AGE', 'LFS', 'HRSACTT',\n",
    "        'HRWAGE', 'WKWAGE', 'PWORWGT', 'BASICWGT', 'MJH', 'HRSUSL1',\n",
    "        'COW1', 'COW2', 'PWSSWGT']\n",
    "#df = pd.read_feather('cps2015.ft', columns=cols)"
   ]
  },
  {
   "cell_type": "code",
   "execution_count": null,
   "metadata": {},
   "outputs": [],
   "source": []
  },
  {
   "cell_type": "code",
   "execution_count": 87,
   "metadata": {
    "ExecuteTime": {
     "end_time": "2020-12-03T04:26:30.375968Z",
     "start_time": "2020-12-03T04:26:27.216986Z"
    }
   },
   "outputs": [
    {
     "name": "stdout",
     "output_type": "stream",
     "text": [
      "1994\n",
      "0.048187435\n",
      "14.444749\n",
      "1995\n",
      "0.046919003\n",
      "14.918736\n",
      "1996\n",
      "0.04838114\n",
      "15.336531\n",
      "1997\n",
      "0.04719681\n",
      "15.51097\n",
      "1998\n",
      "0.044101965\n",
      "16.07187\n",
      "1999\n",
      "0.048793457\n",
      "16.887903\n",
      "2000\n",
      "0.048898347\n",
      "17.591807567088452\n",
      "2001\n",
      "0.047779355\n",
      "18.197806953726563\n",
      "2002\n",
      "0.05056088\n",
      "18.85879470215049\n",
      "2003\n",
      "0.04899502\n",
      "19.12831\n",
      "2004\n",
      "0.048857447\n",
      "19.753944\n",
      "2005\n",
      "0.050410386\n",
      "20.114872\n",
      "2006\n",
      "0.049133465\n",
      "20.979765\n",
      "2007\n",
      "0.05112239\n",
      "21.937363\n",
      "2008\n",
      "0.05194564\n",
      "22.612444\n",
      "2009\n",
      "0.04736717\n",
      "22.900805\n",
      "2010\n",
      "0.049932282\n",
      "23.452568\n",
      "2011\n",
      "0.04857675\n",
      "23.759613\n",
      "2012\n",
      "0.047519524\n",
      "24.169657\n",
      "2013\n",
      "0.04774016\n",
      "24.650139\n",
      "2014\n",
      "0.047103647\n",
      "24.622482\n",
      "2015\n",
      "0.046061065\n",
      "25.627697\n",
      "2016\n",
      "0.047286876\n",
      "25.863987\n",
      "2017\n",
      "0.046827834\n",
      "26.89394\n",
      "2018\n",
      "0.048552223\n",
      "27.0543\n",
      "2019\n",
      "0.049118128\n",
      "28.150917\n",
      "2020\n",
      "0.04557881\n",
      "30.212587\n"
     ]
    }
   ],
   "source": [
    "govcow = ['Federal Government', 'State Government', 'Local Government']\n",
    "\n",
    "for year in range(1994, 2021):\n",
    "    print(year)\n",
    "    df = pd.read_feather(f'cps{year}.ft', columns=cols).query('MONTH in [4, 5, 6, 7, 8, 9, 10]')\n",
    "    pop = df.PWSSWGT.sum()\n",
    "    gov = df.query('HRSACTT >= 35 and LFS == \"Employed\" and COW1 in @govcow')\n",
    "    print(gov.PWSSWGT.sum() / pop)\n",
    "    gov = gov.query('HRWAGE >= 0')\n",
    "    wage = np.average(gov.HRWAGE, weights=gov.PWORWGT)\n",
    "    print(wage)"
   ]
  },
  {
   "cell_type": "code",
   "execution_count": 81,
   "metadata": {
    "ExecuteTime": {
     "end_time": "2020-12-03T04:14:27.914545Z",
     "start_time": "2020-12-03T04:14:27.860855Z"
    }
   },
   "outputs": [
    {
     "data": {
      "text/html": [
       "<div>\n",
       "<style scoped>\n",
       "    .dataframe tbody tr th:only-of-type {\n",
       "        vertical-align: middle;\n",
       "    }\n",
       "\n",
       "    .dataframe tbody tr th {\n",
       "        vertical-align: top;\n",
       "    }\n",
       "\n",
       "    .dataframe thead th {\n",
       "        text-align: right;\n",
       "    }\n",
       "</style>\n",
       "<table border=\"1\" class=\"dataframe\">\n",
       "  <thead>\n",
       "    <tr style=\"text-align: right;\">\n",
       "      <th></th>\n",
       "      <th>YEAR</th>\n",
       "      <th>MONTH</th>\n",
       "      <th>FEMALE</th>\n",
       "      <th>EDUC</th>\n",
       "      <th>AGE</th>\n",
       "      <th>LFS</th>\n",
       "      <th>HRSACTT</th>\n",
       "      <th>HRWAGE</th>\n",
       "      <th>WKWAGE</th>\n",
       "      <th>PWORWGT</th>\n",
       "      <th>BASICWGT</th>\n",
       "      <th>MJH</th>\n",
       "      <th>HRSUSL1</th>\n",
       "      <th>COW1</th>\n",
       "      <th>COW2</th>\n",
       "      <th>PWSSWGT</th>\n",
       "    </tr>\n",
       "  </thead>\n",
       "  <tbody>\n",
       "    <tr>\n",
       "      <th>105</th>\n",
       "      <td>2020</td>\n",
       "      <td>4</td>\n",
       "      <td>1</td>\n",
       "      <td>COLL</td>\n",
       "      <td>63</td>\n",
       "      <td>Employed</td>\n",
       "      <td>40</td>\n",
       "      <td>29.000000</td>\n",
       "      <td>1160.000000</td>\n",
       "      <td>7154.916016</td>\n",
       "      <td>1786.710815</td>\n",
       "      <td>0.0</td>\n",
       "      <td>40</td>\n",
       "      <td>Local Government</td>\n",
       "      <td>nan</td>\n",
       "      <td>1848.750244</td>\n",
       "    </tr>\n",
       "    <tr>\n",
       "      <th>184</th>\n",
       "      <td>2020</td>\n",
       "      <td>4</td>\n",
       "      <td>1</td>\n",
       "      <td>HS</td>\n",
       "      <td>46</td>\n",
       "      <td>Employed</td>\n",
       "      <td>50</td>\n",
       "      <td>18.000000</td>\n",
       "      <td>720.000000</td>\n",
       "      <td>10410.001953</td>\n",
       "      <td>2391.937500</td>\n",
       "      <td>0.0</td>\n",
       "      <td>50</td>\n",
       "      <td>Local Government</td>\n",
       "      <td>nan</td>\n",
       "      <td>2415.450684</td>\n",
       "    </tr>\n",
       "    <tr>\n",
       "      <th>266</th>\n",
       "      <td>2020</td>\n",
       "      <td>4</td>\n",
       "      <td>1</td>\n",
       "      <td>COLL</td>\n",
       "      <td>36</td>\n",
       "      <td>Employed</td>\n",
       "      <td>45</td>\n",
       "      <td>19.222221</td>\n",
       "      <td>865.000000</td>\n",
       "      <td>5979.098633</td>\n",
       "      <td>1464.651855</td>\n",
       "      <td>0.0</td>\n",
       "      <td>45</td>\n",
       "      <td>Local Government</td>\n",
       "      <td>nan</td>\n",
       "      <td>1468.760864</td>\n",
       "    </tr>\n",
       "    <tr>\n",
       "      <th>277</th>\n",
       "      <td>2020</td>\n",
       "      <td>4</td>\n",
       "      <td>0</td>\n",
       "      <td>COLL</td>\n",
       "      <td>46</td>\n",
       "      <td>Employed</td>\n",
       "      <td>40</td>\n",
       "      <td>NaN</td>\n",
       "      <td>NaN</td>\n",
       "      <td>0.000000</td>\n",
       "      <td>1961.268799</td>\n",
       "      <td>0.0</td>\n",
       "      <td>40</td>\n",
       "      <td>Local Government</td>\n",
       "      <td>nan</td>\n",
       "      <td>1940.115845</td>\n",
       "    </tr>\n",
       "    <tr>\n",
       "      <th>303</th>\n",
       "      <td>2020</td>\n",
       "      <td>4</td>\n",
       "      <td>1</td>\n",
       "      <td>COLL</td>\n",
       "      <td>49</td>\n",
       "      <td>Employed</td>\n",
       "      <td>40</td>\n",
       "      <td>NaN</td>\n",
       "      <td>NaN</td>\n",
       "      <td>0.000000</td>\n",
       "      <td>2523.990479</td>\n",
       "      <td>0.0</td>\n",
       "      <td>40</td>\n",
       "      <td>Local Government</td>\n",
       "      <td>nan</td>\n",
       "      <td>2548.801514</td>\n",
       "    </tr>\n",
       "    <tr>\n",
       "      <th>...</th>\n",
       "      <td>...</td>\n",
       "      <td>...</td>\n",
       "      <td>...</td>\n",
       "      <td>...</td>\n",
       "      <td>...</td>\n",
       "      <td>...</td>\n",
       "      <td>...</td>\n",
       "      <td>...</td>\n",
       "      <td>...</td>\n",
       "      <td>...</td>\n",
       "      <td>...</td>\n",
       "      <td>...</td>\n",
       "      <td>...</td>\n",
       "      <td>...</td>\n",
       "      <td>...</td>\n",
       "      <td>...</td>\n",
       "    </tr>\n",
       "    <tr>\n",
       "      <th>931918</th>\n",
       "      <td>2020</td>\n",
       "      <td>10</td>\n",
       "      <td>1</td>\n",
       "      <td>HS</td>\n",
       "      <td>55</td>\n",
       "      <td>Employed</td>\n",
       "      <td>40</td>\n",
       "      <td>17.740000</td>\n",
       "      <td>709.599976</td>\n",
       "      <td>1093.285645</td>\n",
       "      <td>261.488007</td>\n",
       "      <td>0.0</td>\n",
       "      <td>40</td>\n",
       "      <td>Local Government</td>\n",
       "      <td>nan</td>\n",
       "      <td>262.674103</td>\n",
       "    </tr>\n",
       "    <tr>\n",
       "      <th>931952</th>\n",
       "      <td>2020</td>\n",
       "      <td>10</td>\n",
       "      <td>1</td>\n",
       "      <td>HS</td>\n",
       "      <td>34</td>\n",
       "      <td>Employed</td>\n",
       "      <td>40</td>\n",
       "      <td>NaN</td>\n",
       "      <td>NaN</td>\n",
       "      <td>0.000000</td>\n",
       "      <td>303.372986</td>\n",
       "      <td>0.0</td>\n",
       "      <td>40</td>\n",
       "      <td>Local Government</td>\n",
       "      <td>nan</td>\n",
       "      <td>305.020111</td>\n",
       "    </tr>\n",
       "    <tr>\n",
       "      <th>931965</th>\n",
       "      <td>2020</td>\n",
       "      <td>10</td>\n",
       "      <td>1</td>\n",
       "      <td>HS</td>\n",
       "      <td>29</td>\n",
       "      <td>Employed</td>\n",
       "      <td>40</td>\n",
       "      <td>NaN</td>\n",
       "      <td>NaN</td>\n",
       "      <td>0.000000</td>\n",
       "      <td>324.564301</td>\n",
       "      <td>0.0</td>\n",
       "      <td>40</td>\n",
       "      <td>Local Government</td>\n",
       "      <td>nan</td>\n",
       "      <td>327.352203</td>\n",
       "    </tr>\n",
       "    <tr>\n",
       "      <th>931972</th>\n",
       "      <td>2020</td>\n",
       "      <td>10</td>\n",
       "      <td>0</td>\n",
       "      <td>HS</td>\n",
       "      <td>55</td>\n",
       "      <td>Employed</td>\n",
       "      <td>1</td>\n",
       "      <td>25.709999</td>\n",
       "      <td>1000.000000</td>\n",
       "      <td>1126.597168</td>\n",
       "      <td>287.461792</td>\n",
       "      <td>0.0</td>\n",
       "      <td>40</td>\n",
       "      <td>Local Government</td>\n",
       "      <td>nan</td>\n",
       "      <td>287.775299</td>\n",
       "    </tr>\n",
       "    <tr>\n",
       "      <th>931994</th>\n",
       "      <td>2020</td>\n",
       "      <td>10</td>\n",
       "      <td>1</td>\n",
       "      <td>COLL</td>\n",
       "      <td>56</td>\n",
       "      <td>Employed</td>\n",
       "      <td>40</td>\n",
       "      <td>NaN</td>\n",
       "      <td>NaN</td>\n",
       "      <td>0.000000</td>\n",
       "      <td>338.384796</td>\n",
       "      <td>0.0</td>\n",
       "      <td>40</td>\n",
       "      <td>Local Government</td>\n",
       "      <td>nan</td>\n",
       "      <td>339.919800</td>\n",
       "    </tr>\n",
       "  </tbody>\n",
       "</table>\n",
       "<p>20847 rows × 16 columns</p>\n",
       "</div>"
      ],
      "text/plain": [
       "        YEAR  MONTH FEMALE  EDUC  AGE       LFS  HRSACTT     HRWAGE  \\\n",
       "105     2020      4      1  COLL   63  Employed       40  29.000000   \n",
       "184     2020      4      1    HS   46  Employed       50  18.000000   \n",
       "266     2020      4      1  COLL   36  Employed       45  19.222221   \n",
       "277     2020      4      0  COLL   46  Employed       40        NaN   \n",
       "303     2020      4      1  COLL   49  Employed       40        NaN   \n",
       "...      ...    ...    ...   ...  ...       ...      ...        ...   \n",
       "931918  2020     10      1    HS   55  Employed       40  17.740000   \n",
       "931952  2020     10      1    HS   34  Employed       40        NaN   \n",
       "931965  2020     10      1    HS   29  Employed       40        NaN   \n",
       "931972  2020     10      0    HS   55  Employed        1  25.709999   \n",
       "931994  2020     10      1  COLL   56  Employed       40        NaN   \n",
       "\n",
       "             WKWAGE       PWORWGT     BASICWGT  MJH  HRSUSL1  \\\n",
       "105     1160.000000   7154.916016  1786.710815  0.0       40   \n",
       "184      720.000000  10410.001953  2391.937500  0.0       50   \n",
       "266      865.000000   5979.098633  1464.651855  0.0       45   \n",
       "277             NaN      0.000000  1961.268799  0.0       40   \n",
       "303             NaN      0.000000  2523.990479  0.0       40   \n",
       "...             ...           ...          ...  ...      ...   \n",
       "931918   709.599976   1093.285645   261.488007  0.0       40   \n",
       "931952          NaN      0.000000   303.372986  0.0       40   \n",
       "931965          NaN      0.000000   324.564301  0.0       40   \n",
       "931972  1000.000000   1126.597168   287.461792  0.0       40   \n",
       "931994          NaN      0.000000   338.384796  0.0       40   \n",
       "\n",
       "                    COW1 COW2      PWSSWGT  \n",
       "105     Local Government  nan  1848.750244  \n",
       "184     Local Government  nan  2415.450684  \n",
       "266     Local Government  nan  1468.760864  \n",
       "277     Local Government  nan  1940.115845  \n",
       "303     Local Government  nan  2548.801514  \n",
       "...                  ...  ...          ...  \n",
       "931918  Local Government  nan   262.674103  \n",
       "931952  Local Government  nan   305.020111  \n",
       "931965  Local Government  nan   327.352203  \n",
       "931972  Local Government  nan   287.775299  \n",
       "931994  Local Government  nan   339.919800  \n",
       "\n",
       "[20847 rows x 16 columns]"
      ]
     },
     "execution_count": 81,
     "metadata": {},
     "output_type": "execute_result"
    }
   ],
   "source": [
    "gov"
   ]
  },
  {
   "cell_type": "code",
   "execution_count": 26,
   "metadata": {
    "ExecuteTime": {
     "end_time": "2020-12-02T22:03:40.173178Z",
     "start_time": "2020-12-02T22:03:40.170323Z"
    }
   },
   "outputs": [
    {
     "data": {
      "text/plain": [
       "0.03230205"
      ]
     },
     "execution_count": 26,
     "metadata": {},
     "output_type": "execute_result"
    }
   ],
   "source": [
    "data['Local Government']"
   ]
  },
  {
   "cell_type": "code",
   "execution_count": null,
   "metadata": {},
   "outputs": [],
   "source": []
  },
  {
   "cell_type": "code",
   "execution_count": 23,
   "metadata": {
    "ExecuteTime": {
     "end_time": "2020-12-02T21:52:13.923145Z",
     "start_time": "2020-12-02T21:52:13.909300Z"
    }
   },
   "outputs": [
    {
     "data": {
      "text/plain": [
       "COW1\n",
       "Federal Government              0.011977\n",
       "Local Government                0.033171\n",
       "Private                         0.384211\n",
       "Self-employed Incorporated      0.017615\n",
       "Self-employed Unincorporated    0.031849\n",
       "State Government                0.023014\n",
       "Without Pay                     0.000373\n",
       "nan                             0.497789\n",
       "Name: PWSSWGT, dtype: float32"
      ]
     },
     "execution_count": 23,
     "metadata": {},
     "output_type": "execute_result"
    }
   ],
   "source": [
    "df.groupby('COW1').PWSSWGT.sum() / df.PWSSWGT.sum()"
   ]
  },
  {
   "cell_type": "code",
   "execution_count": 18,
   "metadata": {
    "ExecuteTime": {
     "end_time": "2020-12-02T21:45:03.852359Z",
     "start_time": "2020-12-02T21:45:03.805545Z"
    }
   },
   "outputs": [
    {
     "data": {
      "text/plain": [
       "COW1\n",
       "Federal Government              0.014665\n",
       "Local Government                0.039730\n",
       "Private                         0.465915\n",
       "Self-employed Incorporated      0.023812\n",
       "Self-employed Unincorporated    0.036733\n",
       "State Government                0.026681\n",
       "Without Pay                     0.000308\n",
       "nan                             0.000000\n",
       "Name: BASICWGT, dtype: float32"
      ]
     },
     "execution_count": 18,
     "metadata": {},
     "output_type": "execute_result"
    }
   ],
   "source": [
    "df.groupby('COW1').PWSSWGT.sum() / df.PWSSWGT.sum()"
   ]
  },
  {
   "cell_type": "code",
   "execution_count": 16,
   "metadata": {
    "ExecuteTime": {
     "end_time": "2020-12-02T21:44:34.539763Z",
     "start_time": "2020-12-02T21:44:34.490571Z"
    },
    "scrolled": true
   },
   "outputs": [
    {
     "data": {
      "text/plain": [
       "COW1\n",
       "Federal Government              0.015637\n",
       "Local Government                0.050219\n",
       "Private                         0.481557\n",
       "Self-employed Incorporated      0.020713\n",
       "Self-employed Unincorporated    0.048552\n",
       "State Government                0.025207\n",
       "Without Pay                     0.000648\n",
       "nan                             0.000000\n",
       "Name: BASICWGT, dtype: float32"
      ]
     },
     "execution_count": 16,
     "metadata": {},
     "output_type": "execute_result"
    }
   ],
   "source": [
    "df.groupby('COW1').PWSSWGT.sum() / df.PWSSWGT.sum()"
   ]
  },
  {
   "cell_type": "code",
   "execution_count": null,
   "metadata": {},
   "outputs": [],
   "source": []
  },
  {
   "cell_type": "code",
   "execution_count": null,
   "metadata": {},
   "outputs": [],
   "source": []
  },
  {
   "cell_type": "code",
   "execution_count": null,
   "metadata": {},
   "outputs": [],
   "source": []
  },
  {
   "cell_type": "code",
   "execution_count": null,
   "metadata": {},
   "outputs": [],
   "source": []
  },
  {
   "cell_type": "code",
   "execution_count": null,
   "metadata": {},
   "outputs": [],
   "source": []
  },
  {
   "cell_type": "code",
   "execution_count": null,
   "metadata": {},
   "outputs": [],
   "source": []
  },
  {
   "cell_type": "code",
   "execution_count": null,
   "metadata": {},
   "outputs": [],
   "source": []
  },
  {
   "cell_type": "code",
   "execution_count": null,
   "metadata": {},
   "outputs": [],
   "source": []
  },
  {
   "cell_type": "code",
   "execution_count": 13,
   "metadata": {
    "ExecuteTime": {
     "end_time": "2020-12-01T23:34:06.642948Z",
     "start_time": "2020-12-01T23:34:06.611160Z"
    }
   },
   "outputs": [],
   "source": [
    "dfm = df.query('MONTH == 10 and LFS == \"Employed\" and AGE >= 25 and AGE <= 54 and HRSACTT >= 35')"
   ]
  },
  {
   "cell_type": "code",
   "execution_count": 14,
   "metadata": {
    "ExecuteTime": {
     "end_time": "2020-12-01T23:34:07.455925Z",
     "start_time": "2020-12-01T23:34:07.421616Z"
    }
   },
   "outputs": [
    {
     "data": {
      "text/plain": [
       "MONTH  FEMALE  EDUC\n",
       "10     0       ADV     0.408199\n",
       "               COLL    0.362701\n",
       "               HS      0.326394\n",
       "               LTHS    0.283577\n",
       "               SC      0.381694\n",
       "       1       ADV     0.350494\n",
       "               COLL    0.266082\n",
       "               HS      0.188586\n",
       "               LTHS    0.187685\n",
       "               SC      0.246855\n",
       "Name: BASICWGT, dtype: float32"
      ]
     },
     "execution_count": 14,
     "metadata": {},
     "output_type": "execute_result"
    }
   ],
   "source": [
    "(dfm.query('HRSACTT > 40').groupby(['MONTH', 'FEMALE', 'EDUC']).BASICWGT.sum() / \n",
    " dfm.groupby(['MONTH', 'FEMALE', 'EDUC']).BASICWGT.sum())"
   ]
  },
  {
   "cell_type": "code",
   "execution_count": 4,
   "metadata": {
    "ExecuteTime": {
     "end_time": "2020-12-01T06:20:40.667852Z",
     "start_time": "2020-12-01T06:20:40.648384Z"
    }
   },
   "outputs": [
    {
     "data": {
      "text/plain": [
       "MONTH\n",
       "1     259501536.0\n",
       "2     259628288.0\n",
       "3     259758176.0\n",
       "4     259896352.0\n",
       "5     260046768.0\n",
       "6     260204304.0\n",
       "7     260372688.0\n",
       "8     260558192.0\n",
       "9     260742496.0\n",
       "10    260924928.0\n",
       "Name: BASICWGT, dtype: float32"
      ]
     },
     "execution_count": 4,
     "metadata": {},
     "output_type": "execute_result"
    }
   ],
   "source": [
    "df.groupby('MONTH').BASICWGT.sum()"
   ]
  },
  {
   "cell_type": "code",
   "execution_count": null,
   "metadata": {},
   "outputs": [],
   "source": []
  },
  {
   "cell_type": "code",
   "execution_count": null,
   "metadata": {},
   "outputs": [],
   "source": []
  }
 ],
 "metadata": {
  "kernelspec": {
   "display_name": "Python 3",
   "language": "python",
   "name": "python3"
  },
  "language_info": {
   "codemirror_mode": {
    "name": "ipython",
    "version": 3
   },
   "file_extension": ".py",
   "mimetype": "text/x-python",
   "name": "python",
   "nbconvert_exporter": "python",
   "pygments_lexer": "ipython3",
   "version": "3.8.6"
  }
 },
 "nbformat": 4,
 "nbformat_minor": 4
}
